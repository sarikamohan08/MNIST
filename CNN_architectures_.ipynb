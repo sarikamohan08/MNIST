{
  "nbformat": 4,
  "nbformat_minor": 0,
  "metadata": {
    "colab": {
      "name": "CNN architectures .ipynb",
      "provenance": [],
      "collapsed_sections": [],
      "authorship_tag": "ABX9TyPNMoKa2rwn53ZlKhGoG7Ot",
      "include_colab_link": true
    },
    "kernelspec": {
      "name": "python3",
      "display_name": "Python 3"
    },
    "language_info": {
      "name": "python"
    },
    "accelerator": "GPU"
  },
  "cells": [
    {
      "cell_type": "markdown",
      "metadata": {
        "id": "view-in-github",
        "colab_type": "text"
      },
      "source": [
        "<a href=\"https://colab.research.google.com/github/sarikamohan08/MNIST/blob/main/CNN_architectures_.ipynb\" target=\"_parent\"><img src=\"https://colab.research.google.com/assets/colab-badge.svg\" alt=\"Open In Colab\"/></a>"
      ]
    },
    {
      "cell_type": "markdown",
      "metadata": {
        "id": "VkYSfV_4vdJQ"
      },
      "source": [
        "importing libraries"
      ]
    },
    {
      "cell_type": "code",
      "metadata": {
        "id": "asQTvzkf9_3h"
      },
      "source": [
        "import tensorflow as tf\n",
        "import numpy as np\n",
        "import pandas as pd\n",
        "import matplotlib.pyplot as plt\n",
        "import seaborn as sns\n"
      ],
      "execution_count": 1,
      "outputs": []
    },
    {
      "cell_type": "code",
      "metadata": {
        "id": "TCPbAT6_-Pz8"
      },
      "source": [
        "from tensorflow.keras import Model\n",
        "from tensorflow.keras.models import Sequential\n",
        "from tensorflow.keras.losses import categorical_crossentropy\n",
        "from tensorflow.keras.layers import Dense, Flatten, Conv2D, MaxPooling2D,Dropout\n",
        "\n",
        "from tensorflow.keras import datasets\n",
        "from tensorflow.keras.utils import to_categorical"
      ],
      "execution_count": 2,
      "outputs": []
    },
    {
      "cell_type": "markdown",
      "metadata": {
        "id": "nXnzH86GvtVP"
      },
      "source": [
        "dataset"
      ]
    },
    {
      "cell_type": "code",
      "metadata": {
        "id": "WMiIyb45-TJV",
        "colab": {
          "base_uri": "https://localhost:8080/"
        },
        "outputId": "328f5892-99b7-48e0-b608-27e8214ae988"
      },
      "source": [
        "(x_train, y_train), (x_test, y_test) = datasets.mnist.load_data()"
      ],
      "execution_count": 3,
      "outputs": [
        {
          "output_type": "stream",
          "text": [
            "Downloading data from https://storage.googleapis.com/tensorflow/tf-keras-datasets/mnist.npz\n",
            "11493376/11490434 [==============================] - 0s 0us/step\n"
          ],
          "name": "stdout"
        }
      ]
    },
    {
      "cell_type": "markdown",
      "metadata": {
        "id": "MpkWTtqdv3VD"
      },
      "source": [
        "Peforming reshaping operation"
      ]
    },
    {
      "cell_type": "code",
      "metadata": {
        "id": "9ePVjrkn-WkM"
      },
      "source": [
        "x_train = x_train.reshape(x_train.shape[0], 28, 28, 1)\n",
        "x_test = x_test.reshape(x_test.shape[0], 28, 28, 1)"
      ],
      "execution_count": 4,
      "outputs": []
    },
    {
      "cell_type": "markdown",
      "metadata": {
        "id": "798r6-Vzv6Ls"
      },
      "source": [
        "Normalization"
      ]
    },
    {
      "cell_type": "code",
      "metadata": {
        "id": "a-SLxB4V-Y3Z"
      },
      "source": [
        "x_train = x_train / 255\n",
        "x_test = x_test / 255"
      ],
      "execution_count": 5,
      "outputs": []
    },
    {
      "cell_type": "markdown",
      "metadata": {
        "id": "jbDPtpgjv9nY"
      },
      "source": [
        " One Hot Encoding"
      ]
    },
    {
      "cell_type": "code",
      "metadata": {
        "id": "4g2H2EAX-aXt"
      },
      "source": [
        "y_train = tf.keras.utils.to_categorical(y_train, 10)\n",
        "y_test = tf.keras.utils.to_categorical(y_test, 10)"
      ],
      "execution_count": 6,
      "outputs": []
    },
    {
      "cell_type": "markdown",
      "metadata": {
        "id": "DDOcp7MN_Km2"
      },
      "source": [
        "# Model 1"
      ]
    },
    {
      "cell_type": "code",
      "metadata": {
        "id": "NlPKmcfX-ctz"
      },
      "source": [
        "model1 = Sequential()\n",
        "model1.add(Conv2D(16, kernel_size=(3,3),padding=\"same\", activation='relu', input_shape=(28,28,1)))\n",
        "model1.add(MaxPooling2D(pool_size=(2, 2)))\n",
        "model1.add(Conv2D(32, kernel_size=(3,3),padding=\"same\", activation='relu'))\n",
        "model1.add(MaxPooling2D(pool_size=(2, 2)))\n",
        "model1.add(Conv2D(64, kernel_size=(3,3), padding=\"same\",activation='relu'))\n",
        "model1.add(MaxPooling2D(pool_size=(2, 2)))\n",
        "model1.add(Dropout(0.3))\n",
        "model1.add(Flatten())\n",
        "model1.add(Dense(256, activation='relu'))\n",
        "model1.add(Dropout(0.4))\n",
        "model1.add(Dense(128, activation='relu'))\n",
        "model1.add(Dense(64, activation='relu'))\n",
        "model1.add(Dense(10, activation='softmax'))"
      ],
      "execution_count": null,
      "outputs": []
    },
    {
      "cell_type": "code",
      "metadata": {
        "colab": {
          "base_uri": "https://localhost:8080/"
        },
        "id": "DwhKkf1D-eoP",
        "outputId": "84a48a05-b63a-455f-b1c1-583afeaab21c"
      },
      "source": [
        "model1.summary()"
      ],
      "execution_count": null,
      "outputs": [
        {
          "output_type": "stream",
          "text": [
            "Model: \"sequential_22\"\n",
            "_________________________________________________________________\n",
            "Layer (type)                 Output Shape              Param #   \n",
            "=================================================================\n",
            "conv2d_66 (Conv2D)           (None, 28, 28, 16)        160       \n",
            "_________________________________________________________________\n",
            "max_pooling2d_66 (MaxPooling (None, 14, 14, 16)        0         \n",
            "_________________________________________________________________\n",
            "conv2d_67 (Conv2D)           (None, 14, 14, 32)        4640      \n",
            "_________________________________________________________________\n",
            "max_pooling2d_67 (MaxPooling (None, 7, 7, 32)          0         \n",
            "_________________________________________________________________\n",
            "conv2d_68 (Conv2D)           (None, 7, 7, 64)          18496     \n",
            "_________________________________________________________________\n",
            "max_pooling2d_68 (MaxPooling (None, 3, 3, 64)          0         \n",
            "_________________________________________________________________\n",
            "dropout_19 (Dropout)         (None, 3, 3, 64)          0         \n",
            "_________________________________________________________________\n",
            "flatten_20 (Flatten)         (None, 576)               0         \n",
            "_________________________________________________________________\n",
            "dense_77 (Dense)             (None, 256)               147712    \n",
            "_________________________________________________________________\n",
            "dropout_20 (Dropout)         (None, 256)               0         \n",
            "_________________________________________________________________\n",
            "dense_78 (Dense)             (None, 128)               32896     \n",
            "_________________________________________________________________\n",
            "dense_79 (Dense)             (None, 64)                8256      \n",
            "_________________________________________________________________\n",
            "dense_80 (Dense)             (None, 10)                650       \n",
            "=================================================================\n",
            "Total params: 212,810\n",
            "Trainable params: 212,810\n",
            "Non-trainable params: 0\n",
            "_________________________________________________________________\n"
          ],
          "name": "stdout"
        }
      ]
    },
    {
      "cell_type": "code",
      "metadata": {
        "colab": {
          "base_uri": "https://localhost:8080/"
        },
        "id": "HXXUK5R4-hAg",
        "outputId": "8a2991e1-e202-490d-d06a-a9deca4052c6"
      },
      "source": [
        "model1.compile(loss=tf.keras.metrics.categorical_crossentropy, optimizer=tf.keras.optimizers.Adam(), metrics=['accuracy'])\n",
        "history=model1.fit(x_train, y_train, batch_size=128, epochs=20, verbose=1, validation_data=(x_test, y_test))"
      ],
      "execution_count": null,
      "outputs": [
        {
          "output_type": "stream",
          "text": [
            "Epoch 1/20\n",
            "469/469 [==============================] - 3s 6ms/step - loss: 0.3540 - accuracy: 0.8835 - val_loss: 0.0627 - val_accuracy: 0.9799\n",
            "Epoch 2/20\n",
            "469/469 [==============================] - 2s 5ms/step - loss: 0.0919 - accuracy: 0.9715 - val_loss: 0.0364 - val_accuracy: 0.9885\n",
            "Epoch 3/20\n",
            "469/469 [==============================] - 2s 5ms/step - loss: 0.0678 - accuracy: 0.9790 - val_loss: 0.0304 - val_accuracy: 0.9900\n",
            "Epoch 4/20\n",
            "469/469 [==============================] - 2s 5ms/step - loss: 0.0537 - accuracy: 0.9835 - val_loss: 0.0264 - val_accuracy: 0.9908\n",
            "Epoch 5/20\n",
            "469/469 [==============================] - 2s 5ms/step - loss: 0.0486 - accuracy: 0.9851 - val_loss: 0.0216 - val_accuracy: 0.9925\n",
            "Epoch 6/20\n",
            "469/469 [==============================] - 2s 5ms/step - loss: 0.0444 - accuracy: 0.9866 - val_loss: 0.0229 - val_accuracy: 0.9926\n",
            "Epoch 7/20\n",
            "469/469 [==============================] - 2s 5ms/step - loss: 0.0365 - accuracy: 0.9888 - val_loss: 0.0214 - val_accuracy: 0.9926\n",
            "Epoch 8/20\n",
            "469/469 [==============================] - 2s 5ms/step - loss: 0.0353 - accuracy: 0.9891 - val_loss: 0.0225 - val_accuracy: 0.9925\n",
            "Epoch 9/20\n",
            "469/469 [==============================] - 2s 5ms/step - loss: 0.0320 - accuracy: 0.9899 - val_loss: 0.0219 - val_accuracy: 0.9927\n",
            "Epoch 10/20\n",
            "469/469 [==============================] - 2s 5ms/step - loss: 0.0320 - accuracy: 0.9902 - val_loss: 0.0284 - val_accuracy: 0.9907\n",
            "Epoch 11/20\n",
            "469/469 [==============================] - 2s 5ms/step - loss: 0.0284 - accuracy: 0.9909 - val_loss: 0.0264 - val_accuracy: 0.9928\n",
            "Epoch 12/20\n",
            "469/469 [==============================] - 2s 5ms/step - loss: 0.0274 - accuracy: 0.9913 - val_loss: 0.0216 - val_accuracy: 0.9929\n",
            "Epoch 13/20\n",
            "469/469 [==============================] - 2s 5ms/step - loss: 0.0260 - accuracy: 0.9919 - val_loss: 0.0246 - val_accuracy: 0.9928\n",
            "Epoch 14/20\n",
            "469/469 [==============================] - 2s 5ms/step - loss: 0.0259 - accuracy: 0.9922 - val_loss: 0.0235 - val_accuracy: 0.9930\n",
            "Epoch 15/20\n",
            "469/469 [==============================] - 2s 5ms/step - loss: 0.0238 - accuracy: 0.9928 - val_loss: 0.0233 - val_accuracy: 0.9926\n",
            "Epoch 16/20\n",
            "469/469 [==============================] - 2s 5ms/step - loss: 0.0218 - accuracy: 0.9930 - val_loss: 0.0254 - val_accuracy: 0.9930\n",
            "Epoch 17/20\n",
            "469/469 [==============================] - 2s 5ms/step - loss: 0.0205 - accuracy: 0.9936 - val_loss: 0.0242 - val_accuracy: 0.9928\n",
            "Epoch 18/20\n",
            "469/469 [==============================] - 2s 5ms/step - loss: 0.0198 - accuracy: 0.9937 - val_loss: 0.0232 - val_accuracy: 0.9925\n",
            "Epoch 19/20\n",
            "469/469 [==============================] - 2s 5ms/step - loss: 0.0187 - accuracy: 0.9945 - val_loss: 0.0242 - val_accuracy: 0.9933\n",
            "Epoch 20/20\n",
            "469/469 [==============================] - 2s 5ms/step - loss: 0.0176 - accuracy: 0.9948 - val_loss: 0.0230 - val_accuracy: 0.9937\n"
          ],
          "name": "stdout"
        }
      ]
    },
    {
      "cell_type": "code",
      "metadata": {
        "colab": {
          "base_uri": "https://localhost:8080/"
        },
        "id": "2RvXa0PqMERQ",
        "outputId": "b82e4202-247b-45e4-f98a-78fa46aba616"
      },
      "source": [
        "history.params"
      ],
      "execution_count": null,
      "outputs": [
        {
          "output_type": "execute_result",
          "data": {
            "text/plain": [
              "{'epochs': 20, 'steps': 469, 'verbose': 1}"
            ]
          },
          "metadata": {
            "tags": []
          },
          "execution_count": 149
        }
      ]
    },
    {
      "cell_type": "code",
      "metadata": {
        "colab": {
          "base_uri": "https://localhost:8080/",
          "height": 663
        },
        "id": "KtU8uBe4MGlO",
        "outputId": "84dbd73d-df08-474e-cb31-4d47dcb5d7ca"
      },
      "source": [
        "pd.DataFrame(history.history)"
      ],
      "execution_count": null,
      "outputs": [
        {
          "output_type": "execute_result",
          "data": {
            "text/html": [
              "<div>\n",
              "<style scoped>\n",
              "    .dataframe tbody tr th:only-of-type {\n",
              "        vertical-align: middle;\n",
              "    }\n",
              "\n",
              "    .dataframe tbody tr th {\n",
              "        vertical-align: top;\n",
              "    }\n",
              "\n",
              "    .dataframe thead th {\n",
              "        text-align: right;\n",
              "    }\n",
              "</style>\n",
              "<table border=\"1\" class=\"dataframe\">\n",
              "  <thead>\n",
              "    <tr style=\"text-align: right;\">\n",
              "      <th></th>\n",
              "      <th>loss</th>\n",
              "      <th>accuracy</th>\n",
              "      <th>val_loss</th>\n",
              "      <th>val_accuracy</th>\n",
              "    </tr>\n",
              "  </thead>\n",
              "  <tbody>\n",
              "    <tr>\n",
              "      <th>0</th>\n",
              "      <td>0.353985</td>\n",
              "      <td>0.883500</td>\n",
              "      <td>0.062731</td>\n",
              "      <td>0.9799</td>\n",
              "    </tr>\n",
              "    <tr>\n",
              "      <th>1</th>\n",
              "      <td>0.091882</td>\n",
              "      <td>0.971550</td>\n",
              "      <td>0.036411</td>\n",
              "      <td>0.9885</td>\n",
              "    </tr>\n",
              "    <tr>\n",
              "      <th>2</th>\n",
              "      <td>0.067763</td>\n",
              "      <td>0.978950</td>\n",
              "      <td>0.030396</td>\n",
              "      <td>0.9900</td>\n",
              "    </tr>\n",
              "    <tr>\n",
              "      <th>3</th>\n",
              "      <td>0.053745</td>\n",
              "      <td>0.983533</td>\n",
              "      <td>0.026438</td>\n",
              "      <td>0.9908</td>\n",
              "    </tr>\n",
              "    <tr>\n",
              "      <th>4</th>\n",
              "      <td>0.048645</td>\n",
              "      <td>0.985067</td>\n",
              "      <td>0.021590</td>\n",
              "      <td>0.9925</td>\n",
              "    </tr>\n",
              "    <tr>\n",
              "      <th>5</th>\n",
              "      <td>0.044441</td>\n",
              "      <td>0.986617</td>\n",
              "      <td>0.022858</td>\n",
              "      <td>0.9926</td>\n",
              "    </tr>\n",
              "    <tr>\n",
              "      <th>6</th>\n",
              "      <td>0.036457</td>\n",
              "      <td>0.988767</td>\n",
              "      <td>0.021390</td>\n",
              "      <td>0.9926</td>\n",
              "    </tr>\n",
              "    <tr>\n",
              "      <th>7</th>\n",
              "      <td>0.035294</td>\n",
              "      <td>0.989083</td>\n",
              "      <td>0.022519</td>\n",
              "      <td>0.9925</td>\n",
              "    </tr>\n",
              "    <tr>\n",
              "      <th>8</th>\n",
              "      <td>0.031984</td>\n",
              "      <td>0.989867</td>\n",
              "      <td>0.021899</td>\n",
              "      <td>0.9927</td>\n",
              "    </tr>\n",
              "    <tr>\n",
              "      <th>9</th>\n",
              "      <td>0.032013</td>\n",
              "      <td>0.990250</td>\n",
              "      <td>0.028382</td>\n",
              "      <td>0.9907</td>\n",
              "    </tr>\n",
              "    <tr>\n",
              "      <th>10</th>\n",
              "      <td>0.028353</td>\n",
              "      <td>0.990883</td>\n",
              "      <td>0.026398</td>\n",
              "      <td>0.9928</td>\n",
              "    </tr>\n",
              "    <tr>\n",
              "      <th>11</th>\n",
              "      <td>0.027383</td>\n",
              "      <td>0.991350</td>\n",
              "      <td>0.021594</td>\n",
              "      <td>0.9929</td>\n",
              "    </tr>\n",
              "    <tr>\n",
              "      <th>12</th>\n",
              "      <td>0.025982</td>\n",
              "      <td>0.991900</td>\n",
              "      <td>0.024650</td>\n",
              "      <td>0.9928</td>\n",
              "    </tr>\n",
              "    <tr>\n",
              "      <th>13</th>\n",
              "      <td>0.025935</td>\n",
              "      <td>0.992167</td>\n",
              "      <td>0.023539</td>\n",
              "      <td>0.9930</td>\n",
              "    </tr>\n",
              "    <tr>\n",
              "      <th>14</th>\n",
              "      <td>0.023763</td>\n",
              "      <td>0.992800</td>\n",
              "      <td>0.023338</td>\n",
              "      <td>0.9926</td>\n",
              "    </tr>\n",
              "    <tr>\n",
              "      <th>15</th>\n",
              "      <td>0.021761</td>\n",
              "      <td>0.993050</td>\n",
              "      <td>0.025415</td>\n",
              "      <td>0.9930</td>\n",
              "    </tr>\n",
              "    <tr>\n",
              "      <th>16</th>\n",
              "      <td>0.020503</td>\n",
              "      <td>0.993567</td>\n",
              "      <td>0.024204</td>\n",
              "      <td>0.9928</td>\n",
              "    </tr>\n",
              "    <tr>\n",
              "      <th>17</th>\n",
              "      <td>0.019787</td>\n",
              "      <td>0.993683</td>\n",
              "      <td>0.023213</td>\n",
              "      <td>0.9925</td>\n",
              "    </tr>\n",
              "    <tr>\n",
              "      <th>18</th>\n",
              "      <td>0.018666</td>\n",
              "      <td>0.994517</td>\n",
              "      <td>0.024233</td>\n",
              "      <td>0.9933</td>\n",
              "    </tr>\n",
              "    <tr>\n",
              "      <th>19</th>\n",
              "      <td>0.017638</td>\n",
              "      <td>0.994750</td>\n",
              "      <td>0.023042</td>\n",
              "      <td>0.9937</td>\n",
              "    </tr>\n",
              "  </tbody>\n",
              "</table>\n",
              "</div>"
            ],
            "text/plain": [
              "        loss  accuracy  val_loss  val_accuracy\n",
              "0   0.353985  0.883500  0.062731        0.9799\n",
              "1   0.091882  0.971550  0.036411        0.9885\n",
              "2   0.067763  0.978950  0.030396        0.9900\n",
              "3   0.053745  0.983533  0.026438        0.9908\n",
              "4   0.048645  0.985067  0.021590        0.9925\n",
              "5   0.044441  0.986617  0.022858        0.9926\n",
              "6   0.036457  0.988767  0.021390        0.9926\n",
              "7   0.035294  0.989083  0.022519        0.9925\n",
              "8   0.031984  0.989867  0.021899        0.9927\n",
              "9   0.032013  0.990250  0.028382        0.9907\n",
              "10  0.028353  0.990883  0.026398        0.9928\n",
              "11  0.027383  0.991350  0.021594        0.9929\n",
              "12  0.025982  0.991900  0.024650        0.9928\n",
              "13  0.025935  0.992167  0.023539        0.9930\n",
              "14  0.023763  0.992800  0.023338        0.9926\n",
              "15  0.021761  0.993050  0.025415        0.9930\n",
              "16  0.020503  0.993567  0.024204        0.9928\n",
              "17  0.019787  0.993683  0.023213        0.9925\n",
              "18  0.018666  0.994517  0.024233        0.9933\n",
              "19  0.017638  0.994750  0.023042        0.9937"
            ]
          },
          "metadata": {
            "tags": []
          },
          "execution_count": 150
        }
      ]
    },
    {
      "cell_type": "code",
      "metadata": {
        "colab": {
          "base_uri": "https://localhost:8080/",
          "height": 324
        },
        "id": "tyrmoGsjMJsQ",
        "outputId": "73e98048-a756-49b4-d7e2-9a862880ca20"
      },
      "source": [
        "pd.DataFrame(history.history).plot(figsize=(8, 5))\n",
        "plt.grid(True)\n",
        "plt.gca().set_ylim(0, 1)\n",
        "plt.show()"
      ],
      "execution_count": null,
      "outputs": [
        {
          "output_type": "display_data",
          "data": {
            "image/png": "[encoded data removed]",
            "text/plain": [
              "<Figure size 576x360 with 1 Axes>"
            ]
          },
          "metadata": {
            "tags": [],
            "needs_background": "light"
          }
        }
      ]
    },
    {
      "cell_type": "code",
      "metadata": {
        "colab": {
          "base_uri": "https://localhost:8080/"
        },
        "id": "h9Pvxw5u-izq",
        "outputId": "ae9d0d05-8f03-4af8-c8df-c6be0bc0e7fd"
      },
      "source": [
        "score = model1.evaluate(x_test, y_test)"
      ],
      "execution_count": null,
      "outputs": [
        {
          "output_type": "stream",
          "text": [
            "313/313 [==============================] - 1s 3ms/step - loss: 0.0230 - accuracy: 0.9937\n"
          ],
          "name": "stdout"
        }
      ]
    },
    {
      "cell_type": "code",
      "metadata": {
        "colab": {
          "base_uri": "https://localhost:8080/"
        },
        "id": "w0HzSN8H-ke5",
        "outputId": "7e4d6c12-30c7-4706-8c8a-ac9a20d5b04e"
      },
      "source": [
        "print('Test Loss:', score[0])\n",
        "print('Test accuracy:', score[1])"
      ],
      "execution_count": null,
      "outputs": [
        {
          "output_type": "stream",
          "text": [
            "Test Loss: 0.023042108863592148\n",
            "Test accuracy: 0.9937000274658203\n"
          ],
          "name": "stdout"
        }
      ]
    },
    {
      "cell_type": "code",
      "metadata": {
        "colab": {
          "base_uri": "https://localhost:8080/"
        },
        "id": "WY-cyB4mhCuv",
        "outputId": "88d4082a-c036-4bac-fdb8-bdb8b5fd764a"
      },
      "source": [
        "accuracy1 = 100*score[1]\n",
        "print('Test accuracy: %.4f%%' % accuracy1)"
      ],
      "execution_count": null,
      "outputs": [
        {
          "output_type": "stream",
          "text": [
            "Test accuracy: 99.1800%\n"
          ],
          "name": "stdout"
        }
      ]
    },
    {
      "cell_type": "markdown",
      "metadata": {
        "id": "y6nKbrTY_O12"
      },
      "source": [
        "# Model 2"
      ]
    },
    {
      "cell_type": "code",
      "metadata": {
        "id": "LeLZ1Wte_Rs1"
      },
      "source": [
        "model2 = Sequential()\n",
        "model2.add(Conv2D(16, kernel_size=(3,3),padding=\"same\", activation='tanh', input_shape=(28,28,1)))\n",
        "model2.add(MaxPooling2D(pool_size=(2, 2)))\n",
        "model2.add(Conv2D(32, kernel_size=(3,3),padding=\"same\", activation='tanh'))\n",
        "model2.add(MaxPooling2D(pool_size=(2, 2)))\n",
        "model2.add(Dropout(0.3))\n",
        "model2.add(Flatten())\n",
        "model2.add(Dense(128, activation='tanh'))\n",
        "model2.add(Dropout(0.4))\n",
        "model2.add(Dense(64, activation='tanh'))\n",
        "model2.add(Dense(10, activation='softmax'))"
      ],
      "execution_count": null,
      "outputs": []
    },
    {
      "cell_type": "code",
      "metadata": {
        "colab": {
          "base_uri": "https://localhost:8080/"
        },
        "id": "xFV_eLxcLmoK",
        "outputId": "f3673c73-7d87-41b7-fe03-3f41c46365f3"
      },
      "source": [
        "model2.summary()"
      ],
      "execution_count": null,
      "outputs": [
        {
          "output_type": "stream",
          "text": [
            "Model: \"sequential_23\"\n",
            "_________________________________________________________________\n",
            "Layer (type)                 Output Shape              Param #   \n",
            "=================================================================\n",
            "conv2d_69 (Conv2D)           (None, 28, 28, 16)        160       \n",
            "_________________________________________________________________\n",
            "max_pooling2d_69 (MaxPooling (None, 14, 14, 16)        0         \n",
            "_________________________________________________________________\n",
            "conv2d_70 (Conv2D)           (None, 14, 14, 32)        4640      \n",
            "_________________________________________________________________\n",
            "max_pooling2d_70 (MaxPooling (None, 7, 7, 32)          0         \n",
            "_________________________________________________________________\n",
            "dropout_21 (Dropout)         (None, 7, 7, 32)          0         \n",
            "_________________________________________________________________\n",
            "flatten_21 (Flatten)         (None, 1568)              0         \n",
            "_________________________________________________________________\n",
            "dense_81 (Dense)             (None, 128)               200832    \n",
            "_________________________________________________________________\n",
            "dropout_22 (Dropout)         (None, 128)               0         \n",
            "_________________________________________________________________\n",
            "dense_82 (Dense)             (None, 64)                8256      \n",
            "_________________________________________________________________\n",
            "dense_83 (Dense)             (None, 10)                650       \n",
            "=================================================================\n",
            "Total params: 214,538\n",
            "Trainable params: 214,538\n",
            "Non-trainable params: 0\n",
            "_________________________________________________________________\n"
          ],
          "name": "stdout"
        }
      ]
    },
    {
      "cell_type": "code",
      "metadata": {
        "colab": {
          "base_uri": "https://localhost:8080/"
        },
        "id": "V7nTRl1FLpJS",
        "outputId": "a9aac381-313a-4f96-c3a7-98d9d83d0a22"
      },
      "source": [
        "model2.compile(loss=tf.keras.metrics.categorical_crossentropy, optimizer=tf.keras.optimizers.Adam(), metrics=['accuracy'])\n",
        "history2=model2.fit(x_train, y_train, batch_size=128, epochs=20, verbose=1, validation_data=(x_test, y_test))"
      ],
      "execution_count": null,
      "outputs": [
        {
          "output_type": "stream",
          "text": [
            "Epoch 1/20\n",
            "469/469 [==============================] - 3s 5ms/step - loss: 0.2725 - accuracy: 0.9201 - val_loss: 0.0703 - val_accuracy: 0.9770\n",
            "Epoch 2/20\n",
            "469/469 [==============================] - 2s 5ms/step - loss: 0.1003 - accuracy: 0.9696 - val_loss: 0.0495 - val_accuracy: 0.9838\n",
            "Epoch 3/20\n",
            "469/469 [==============================] - 2s 5ms/step - loss: 0.0799 - accuracy: 0.9755 - val_loss: 0.0425 - val_accuracy: 0.9851\n",
            "Epoch 4/20\n",
            "469/469 [==============================] - 2s 5ms/step - loss: 0.0683 - accuracy: 0.9790 - val_loss: 0.0427 - val_accuracy: 0.9869\n",
            "Epoch 5/20\n",
            "469/469 [==============================] - 2s 4ms/step - loss: 0.0609 - accuracy: 0.9814 - val_loss: 0.0380 - val_accuracy: 0.9880\n",
            "Epoch 6/20\n",
            "469/469 [==============================] - 2s 4ms/step - loss: 0.0568 - accuracy: 0.9828 - val_loss: 0.0383 - val_accuracy: 0.9886\n",
            "Epoch 7/20\n",
            "469/469 [==============================] - 2s 5ms/step - loss: 0.0505 - accuracy: 0.9844 - val_loss: 0.0371 - val_accuracy: 0.9887\n",
            "Epoch 8/20\n",
            "469/469 [==============================] - 2s 5ms/step - loss: 0.0482 - accuracy: 0.9848 - val_loss: 0.0305 - val_accuracy: 0.9898\n",
            "Epoch 9/20\n",
            "469/469 [==============================] - 2s 5ms/step - loss: 0.0460 - accuracy: 0.9853 - val_loss: 0.0318 - val_accuracy: 0.9904\n",
            "Epoch 10/20\n",
            "469/469 [==============================] - 2s 5ms/step - loss: 0.0438 - accuracy: 0.9866 - val_loss: 0.0303 - val_accuracy: 0.9905\n",
            "Epoch 11/20\n",
            "469/469 [==============================] - 2s 4ms/step - loss: 0.0414 - accuracy: 0.9865 - val_loss: 0.0330 - val_accuracy: 0.9896\n",
            "Epoch 12/20\n",
            "469/469 [==============================] - 2s 5ms/step - loss: 0.0392 - accuracy: 0.9873 - val_loss: 0.0322 - val_accuracy: 0.9894\n",
            "Epoch 13/20\n",
            "469/469 [==============================] - 2s 4ms/step - loss: 0.0375 - accuracy: 0.9882 - val_loss: 0.0289 - val_accuracy: 0.9912\n",
            "Epoch 14/20\n",
            "469/469 [==============================] - 2s 4ms/step - loss: 0.0364 - accuracy: 0.9882 - val_loss: 0.0319 - val_accuracy: 0.9903\n",
            "Epoch 15/20\n",
            "469/469 [==============================] - 2s 4ms/step - loss: 0.0362 - accuracy: 0.9886 - val_loss: 0.0317 - val_accuracy: 0.9905\n",
            "Epoch 16/20\n",
            "469/469 [==============================] - 2s 4ms/step - loss: 0.0332 - accuracy: 0.9893 - val_loss: 0.0310 - val_accuracy: 0.9904\n",
            "Epoch 17/20\n",
            "469/469 [==============================] - 2s 4ms/step - loss: 0.0337 - accuracy: 0.9895 - val_loss: 0.0310 - val_accuracy: 0.9899\n",
            "Epoch 18/20\n",
            "469/469 [==============================] - 2s 4ms/step - loss: 0.0311 - accuracy: 0.9897 - val_loss: 0.0286 - val_accuracy: 0.9924\n",
            "Epoch 19/20\n",
            "469/469 [==============================] - 2s 4ms/step - loss: 0.0303 - accuracy: 0.9898 - val_loss: 0.0305 - val_accuracy: 0.9910\n",
            "Epoch 20/20\n",
            "469/469 [==============================] - 2s 4ms/step - loss: 0.0306 - accuracy: 0.9902 - val_loss: 0.0304 - val_accuracy: 0.9918\n"
          ],
          "name": "stdout"
        }
      ]
    },
    {
      "cell_type": "code",
      "metadata": {
        "colab": {
          "base_uri": "https://localhost:8080/",
          "height": 663
        },
        "id": "D3HydAzYNRn7",
        "outputId": "793d8353-8565-435c-fefe-cbe0523aac1a"
      },
      "source": [
        "pd.DataFrame(history2.history)"
      ],
      "execution_count": null,
      "outputs": [
        {
          "output_type": "execute_result",
          "data": {
            "text/html": [
              "<div>\n",
              "<style scoped>\n",
              "    .dataframe tbody tr th:only-of-type {\n",
              "        vertical-align: middle;\n",
              "    }\n",
              "\n",
              "    .dataframe tbody tr th {\n",
              "        vertical-align: top;\n",
              "    }\n",
              "\n",
              "    .dataframe thead th {\n",
              "        text-align: right;\n",
              "    }\n",
              "</style>\n",
              "<table border=\"1\" class=\"dataframe\">\n",
              "  <thead>\n",
              "    <tr style=\"text-align: right;\">\n",
              "      <th></th>\n",
              "      <th>loss</th>\n",
              "      <th>accuracy</th>\n",
              "      <th>val_loss</th>\n",
              "      <th>val_accuracy</th>\n",
              "    </tr>\n",
              "  </thead>\n",
              "  <tbody>\n",
              "    <tr>\n",
              "      <th>0</th>\n",
              "      <td>0.272524</td>\n",
              "      <td>0.920117</td>\n",
              "      <td>0.070308</td>\n",
              "      <td>0.9770</td>\n",
              "    </tr>\n",
              "    <tr>\n",
              "      <th>1</th>\n",
              "      <td>0.100323</td>\n",
              "      <td>0.969617</td>\n",
              "      <td>0.049483</td>\n",
              "      <td>0.9838</td>\n",
              "    </tr>\n",
              "    <tr>\n",
              "      <th>2</th>\n",
              "      <td>0.079939</td>\n",
              "      <td>0.975500</td>\n",
              "      <td>0.042489</td>\n",
              "      <td>0.9851</td>\n",
              "    </tr>\n",
              "    <tr>\n",
              "      <th>3</th>\n",
              "      <td>0.068288</td>\n",
              "      <td>0.979017</td>\n",
              "      <td>0.042731</td>\n",
              "      <td>0.9869</td>\n",
              "    </tr>\n",
              "    <tr>\n",
              "      <th>4</th>\n",
              "      <td>0.060874</td>\n",
              "      <td>0.981433</td>\n",
              "      <td>0.038004</td>\n",
              "      <td>0.9880</td>\n",
              "    </tr>\n",
              "    <tr>\n",
              "      <th>5</th>\n",
              "      <td>0.056833</td>\n",
              "      <td>0.982767</td>\n",
              "      <td>0.038347</td>\n",
              "      <td>0.9886</td>\n",
              "    </tr>\n",
              "    <tr>\n",
              "      <th>6</th>\n",
              "      <td>0.050534</td>\n",
              "      <td>0.984450</td>\n",
              "      <td>0.037150</td>\n",
              "      <td>0.9887</td>\n",
              "    </tr>\n",
              "    <tr>\n",
              "      <th>7</th>\n",
              "      <td>0.048178</td>\n",
              "      <td>0.984817</td>\n",
              "      <td>0.030483</td>\n",
              "      <td>0.9898</td>\n",
              "    </tr>\n",
              "    <tr>\n",
              "      <th>8</th>\n",
              "      <td>0.045971</td>\n",
              "      <td>0.985300</td>\n",
              "      <td>0.031811</td>\n",
              "      <td>0.9904</td>\n",
              "    </tr>\n",
              "    <tr>\n",
              "      <th>9</th>\n",
              "      <td>0.043776</td>\n",
              "      <td>0.986650</td>\n",
              "      <td>0.030334</td>\n",
              "      <td>0.9905</td>\n",
              "    </tr>\n",
              "    <tr>\n",
              "      <th>10</th>\n",
              "      <td>0.041389</td>\n",
              "      <td>0.986483</td>\n",
              "      <td>0.033048</td>\n",
              "      <td>0.9896</td>\n",
              "    </tr>\n",
              "    <tr>\n",
              "      <th>11</th>\n",
              "      <td>0.039179</td>\n",
              "      <td>0.987300</td>\n",
              "      <td>0.032161</td>\n",
              "      <td>0.9894</td>\n",
              "    </tr>\n",
              "    <tr>\n",
              "      <th>12</th>\n",
              "      <td>0.037506</td>\n",
              "      <td>0.988233</td>\n",
              "      <td>0.028940</td>\n",
              "      <td>0.9912</td>\n",
              "    </tr>\n",
              "    <tr>\n",
              "      <th>13</th>\n",
              "      <td>0.036378</td>\n",
              "      <td>0.988233</td>\n",
              "      <td>0.031916</td>\n",
              "      <td>0.9903</td>\n",
              "    </tr>\n",
              "    <tr>\n",
              "      <th>14</th>\n",
              "      <td>0.036173</td>\n",
              "      <td>0.988567</td>\n",
              "      <td>0.031716</td>\n",
              "      <td>0.9905</td>\n",
              "    </tr>\n",
              "    <tr>\n",
              "      <th>15</th>\n",
              "      <td>0.033209</td>\n",
              "      <td>0.989333</td>\n",
              "      <td>0.031018</td>\n",
              "      <td>0.9904</td>\n",
              "    </tr>\n",
              "    <tr>\n",
              "      <th>16</th>\n",
              "      <td>0.033667</td>\n",
              "      <td>0.989533</td>\n",
              "      <td>0.031028</td>\n",
              "      <td>0.9899</td>\n",
              "    </tr>\n",
              "    <tr>\n",
              "      <th>17</th>\n",
              "      <td>0.031146</td>\n",
              "      <td>0.989717</td>\n",
              "      <td>0.028614</td>\n",
              "      <td>0.9924</td>\n",
              "    </tr>\n",
              "    <tr>\n",
              "      <th>18</th>\n",
              "      <td>0.030309</td>\n",
              "      <td>0.989750</td>\n",
              "      <td>0.030509</td>\n",
              "      <td>0.9910</td>\n",
              "    </tr>\n",
              "    <tr>\n",
              "      <th>19</th>\n",
              "      <td>0.030576</td>\n",
              "      <td>0.990183</td>\n",
              "      <td>0.030442</td>\n",
              "      <td>0.9918</td>\n",
              "    </tr>\n",
              "  </tbody>\n",
              "</table>\n",
              "</div>"
            ],
            "text/plain": [
              "        loss  accuracy  val_loss  val_accuracy\n",
              "0   0.272524  0.920117  0.070308        0.9770\n",
              "1   0.100323  0.969617  0.049483        0.9838\n",
              "2   0.079939  0.975500  0.042489        0.9851\n",
              "3   0.068288  0.979017  0.042731        0.9869\n",
              "4   0.060874  0.981433  0.038004        0.9880\n",
              "5   0.056833  0.982767  0.038347        0.9886\n",
              "6   0.050534  0.984450  0.037150        0.9887\n",
              "7   0.048178  0.984817  0.030483        0.9898\n",
              "8   0.045971  0.985300  0.031811        0.9904\n",
              "9   0.043776  0.986650  0.030334        0.9905\n",
              "10  0.041389  0.986483  0.033048        0.9896\n",
              "11  0.039179  0.987300  0.032161        0.9894\n",
              "12  0.037506  0.988233  0.028940        0.9912\n",
              "13  0.036378  0.988233  0.031916        0.9903\n",
              "14  0.036173  0.988567  0.031716        0.9905\n",
              "15  0.033209  0.989333  0.031018        0.9904\n",
              "16  0.033667  0.989533  0.031028        0.9899\n",
              "17  0.031146  0.989717  0.028614        0.9924\n",
              "18  0.030309  0.989750  0.030509        0.9910\n",
              "19  0.030576  0.990183  0.030442        0.9918"
            ]
          },
          "metadata": {
            "tags": []
          },
          "execution_count": 158
        }
      ]
    },
    {
      "cell_type": "code",
      "metadata": {
        "colab": {
          "base_uri": "https://localhost:8080/",
          "height": 324
        },
        "id": "9BH4JqWfNZdO",
        "outputId": "acb91e2c-6445-4926-e952-8baf685f2e6d"
      },
      "source": [
        "pd.DataFrame(history2.history).plot(figsize=(8, 5))\n",
        "plt.grid(True)\n",
        "plt.gca().set_ylim(0, 1)\n",
        "plt.show()"
      ],
      "execution_count": null,
      "outputs": [
        {
          "output_type": "display_data",
          "data": {
            "image/png": "[encoded data removed]",
            "text/plain": [
              "<Figure size 576x360 with 1 Axes>"
            ]
          },
          "metadata": {
            "tags": [],
            "needs_background": "light"
          }
        }
      ]
    },
    {
      "cell_type": "code",
      "metadata": {
        "colab": {
          "base_uri": "https://localhost:8080/"
        },
        "id": "C3one4JzLrKp",
        "outputId": "c6b40205-bbe8-4bda-fec8-bec63f406cf7"
      },
      "source": [
        "score = model2.evaluate(x_test, y_test)"
      ],
      "execution_count": null,
      "outputs": [
        {
          "output_type": "stream",
          "text": [
            "313/313 [==============================] - 1s 2ms/step - loss: 0.0304 - accuracy: 0.9918\n"
          ],
          "name": "stdout"
        }
      ]
    },
    {
      "cell_type": "code",
      "metadata": {
        "colab": {
          "base_uri": "https://localhost:8080/"
        },
        "id": "TqI4GfA8Lspi",
        "outputId": "3fcc3494-bf51-4349-d73b-6c3367eebad8"
      },
      "source": [
        "print('Test Loss:', score[0])\n",
        "print('Test accuracy:', score[1])"
      ],
      "execution_count": null,
      "outputs": [
        {
          "output_type": "stream",
          "text": [
            "Test Loss: 0.030441882088780403\n",
            "Test accuracy: 0.9918000102043152\n"
          ],
          "name": "stdout"
        }
      ]
    },
    {
      "cell_type": "code",
      "metadata": {
        "colab": {
          "base_uri": "https://localhost:8080/"
        },
        "id": "caJrqAp5hFnc",
        "outputId": "744bc2d1-c9f1-4085-8bd5-9c945889fa56"
      },
      "source": [
        "accuracy2= 100*score[1]\n",
        "print('Test accuracy: %.4f%%' % accuracy2)"
      ],
      "execution_count": null,
      "outputs": [
        {
          "output_type": "stream",
          "text": [
            "Test accuracy: 99.1800%\n"
          ],
          "name": "stdout"
        }
      ]
    },
    {
      "cell_type": "markdown",
      "metadata": {
        "id": "T860ZWALN9no"
      },
      "source": [
        "# Model 3"
      ]
    },
    {
      "cell_type": "code",
      "metadata": {
        "id": "rDxWtkDaOAQA"
      },
      "source": [
        "model3 = Sequential()\n",
        "model3.add(Conv2D(16, kernel_size=(3,3),padding=\"valid\", activation='relu', input_shape=(28,28,1)))\n",
        "model3.add(MaxPooling2D(pool_size=(2, 2)))\n",
        "model3.add(Conv2D(32, kernel_size=(3,3),padding=\"valid\", activation='relu'))\n",
        "model3.add(MaxPooling2D(pool_size=(2, 2)))\n",
        "model3.add(Flatten())\n",
        "model3.add(Dense(128, activation='relu'))\n",
        "model3.add(Dropout(0.4))\n",
        "model3.add(Dense(64, activation='relu'))\n",
        "model3.add(Dense(10, activation='softmax'))"
      ],
      "execution_count": null,
      "outputs": []
    },
    {
      "cell_type": "code",
      "metadata": {
        "colab": {
          "base_uri": "https://localhost:8080/"
        },
        "id": "ng1Mj4hbOFTJ",
        "outputId": "2bce3c20-ddd5-48d5-9b38-523bf726d707"
      },
      "source": [
        "model3.summary()"
      ],
      "execution_count": null,
      "outputs": [
        {
          "output_type": "stream",
          "text": [
            "Model: \"sequential_42\"\n",
            "_________________________________________________________________\n",
            "Layer (type)                 Output Shape              Param #   \n",
            "=================================================================\n",
            "conv2d_129 (Conv2D)          (None, 26, 26, 16)        160       \n",
            "_________________________________________________________________\n",
            "max_pooling2d_129 (MaxPoolin (None, 13, 13, 16)        0         \n",
            "_________________________________________________________________\n",
            "conv2d_130 (Conv2D)          (None, 11, 11, 32)        4640      \n",
            "_________________________________________________________________\n",
            "max_pooling2d_130 (MaxPoolin (None, 5, 5, 32)          0         \n",
            "_________________________________________________________________\n",
            "flatten_39 (Flatten)         (None, 800)               0         \n",
            "_________________________________________________________________\n",
            "dense_133 (Dense)            (None, 128)               102528    \n",
            "_________________________________________________________________\n",
            "dropout_47 (Dropout)         (None, 128)               0         \n",
            "_________________________________________________________________\n",
            "dense_134 (Dense)            (None, 64)                8256      \n",
            "_________________________________________________________________\n",
            "dense_135 (Dense)            (None, 10)                650       \n",
            "=================================================================\n",
            "Total params: 116,234\n",
            "Trainable params: 116,234\n",
            "Non-trainable params: 0\n",
            "_________________________________________________________________\n"
          ],
          "name": "stdout"
        }
      ]
    },
    {
      "cell_type": "code",
      "metadata": {
        "colab": {
          "base_uri": "https://localhost:8080/"
        },
        "id": "Sm_0Kz8rOJlI",
        "outputId": "7da96e69-e621-4004-c276-5885f0973f47"
      },
      "source": [
        "model3.compile(loss=tf.keras.metrics.categorical_crossentropy, optimizer=tf.keras.optimizers.Adam(), metrics=['accuracy'])\n",
        "history3=model3.fit(x_train, y_train, batch_size=128, epochs=20, verbose=1, validation_data=(x_test, y_test))"
      ],
      "execution_count": null,
      "outputs": [
        {
          "output_type": "stream",
          "text": [
            "Epoch 1/20\n",
            "469/469 [==============================] - 3s 5ms/step - loss: 0.3500 - accuracy: 0.8930 - val_loss: 0.0679 - val_accuracy: 0.9794\n",
            "Epoch 2/20\n",
            "469/469 [==============================] - 2s 4ms/step - loss: 0.0956 - accuracy: 0.9710 - val_loss: 0.0457 - val_accuracy: 0.9846\n",
            "Epoch 3/20\n",
            "469/469 [==============================] - 2s 4ms/step - loss: 0.0678 - accuracy: 0.9798 - val_loss: 0.0383 - val_accuracy: 0.9869\n",
            "Epoch 4/20\n",
            "469/469 [==============================] - 2s 4ms/step - loss: 0.0552 - accuracy: 0.9837 - val_loss: 0.0344 - val_accuracy: 0.9885\n",
            "Epoch 5/20\n",
            "469/469 [==============================] - 2s 4ms/step - loss: 0.0479 - accuracy: 0.9856 - val_loss: 0.0301 - val_accuracy: 0.9892\n",
            "Epoch 6/20\n",
            "469/469 [==============================] - 2s 4ms/step - loss: 0.0423 - accuracy: 0.9869 - val_loss: 0.0317 - val_accuracy: 0.9883\n",
            "Epoch 7/20\n",
            "469/469 [==============================] - 2s 4ms/step - loss: 0.0371 - accuracy: 0.9887 - val_loss: 0.0256 - val_accuracy: 0.9907\n",
            "Epoch 8/20\n",
            "469/469 [==============================] - 2s 4ms/step - loss: 0.0328 - accuracy: 0.9894 - val_loss: 0.0272 - val_accuracy: 0.9909\n",
            "Epoch 9/20\n",
            "469/469 [==============================] - 2s 4ms/step - loss: 0.0288 - accuracy: 0.9908 - val_loss: 0.0228 - val_accuracy: 0.9929\n",
            "Epoch 10/20\n",
            "469/469 [==============================] - 2s 4ms/step - loss: 0.0287 - accuracy: 0.9907 - val_loss: 0.0282 - val_accuracy: 0.9913\n",
            "Epoch 11/20\n",
            "469/469 [==============================] - 2s 4ms/step - loss: 0.0258 - accuracy: 0.9915 - val_loss: 0.0250 - val_accuracy: 0.9925\n",
            "Epoch 12/20\n",
            "469/469 [==============================] - 2s 4ms/step - loss: 0.0238 - accuracy: 0.9919 - val_loss: 0.0259 - val_accuracy: 0.9923\n",
            "Epoch 13/20\n",
            "469/469 [==============================] - 2s 4ms/step - loss: 0.0209 - accuracy: 0.9928 - val_loss: 0.0292 - val_accuracy: 0.9923\n",
            "Epoch 14/20\n",
            "469/469 [==============================] - 2s 4ms/step - loss: 0.0214 - accuracy: 0.9930 - val_loss: 0.0277 - val_accuracy: 0.9926\n",
            "Epoch 15/20\n",
            "469/469 [==============================] - 2s 4ms/step - loss: 0.0171 - accuracy: 0.9944 - val_loss: 0.0300 - val_accuracy: 0.9910\n",
            "Epoch 16/20\n",
            "469/469 [==============================] - 2s 4ms/step - loss: 0.0188 - accuracy: 0.9941 - val_loss: 0.0260 - val_accuracy: 0.9929\n",
            "Epoch 17/20\n",
            "469/469 [==============================] - 2s 4ms/step - loss: 0.0157 - accuracy: 0.9947 - val_loss: 0.0316 - val_accuracy: 0.9911\n",
            "Epoch 18/20\n",
            "469/469 [==============================] - 2s 4ms/step - loss: 0.0165 - accuracy: 0.9948 - val_loss: 0.0306 - val_accuracy: 0.9909\n",
            "Epoch 19/20\n",
            "469/469 [==============================] - 2s 4ms/step - loss: 0.0140 - accuracy: 0.9953 - val_loss: 0.0271 - val_accuracy: 0.9930\n",
            "Epoch 20/20\n",
            "469/469 [==============================] - 2s 4ms/step - loss: 0.0144 - accuracy: 0.9949 - val_loss: 0.0345 - val_accuracy: 0.9914\n"
          ],
          "name": "stdout"
        }
      ]
    },
    {
      "cell_type": "code",
      "metadata": {
        "colab": {
          "base_uri": "https://localhost:8080/",
          "height": 663
        },
        "id": "ThvWUdPWOKVZ",
        "outputId": "a2de3b5a-3905-44b0-c5dd-5a21cdd5d77b"
      },
      "source": [
        "pd.DataFrame(history3.history)"
      ],
      "execution_count": null,
      "outputs": [
        {
          "output_type": "execute_result",
          "data": {
            "text/html": [
              "<div>\n",
              "<style scoped>\n",
              "    .dataframe tbody tr th:only-of-type {\n",
              "        vertical-align: middle;\n",
              "    }\n",
              "\n",
              "    .dataframe tbody tr th {\n",
              "        vertical-align: top;\n",
              "    }\n",
              "\n",
              "    .dataframe thead th {\n",
              "        text-align: right;\n",
              "    }\n",
              "</style>\n",
              "<table border=\"1\" class=\"dataframe\">\n",
              "  <thead>\n",
              "    <tr style=\"text-align: right;\">\n",
              "      <th></th>\n",
              "      <th>loss</th>\n",
              "      <th>accuracy</th>\n",
              "      <th>val_loss</th>\n",
              "      <th>val_accuracy</th>\n",
              "    </tr>\n",
              "  </thead>\n",
              "  <tbody>\n",
              "    <tr>\n",
              "      <th>0</th>\n",
              "      <td>0.350014</td>\n",
              "      <td>0.893033</td>\n",
              "      <td>0.067865</td>\n",
              "      <td>0.9794</td>\n",
              "    </tr>\n",
              "    <tr>\n",
              "      <th>1</th>\n",
              "      <td>0.095635</td>\n",
              "      <td>0.971033</td>\n",
              "      <td>0.045678</td>\n",
              "      <td>0.9846</td>\n",
              "    </tr>\n",
              "    <tr>\n",
              "      <th>2</th>\n",
              "      <td>0.067752</td>\n",
              "      <td>0.979833</td>\n",
              "      <td>0.038278</td>\n",
              "      <td>0.9869</td>\n",
              "    </tr>\n",
              "    <tr>\n",
              "      <th>3</th>\n",
              "      <td>0.055159</td>\n",
              "      <td>0.983700</td>\n",
              "      <td>0.034397</td>\n",
              "      <td>0.9885</td>\n",
              "    </tr>\n",
              "    <tr>\n",
              "      <th>4</th>\n",
              "      <td>0.047906</td>\n",
              "      <td>0.985567</td>\n",
              "      <td>0.030096</td>\n",
              "      <td>0.9892</td>\n",
              "    </tr>\n",
              "    <tr>\n",
              "      <th>5</th>\n",
              "      <td>0.042342</td>\n",
              "      <td>0.986917</td>\n",
              "      <td>0.031746</td>\n",
              "      <td>0.9883</td>\n",
              "    </tr>\n",
              "    <tr>\n",
              "      <th>6</th>\n",
              "      <td>0.037080</td>\n",
              "      <td>0.988650</td>\n",
              "      <td>0.025594</td>\n",
              "      <td>0.9907</td>\n",
              "    </tr>\n",
              "    <tr>\n",
              "      <th>7</th>\n",
              "      <td>0.032765</td>\n",
              "      <td>0.989400</td>\n",
              "      <td>0.027206</td>\n",
              "      <td>0.9909</td>\n",
              "    </tr>\n",
              "    <tr>\n",
              "      <th>8</th>\n",
              "      <td>0.028849</td>\n",
              "      <td>0.990800</td>\n",
              "      <td>0.022799</td>\n",
              "      <td>0.9929</td>\n",
              "    </tr>\n",
              "    <tr>\n",
              "      <th>9</th>\n",
              "      <td>0.028710</td>\n",
              "      <td>0.990717</td>\n",
              "      <td>0.028205</td>\n",
              "      <td>0.9913</td>\n",
              "    </tr>\n",
              "    <tr>\n",
              "      <th>10</th>\n",
              "      <td>0.025794</td>\n",
              "      <td>0.991517</td>\n",
              "      <td>0.025035</td>\n",
              "      <td>0.9925</td>\n",
              "    </tr>\n",
              "    <tr>\n",
              "      <th>11</th>\n",
              "      <td>0.023770</td>\n",
              "      <td>0.991900</td>\n",
              "      <td>0.025905</td>\n",
              "      <td>0.9923</td>\n",
              "    </tr>\n",
              "    <tr>\n",
              "      <th>12</th>\n",
              "      <td>0.020914</td>\n",
              "      <td>0.992783</td>\n",
              "      <td>0.029182</td>\n",
              "      <td>0.9923</td>\n",
              "    </tr>\n",
              "    <tr>\n",
              "      <th>13</th>\n",
              "      <td>0.021408</td>\n",
              "      <td>0.993000</td>\n",
              "      <td>0.027698</td>\n",
              "      <td>0.9926</td>\n",
              "    </tr>\n",
              "    <tr>\n",
              "      <th>14</th>\n",
              "      <td>0.017083</td>\n",
              "      <td>0.994383</td>\n",
              "      <td>0.029956</td>\n",
              "      <td>0.9910</td>\n",
              "    </tr>\n",
              "    <tr>\n",
              "      <th>15</th>\n",
              "      <td>0.018786</td>\n",
              "      <td>0.994050</td>\n",
              "      <td>0.026018</td>\n",
              "      <td>0.9929</td>\n",
              "    </tr>\n",
              "    <tr>\n",
              "      <th>16</th>\n",
              "      <td>0.015682</td>\n",
              "      <td>0.994683</td>\n",
              "      <td>0.031599</td>\n",
              "      <td>0.9911</td>\n",
              "    </tr>\n",
              "    <tr>\n",
              "      <th>17</th>\n",
              "      <td>0.016459</td>\n",
              "      <td>0.994767</td>\n",
              "      <td>0.030574</td>\n",
              "      <td>0.9909</td>\n",
              "    </tr>\n",
              "    <tr>\n",
              "      <th>18</th>\n",
              "      <td>0.013992</td>\n",
              "      <td>0.995267</td>\n",
              "      <td>0.027053</td>\n",
              "      <td>0.9930</td>\n",
              "    </tr>\n",
              "    <tr>\n",
              "      <th>19</th>\n",
              "      <td>0.014365</td>\n",
              "      <td>0.994933</td>\n",
              "      <td>0.034509</td>\n",
              "      <td>0.9914</td>\n",
              "    </tr>\n",
              "  </tbody>\n",
              "</table>\n",
              "</div>"
            ],
            "text/plain": [
              "        loss  accuracy  val_loss  val_accuracy\n",
              "0   0.350014  0.893033  0.067865        0.9794\n",
              "1   0.095635  0.971033  0.045678        0.9846\n",
              "2   0.067752  0.979833  0.038278        0.9869\n",
              "3   0.055159  0.983700  0.034397        0.9885\n",
              "4   0.047906  0.985567  0.030096        0.9892\n",
              "5   0.042342  0.986917  0.031746        0.9883\n",
              "6   0.037080  0.988650  0.025594        0.9907\n",
              "7   0.032765  0.989400  0.027206        0.9909\n",
              "8   0.028849  0.990800  0.022799        0.9929\n",
              "9   0.028710  0.990717  0.028205        0.9913\n",
              "10  0.025794  0.991517  0.025035        0.9925\n",
              "11  0.023770  0.991900  0.025905        0.9923\n",
              "12  0.020914  0.992783  0.029182        0.9923\n",
              "13  0.021408  0.993000  0.027698        0.9926\n",
              "14  0.017083  0.994383  0.029956        0.9910\n",
              "15  0.018786  0.994050  0.026018        0.9929\n",
              "16  0.015682  0.994683  0.031599        0.9911\n",
              "17  0.016459  0.994767  0.030574        0.9909\n",
              "18  0.013992  0.995267  0.027053        0.9930\n",
              "19  0.014365  0.994933  0.034509        0.9914"
            ]
          },
          "metadata": {
            "tags": []
          },
          "execution_count": 301
        }
      ]
    },
    {
      "cell_type": "code",
      "metadata": {
        "colab": {
          "base_uri": "https://localhost:8080/",
          "height": 324
        },
        "id": "T9DkwEhwOOPd",
        "outputId": "86216a05-5444-4a2e-99b9-516039df9163"
      },
      "source": [
        "pd.DataFrame(history3.history).plot(figsize=(8, 5))\n",
        "plt.grid(True)\n",
        "plt.gca().set_ylim(0, 1)\n",
        "plt.show()"
      ],
      "execution_count": null,
      "outputs": [
        {
          "output_type": "display_data",
          "data": {
            "image/png": "[encoded data removed]",
            "text/plain": [
              "<Figure size 576x360 with 1 Axes>"
            ]
          },
          "metadata": {
            "tags": [],
            "needs_background": "light"
          }
        }
      ]
    },
    {
      "cell_type": "code",
      "metadata": {
        "colab": {
          "base_uri": "https://localhost:8080/"
        },
        "id": "rgQOWGygOQHS",
        "outputId": "930de72f-bfc4-4ec9-b656-6c4f8a421d8c"
      },
      "source": [
        "score = model3.evaluate(x_test, y_test)"
      ],
      "execution_count": null,
      "outputs": [
        {
          "output_type": "stream",
          "text": [
            "313/313 [==============================] - 1s 3ms/step - loss: 0.0345 - accuracy: 0.9914\n"
          ],
          "name": "stdout"
        }
      ]
    },
    {
      "cell_type": "code",
      "metadata": {
        "colab": {
          "base_uri": "https://localhost:8080/"
        },
        "id": "8wO4mNbMOR4g",
        "outputId": "34df5955-46b2-4805-81f4-c0e06c2d6f32"
      },
      "source": [
        "print('Test Loss:', score[0])\n",
        "print('Test accuracy:', score[1])"
      ],
      "execution_count": null,
      "outputs": [
        {
          "output_type": "stream",
          "text": [
            "Test Loss: 0.03450864180922508\n",
            "Test accuracy: 0.9914000034332275\n"
          ],
          "name": "stdout"
        }
      ]
    },
    {
      "cell_type": "code",
      "metadata": {
        "colab": {
          "base_uri": "https://localhost:8080/"
        },
        "id": "5qZiAnPvgjFX",
        "outputId": "ffd1d1dd-a0ae-4ad4-d293-048394ca64b0"
      },
      "source": [
        "accuracy3 = 100*score[1]\n",
        "print('Test accuracy: %.4f%%' % accuracy3)"
      ],
      "execution_count": null,
      "outputs": [
        {
          "output_type": "stream",
          "text": [
            "Test accuracy: 99.1400%\n"
          ],
          "name": "stdout"
        }
      ]
    },
    {
      "cell_type": "markdown",
      "metadata": {
        "id": "KoC72fQPPHfe"
      },
      "source": [
        "# Model 4"
      ]
    },
    {
      "cell_type": "code",
      "metadata": {
        "id": "JZ0LgPAoPLdp"
      },
      "source": [
        "model4 = Sequential()\n",
        "model4.add(Conv2D(16, kernel_size=(3,3),padding=\"same\", activation='relu', input_shape=(28,28,1)))\n",
        "model4.add(MaxPooling2D(pool_size=(2, 2)))\n",
        "model4.add(Conv2D(32, kernel_size=(3,3),padding=\"same\", activation='relu'))\n",
        "model4.add(MaxPooling2D(pool_size=(2, 2)))\n",
        "model4.add(Conv2D(64, kernel_size=(3,3), padding=\"same\",activation='relu'))\n",
        "model4.add(MaxPooling2D(pool_size=(2, 2)))\n",
        "model4.add(Conv2D(128, kernel_size=(3,3), padding=\"same\",activation='relu'))\n",
        "model4.add(MaxPooling2D(pool_size=(2, 2)))\n",
        "model4.add(Dropout(0.3))\n",
        "model4.add(Flatten())\n",
        "model4.add(Dense(256, activation='relu'))\n",
        "model4.add(Dropout(0.4))\n",
        "model4.add(Dense(64, activation='relu'))\n",
        "model4.add(Dense(10, activation='softmax'))"
      ],
      "execution_count": null,
      "outputs": []
    },
    {
      "cell_type": "code",
      "metadata": {
        "colab": {
          "base_uri": "https://localhost:8080/"
        },
        "id": "vYquv053TVQf",
        "outputId": "a750b3d1-a07b-4c12-987c-3e3bae81ac93"
      },
      "source": [
        "optimizers = tf.keras.optimizers.SGD(lr=0.001, momentum=0.9)"
      ],
      "execution_count": null,
      "outputs": [
        {
          "output_type": "stream",
          "text": [
            "/usr/local/lib/python3.7/dist-packages/tensorflow/python/keras/optimizer_v2/optimizer_v2.py:375: UserWarning: The `lr` argument is deprecated, use `learning_rate` instead.\n",
            "  \"The `lr` argument is deprecated, use `learning_rate` instead.\")\n"
          ],
          "name": "stderr"
        }
      ]
    },
    {
      "cell_type": "code",
      "metadata": {
        "colab": {
          "base_uri": "https://localhost:8080/"
        },
        "id": "6l9ILpr4PXcY",
        "outputId": "1f9c6e35-a5b7-40af-ae14-e80046848f86"
      },
      "source": [
        "model4.compile(loss=tf.keras.metrics.categorical_crossentropy, optimizer=optimizers, metrics=['accuracy'])\n",
        "history4=model4.fit(x_train, y_train, batch_size=128, epochs=20, verbose=1, validation_data=(x_test, y_test))"
      ],
      "execution_count": null,
      "outputs": [
        {
          "output_type": "stream",
          "text": [
            "Epoch 1/20\n",
            "469/469 [==============================] - 3s 6ms/step - loss: 2.2871 - accuracy: 0.1579 - val_loss: 2.2474 - val_accuracy: 0.4186\n",
            "Epoch 2/20\n",
            "469/469 [==============================] - 3s 5ms/step - loss: 2.0062 - accuracy: 0.3688 - val_loss: 0.9045 - val_accuracy: 0.7486\n",
            "Epoch 3/20\n",
            "469/469 [==============================] - 2s 5ms/step - loss: 0.7064 - accuracy: 0.7786 - val_loss: 0.2757 - val_accuracy: 0.9184\n",
            "Epoch 4/20\n",
            "469/469 [==============================] - 3s 5ms/step - loss: 0.3745 - accuracy: 0.8867 - val_loss: 0.1789 - val_accuracy: 0.9465\n",
            "Epoch 5/20\n",
            "469/469 [==============================] - 3s 5ms/step - loss: 0.2736 - accuracy: 0.9179 - val_loss: 0.1442 - val_accuracy: 0.9574\n",
            "Epoch 6/20\n",
            "469/469 [==============================] - 2s 5ms/step - loss: 0.2216 - accuracy: 0.9346 - val_loss: 0.1175 - val_accuracy: 0.9641\n",
            "Epoch 7/20\n",
            "469/469 [==============================] - 2s 5ms/step - loss: 0.1926 - accuracy: 0.9427 - val_loss: 0.1028 - val_accuracy: 0.9677\n",
            "Epoch 8/20\n",
            "469/469 [==============================] - 3s 5ms/step - loss: 0.1720 - accuracy: 0.9485 - val_loss: 0.0921 - val_accuracy: 0.9701\n",
            "Epoch 9/20\n",
            "469/469 [==============================] - 2s 5ms/step - loss: 0.1514 - accuracy: 0.9553 - val_loss: 0.0829 - val_accuracy: 0.9727\n",
            "Epoch 10/20\n",
            "469/469 [==============================] - 2s 5ms/step - loss: 0.1382 - accuracy: 0.9596 - val_loss: 0.0771 - val_accuracy: 0.9743\n",
            "Epoch 11/20\n",
            "469/469 [==============================] - 2s 5ms/step - loss: 0.1285 - accuracy: 0.9612 - val_loss: 0.0741 - val_accuracy: 0.9751\n",
            "Epoch 12/20\n",
            "469/469 [==============================] - 2s 5ms/step - loss: 0.1193 - accuracy: 0.9650 - val_loss: 0.0712 - val_accuracy: 0.9773\n",
            "Epoch 13/20\n",
            "469/469 [==============================] - 2s 5ms/step - loss: 0.1125 - accuracy: 0.9666 - val_loss: 0.0643 - val_accuracy: 0.9785\n",
            "Epoch 14/20\n",
            "469/469 [==============================] - 3s 5ms/step - loss: 0.1081 - accuracy: 0.9679 - val_loss: 0.0620 - val_accuracy: 0.9820\n",
            "Epoch 15/20\n",
            "469/469 [==============================] - 3s 5ms/step - loss: 0.1049 - accuracy: 0.9686 - val_loss: 0.0682 - val_accuracy: 0.9794\n",
            "Epoch 16/20\n",
            "469/469 [==============================] - 2s 5ms/step - loss: 0.0987 - accuracy: 0.9703 - val_loss: 0.0570 - val_accuracy: 0.9826\n",
            "Epoch 17/20\n",
            "469/469 [==============================] - 2s 5ms/step - loss: 0.0950 - accuracy: 0.9718 - val_loss: 0.0574 - val_accuracy: 0.9828\n",
            "Epoch 18/20\n",
            "469/469 [==============================] - 2s 5ms/step - loss: 0.0904 - accuracy: 0.9732 - val_loss: 0.0540 - val_accuracy: 0.9830\n",
            "Epoch 19/20\n",
            "469/469 [==============================] - 3s 5ms/step - loss: 0.0870 - accuracy: 0.9745 - val_loss: 0.0487 - val_accuracy: 0.9851\n",
            "Epoch 20/20\n",
            "469/469 [==============================] - 2s 5ms/step - loss: 0.0843 - accuracy: 0.9751 - val_loss: 0.0550 - val_accuracy: 0.9816\n"
          ],
          "name": "stdout"
        }
      ]
    },
    {
      "cell_type": "code",
      "metadata": {
        "colab": {
          "base_uri": "https://localhost:8080/",
          "height": 663
        },
        "id": "2MOofra5Pd0T",
        "outputId": "5eed3f04-36b9-4528-9b3b-1e507c175e2f"
      },
      "source": [
        "pd.DataFrame(history4.history)"
      ],
      "execution_count": null,
      "outputs": [
        {
          "output_type": "execute_result",
          "data": {
            "text/html": [
              "<div>\n",
              "<style scoped>\n",
              "    .dataframe tbody tr th:only-of-type {\n",
              "        vertical-align: middle;\n",
              "    }\n",
              "\n",
              "    .dataframe tbody tr th {\n",
              "        vertical-align: top;\n",
              "    }\n",
              "\n",
              "    .dataframe thead th {\n",
              "        text-align: right;\n",
              "    }\n",
              "</style>\n",
              "<table border=\"1\" class=\"dataframe\">\n",
              "  <thead>\n",
              "    <tr style=\"text-align: right;\">\n",
              "      <th></th>\n",
              "      <th>loss</th>\n",
              "      <th>accuracy</th>\n",
              "      <th>val_loss</th>\n",
              "      <th>val_accuracy</th>\n",
              "    </tr>\n",
              "  </thead>\n",
              "  <tbody>\n",
              "    <tr>\n",
              "      <th>0</th>\n",
              "      <td>2.287135</td>\n",
              "      <td>0.157933</td>\n",
              "      <td>2.247384</td>\n",
              "      <td>0.4186</td>\n",
              "    </tr>\n",
              "    <tr>\n",
              "      <th>1</th>\n",
              "      <td>2.006152</td>\n",
              "      <td>0.368850</td>\n",
              "      <td>0.904538</td>\n",
              "      <td>0.7486</td>\n",
              "    </tr>\n",
              "    <tr>\n",
              "      <th>2</th>\n",
              "      <td>0.706424</td>\n",
              "      <td>0.778583</td>\n",
              "      <td>0.275656</td>\n",
              "      <td>0.9184</td>\n",
              "    </tr>\n",
              "    <tr>\n",
              "      <th>3</th>\n",
              "      <td>0.374503</td>\n",
              "      <td>0.886750</td>\n",
              "      <td>0.178895</td>\n",
              "      <td>0.9465</td>\n",
              "    </tr>\n",
              "    <tr>\n",
              "      <th>4</th>\n",
              "      <td>0.273593</td>\n",
              "      <td>0.917900</td>\n",
              "      <td>0.144162</td>\n",
              "      <td>0.9574</td>\n",
              "    </tr>\n",
              "    <tr>\n",
              "      <th>5</th>\n",
              "      <td>0.221632</td>\n",
              "      <td>0.934600</td>\n",
              "      <td>0.117539</td>\n",
              "      <td>0.9641</td>\n",
              "    </tr>\n",
              "    <tr>\n",
              "      <th>6</th>\n",
              "      <td>0.192596</td>\n",
              "      <td>0.942700</td>\n",
              "      <td>0.102842</td>\n",
              "      <td>0.9677</td>\n",
              "    </tr>\n",
              "    <tr>\n",
              "      <th>7</th>\n",
              "      <td>0.172022</td>\n",
              "      <td>0.948500</td>\n",
              "      <td>0.092053</td>\n",
              "      <td>0.9701</td>\n",
              "    </tr>\n",
              "    <tr>\n",
              "      <th>8</th>\n",
              "      <td>0.151360</td>\n",
              "      <td>0.955267</td>\n",
              "      <td>0.082861</td>\n",
              "      <td>0.9727</td>\n",
              "    </tr>\n",
              "    <tr>\n",
              "      <th>9</th>\n",
              "      <td>0.138205</td>\n",
              "      <td>0.959550</td>\n",
              "      <td>0.077136</td>\n",
              "      <td>0.9743</td>\n",
              "    </tr>\n",
              "    <tr>\n",
              "      <th>10</th>\n",
              "      <td>0.128521</td>\n",
              "      <td>0.961167</td>\n",
              "      <td>0.074128</td>\n",
              "      <td>0.9751</td>\n",
              "    </tr>\n",
              "    <tr>\n",
              "      <th>11</th>\n",
              "      <td>0.119327</td>\n",
              "      <td>0.964967</td>\n",
              "      <td>0.071169</td>\n",
              "      <td>0.9773</td>\n",
              "    </tr>\n",
              "    <tr>\n",
              "      <th>12</th>\n",
              "      <td>0.112460</td>\n",
              "      <td>0.966567</td>\n",
              "      <td>0.064346</td>\n",
              "      <td>0.9785</td>\n",
              "    </tr>\n",
              "    <tr>\n",
              "      <th>13</th>\n",
              "      <td>0.108146</td>\n",
              "      <td>0.967917</td>\n",
              "      <td>0.062019</td>\n",
              "      <td>0.9820</td>\n",
              "    </tr>\n",
              "    <tr>\n",
              "      <th>14</th>\n",
              "      <td>0.104902</td>\n",
              "      <td>0.968633</td>\n",
              "      <td>0.068226</td>\n",
              "      <td>0.9794</td>\n",
              "    </tr>\n",
              "    <tr>\n",
              "      <th>15</th>\n",
              "      <td>0.098719</td>\n",
              "      <td>0.970300</td>\n",
              "      <td>0.057010</td>\n",
              "      <td>0.9826</td>\n",
              "    </tr>\n",
              "    <tr>\n",
              "      <th>16</th>\n",
              "      <td>0.094965</td>\n",
              "      <td>0.971850</td>\n",
              "      <td>0.057417</td>\n",
              "      <td>0.9828</td>\n",
              "    </tr>\n",
              "    <tr>\n",
              "      <th>17</th>\n",
              "      <td>0.090421</td>\n",
              "      <td>0.973200</td>\n",
              "      <td>0.053955</td>\n",
              "      <td>0.9830</td>\n",
              "    </tr>\n",
              "    <tr>\n",
              "      <th>18</th>\n",
              "      <td>0.087035</td>\n",
              "      <td>0.974483</td>\n",
              "      <td>0.048678</td>\n",
              "      <td>0.9851</td>\n",
              "    </tr>\n",
              "    <tr>\n",
              "      <th>19</th>\n",
              "      <td>0.084277</td>\n",
              "      <td>0.975100</td>\n",
              "      <td>0.055021</td>\n",
              "      <td>0.9816</td>\n",
              "    </tr>\n",
              "  </tbody>\n",
              "</table>\n",
              "</div>"
            ],
            "text/plain": [
              "        loss  accuracy  val_loss  val_accuracy\n",
              "0   2.287135  0.157933  2.247384        0.4186\n",
              "1   2.006152  0.368850  0.904538        0.7486\n",
              "2   0.706424  0.778583  0.275656        0.9184\n",
              "3   0.374503  0.886750  0.178895        0.9465\n",
              "4   0.273593  0.917900  0.144162        0.9574\n",
              "5   0.221632  0.934600  0.117539        0.9641\n",
              "6   0.192596  0.942700  0.102842        0.9677\n",
              "7   0.172022  0.948500  0.092053        0.9701\n",
              "8   0.151360  0.955267  0.082861        0.9727\n",
              "9   0.138205  0.959550  0.077136        0.9743\n",
              "10  0.128521  0.961167  0.074128        0.9751\n",
              "11  0.119327  0.964967  0.071169        0.9773\n",
              "12  0.112460  0.966567  0.064346        0.9785\n",
              "13  0.108146  0.967917  0.062019        0.9820\n",
              "14  0.104902  0.968633  0.068226        0.9794\n",
              "15  0.098719  0.970300  0.057010        0.9826\n",
              "16  0.094965  0.971850  0.057417        0.9828\n",
              "17  0.090421  0.973200  0.053955        0.9830\n",
              "18  0.087035  0.974483  0.048678        0.9851\n",
              "19  0.084277  0.975100  0.055021        0.9816"
            ]
          },
          "metadata": {
            "tags": []
          },
          "execution_count": 309
        }
      ]
    },
    {
      "cell_type": "code",
      "metadata": {
        "colab": {
          "base_uri": "https://localhost:8080/",
          "height": 324
        },
        "id": "og_VJE76PPyX",
        "outputId": "54d2d116-47f6-430f-f258-cf015aaa34f2"
      },
      "source": [
        "pd.DataFrame(history4.history).plot(figsize=(8, 5))\n",
        "plt.grid(True)\n",
        "plt.gca().set_ylim(0, 1)\n",
        "plt.show()"
      ],
      "execution_count": null,
      "outputs": [
        {
          "output_type": "display_data",
          "data": {
            "image/png": "[encoded data removed]",
            "text/plain": [
              "<Figure size 576x360 with 1 Axes>"
            ]
          },
          "metadata": {
            "tags": [],
            "needs_background": "light"
          }
        }
      ]
    },
    {
      "cell_type": "code",
      "metadata": {
        "colab": {
          "base_uri": "https://localhost:8080/"
        },
        "id": "XYcXplRsPgT2",
        "outputId": "12743c8c-f565-427a-d063-f6e31c332a4e"
      },
      "source": [
        "score = model4.evaluate(x_test, y_test)"
      ],
      "execution_count": null,
      "outputs": [
        {
          "output_type": "stream",
          "text": [
            "313/313 [==============================] - 1s 2ms/step - loss: 0.0550 - accuracy: 0.9816\n"
          ],
          "name": "stdout"
        }
      ]
    },
    {
      "cell_type": "code",
      "metadata": {
        "colab": {
          "base_uri": "https://localhost:8080/"
        },
        "id": "g658Zi5IPiNA",
        "outputId": "800dcb2c-6d7e-4da6-bc9c-5de995130183"
      },
      "source": [
        "print('Test Loss:', score[0])\n",
        "print('Test accuracy:', score[1])"
      ],
      "execution_count": null,
      "outputs": [
        {
          "output_type": "stream",
          "text": [
            "Test Loss: 2.3025221824645996\n",
            "Test accuracy: 0.11559999734163284\n"
          ],
          "name": "stdout"
        }
      ]
    },
    {
      "cell_type": "code",
      "metadata": {
        "colab": {
          "base_uri": "https://localhost:8080/"
        },
        "id": "wlAp29NDhKE-",
        "outputId": "1411fa93-a1c7-4994-cb9e-cab51f5d0f6a"
      },
      "source": [
        "accuracy4 = 100*score[1]\n",
        "print('Test accuracy: %.4f%%' % accuracy4)"
      ],
      "execution_count": null,
      "outputs": [
        {
          "output_type": "stream",
          "text": [
            "Test accuracy: 98.1600%\n"
          ],
          "name": "stdout"
        }
      ]
    },
    {
      "cell_type": "markdown",
      "metadata": {
        "id": "WYmfT34iQnse"
      },
      "source": [
        "# Model 5"
      ]
    },
    {
      "cell_type": "code",
      "metadata": {
        "id": "psrVhbrKQqfs"
      },
      "source": [
        "model5 = Sequential()\n",
        "model5.add(Conv2D(32, kernel_size=(3,3),padding=\"same\", activation='relu',input_shape=(28,28,1)))\n",
        "model5.add(MaxPooling2D(pool_size=(2, 2)))\n",
        "model5.add(Conv2D(64, kernel_size=(3,3), padding=\"same\",activation='relu'))\n",
        "model5.add(MaxPooling2D(pool_size=(2, 2)))\n",
        "model5.add(Flatten())\n",
        "model5.add(Dense(64, activation='relu'))\n",
        "model5.add(Dense(10, activation='softmax'))"
      ],
      "execution_count": 7,
      "outputs": []
    },
    {
      "cell_type": "code",
      "metadata": {
        "colab": {
          "base_uri": "https://localhost:8080/"
        },
        "id": "HCD10HJlQvXr",
        "outputId": "d93aad8e-1555-4f1f-86db-be1351bbcc64"
      },
      "source": [
        "model5.compile(loss=tf.keras.metrics.categorical_crossentropy, optimizer='rmsprop', metrics=['accuracy'])\n",
        "history5=model5.fit(x_train, y_train, batch_size=128, epochs=20, verbose=1, validation_data=(x_test, y_test))"
      ],
      "execution_count": 8,
      "outputs": [
        {
          "output_type": "stream",
          "text": [
            "Epoch 1/20\n",
            "469/469 [==============================] - 34s 6ms/step - loss: 0.2190 - accuracy: 0.9313 - val_loss: 0.0519 - val_accuracy: 0.9827\n",
            "Epoch 2/20\n",
            "469/469 [==============================] - 3s 5ms/step - loss: 0.0550 - accuracy: 0.9829 - val_loss: 0.0423 - val_accuracy: 0.9868\n",
            "Epoch 3/20\n",
            "469/469 [==============================] - 3s 5ms/step - loss: 0.0380 - accuracy: 0.9883 - val_loss: 0.0349 - val_accuracy: 0.9884\n",
            "Epoch 4/20\n",
            "469/469 [==============================] - 3s 5ms/step - loss: 0.0278 - accuracy: 0.9913 - val_loss: 0.0282 - val_accuracy: 0.9897\n",
            "Epoch 5/20\n",
            "469/469 [==============================] - 3s 5ms/step - loss: 0.0218 - accuracy: 0.9933 - val_loss: 0.0262 - val_accuracy: 0.9913\n",
            "Epoch 6/20\n",
            "469/469 [==============================] - 3s 5ms/step - loss: 0.0173 - accuracy: 0.9945 - val_loss: 0.0303 - val_accuracy: 0.9909\n",
            "Epoch 7/20\n",
            "469/469 [==============================] - 3s 6ms/step - loss: 0.0127 - accuracy: 0.9961 - val_loss: 0.0291 - val_accuracy: 0.9914\n",
            "Epoch 8/20\n",
            "469/469 [==============================] - 3s 5ms/step - loss: 0.0110 - accuracy: 0.9968 - val_loss: 0.0310 - val_accuracy: 0.9905\n",
            "Epoch 9/20\n",
            "469/469 [==============================] - 3s 5ms/step - loss: 0.0081 - accuracy: 0.9974 - val_loss: 0.0329 - val_accuracy: 0.9918\n",
            "Epoch 10/20\n",
            "469/469 [==============================] - 3s 5ms/step - loss: 0.0074 - accuracy: 0.9978 - val_loss: 0.0309 - val_accuracy: 0.9907\n",
            "Epoch 11/20\n",
            "469/469 [==============================] - 2s 5ms/step - loss: 0.0057 - accuracy: 0.9983 - val_loss: 0.0343 - val_accuracy: 0.9902\n",
            "Epoch 12/20\n",
            "469/469 [==============================] - 3s 6ms/step - loss: 0.0049 - accuracy: 0.9986 - val_loss: 0.0308 - val_accuracy: 0.9929\n",
            "Epoch 13/20\n",
            "469/469 [==============================] - 3s 5ms/step - loss: 0.0040 - accuracy: 0.9989 - val_loss: 0.0354 - val_accuracy: 0.9904\n",
            "Epoch 14/20\n",
            "469/469 [==============================] - 3s 5ms/step - loss: 0.0034 - accuracy: 0.9990 - val_loss: 0.0437 - val_accuracy: 0.9901\n",
            "Epoch 15/20\n",
            "469/469 [==============================] - 3s 5ms/step - loss: 0.0028 - accuracy: 0.9992 - val_loss: 0.0459 - val_accuracy: 0.9898\n",
            "Epoch 16/20\n",
            "469/469 [==============================] - 3s 6ms/step - loss: 0.0026 - accuracy: 0.9992 - val_loss: 0.0403 - val_accuracy: 0.9908\n",
            "Epoch 17/20\n",
            "469/469 [==============================] - 3s 6ms/step - loss: 0.0022 - accuracy: 0.9993 - val_loss: 0.0403 - val_accuracy: 0.9908\n",
            "Epoch 18/20\n",
            "469/469 [==============================] - 3s 6ms/step - loss: 0.0019 - accuracy: 0.9993 - val_loss: 0.0431 - val_accuracy: 0.9910\n",
            "Epoch 19/20\n",
            "469/469 [==============================] - 3s 6ms/step - loss: 0.0018 - accuracy: 0.9995 - val_loss: 0.0505 - val_accuracy: 0.9909\n",
            "Epoch 20/20\n",
            "469/469 [==============================] - 3s 6ms/step - loss: 0.0015 - accuracy: 0.9995 - val_loss: 0.0560 - val_accuracy: 0.9904\n"
          ],
          "name": "stdout"
        }
      ]
    },
    {
      "cell_type": "code",
      "metadata": {
        "colab": {
          "base_uri": "https://localhost:8080/",
          "height": 663
        },
        "id": "Nk9GokVsQwGM",
        "outputId": "68f7b7b3-8ec6-4f03-93bc-6b3413c0af8d"
      },
      "source": [
        "pd.DataFrame(history5.history)"
      ],
      "execution_count": 9,
      "outputs": [
        {
          "output_type": "execute_result",
          "data": {
            "text/html": [
              "<div>\n",
              "<style scoped>\n",
              "    .dataframe tbody tr th:only-of-type {\n",
              "        vertical-align: middle;\n",
              "    }\n",
              "\n",
              "    .dataframe tbody tr th {\n",
              "        vertical-align: top;\n",
              "    }\n",
              "\n",
              "    .dataframe thead th {\n",
              "        text-align: right;\n",
              "    }\n",
              "</style>\n",
              "<table border=\"1\" class=\"dataframe\">\n",
              "  <thead>\n",
              "    <tr style=\"text-align: right;\">\n",
              "      <th></th>\n",
              "      <th>loss</th>\n",
              "      <th>accuracy</th>\n",
              "      <th>val_loss</th>\n",
              "      <th>val_accuracy</th>\n",
              "    </tr>\n",
              "  </thead>\n",
              "  <tbody>\n",
              "    <tr>\n",
              "      <th>0</th>\n",
              "      <td>0.219050</td>\n",
              "      <td>0.931267</td>\n",
              "      <td>0.051948</td>\n",
              "      <td>0.9827</td>\n",
              "    </tr>\n",
              "    <tr>\n",
              "      <th>1</th>\n",
              "      <td>0.055045</td>\n",
              "      <td>0.982950</td>\n",
              "      <td>0.042285</td>\n",
              "      <td>0.9868</td>\n",
              "    </tr>\n",
              "    <tr>\n",
              "      <th>2</th>\n",
              "      <td>0.037989</td>\n",
              "      <td>0.988283</td>\n",
              "      <td>0.034863</td>\n",
              "      <td>0.9884</td>\n",
              "    </tr>\n",
              "    <tr>\n",
              "      <th>3</th>\n",
              "      <td>0.027798</td>\n",
              "      <td>0.991317</td>\n",
              "      <td>0.028152</td>\n",
              "      <td>0.9897</td>\n",
              "    </tr>\n",
              "    <tr>\n",
              "      <th>4</th>\n",
              "      <td>0.021761</td>\n",
              "      <td>0.993250</td>\n",
              "      <td>0.026193</td>\n",
              "      <td>0.9913</td>\n",
              "    </tr>\n",
              "    <tr>\n",
              "      <th>5</th>\n",
              "      <td>0.017350</td>\n",
              "      <td>0.994500</td>\n",
              "      <td>0.030338</td>\n",
              "      <td>0.9909</td>\n",
              "    </tr>\n",
              "    <tr>\n",
              "      <th>6</th>\n",
              "      <td>0.012662</td>\n",
              "      <td>0.996050</td>\n",
              "      <td>0.029142</td>\n",
              "      <td>0.9914</td>\n",
              "    </tr>\n",
              "    <tr>\n",
              "      <th>7</th>\n",
              "      <td>0.010977</td>\n",
              "      <td>0.996783</td>\n",
              "      <td>0.030979</td>\n",
              "      <td>0.9905</td>\n",
              "    </tr>\n",
              "    <tr>\n",
              "      <th>8</th>\n",
              "      <td>0.008125</td>\n",
              "      <td>0.997450</td>\n",
              "      <td>0.032905</td>\n",
              "      <td>0.9918</td>\n",
              "    </tr>\n",
              "    <tr>\n",
              "      <th>9</th>\n",
              "      <td>0.007443</td>\n",
              "      <td>0.997767</td>\n",
              "      <td>0.030878</td>\n",
              "      <td>0.9907</td>\n",
              "    </tr>\n",
              "    <tr>\n",
              "      <th>10</th>\n",
              "      <td>0.005685</td>\n",
              "      <td>0.998300</td>\n",
              "      <td>0.034283</td>\n",
              "      <td>0.9902</td>\n",
              "    </tr>\n",
              "    <tr>\n",
              "      <th>11</th>\n",
              "      <td>0.004881</td>\n",
              "      <td>0.998567</td>\n",
              "      <td>0.030802</td>\n",
              "      <td>0.9929</td>\n",
              "    </tr>\n",
              "    <tr>\n",
              "      <th>12</th>\n",
              "      <td>0.003989</td>\n",
              "      <td>0.998917</td>\n",
              "      <td>0.035356</td>\n",
              "      <td>0.9904</td>\n",
              "    </tr>\n",
              "    <tr>\n",
              "      <th>13</th>\n",
              "      <td>0.003390</td>\n",
              "      <td>0.998967</td>\n",
              "      <td>0.043685</td>\n",
              "      <td>0.9901</td>\n",
              "    </tr>\n",
              "    <tr>\n",
              "      <th>14</th>\n",
              "      <td>0.002826</td>\n",
              "      <td>0.999250</td>\n",
              "      <td>0.045856</td>\n",
              "      <td>0.9898</td>\n",
              "    </tr>\n",
              "    <tr>\n",
              "      <th>15</th>\n",
              "      <td>0.002571</td>\n",
              "      <td>0.999250</td>\n",
              "      <td>0.040325</td>\n",
              "      <td>0.9908</td>\n",
              "    </tr>\n",
              "    <tr>\n",
              "      <th>16</th>\n",
              "      <td>0.002208</td>\n",
              "      <td>0.999300</td>\n",
              "      <td>0.040327</td>\n",
              "      <td>0.9908</td>\n",
              "    </tr>\n",
              "    <tr>\n",
              "      <th>17</th>\n",
              "      <td>0.001891</td>\n",
              "      <td>0.999317</td>\n",
              "      <td>0.043107</td>\n",
              "      <td>0.9910</td>\n",
              "    </tr>\n",
              "    <tr>\n",
              "      <th>18</th>\n",
              "      <td>0.001763</td>\n",
              "      <td>0.999517</td>\n",
              "      <td>0.050454</td>\n",
              "      <td>0.9909</td>\n",
              "    </tr>\n",
              "    <tr>\n",
              "      <th>19</th>\n",
              "      <td>0.001516</td>\n",
              "      <td>0.999483</td>\n",
              "      <td>0.055994</td>\n",
              "      <td>0.9904</td>\n",
              "    </tr>\n",
              "  </tbody>\n",
              "</table>\n",
              "</div>"
            ],
            "text/plain": [
              "        loss  accuracy  val_loss  val_accuracy\n",
              "0   0.219050  0.931267  0.051948        0.9827\n",
              "1   0.055045  0.982950  0.042285        0.9868\n",
              "2   0.037989  0.988283  0.034863        0.9884\n",
              "3   0.027798  0.991317  0.028152        0.9897\n",
              "4   0.021761  0.993250  0.026193        0.9913\n",
              "5   0.017350  0.994500  0.030338        0.9909\n",
              "6   0.012662  0.996050  0.029142        0.9914\n",
              "7   0.010977  0.996783  0.030979        0.9905\n",
              "8   0.008125  0.997450  0.032905        0.9918\n",
              "9   0.007443  0.997767  0.030878        0.9907\n",
              "10  0.005685  0.998300  0.034283        0.9902\n",
              "11  0.004881  0.998567  0.030802        0.9929\n",
              "12  0.003989  0.998917  0.035356        0.9904\n",
              "13  0.003390  0.998967  0.043685        0.9901\n",
              "14  0.002826  0.999250  0.045856        0.9898\n",
              "15  0.002571  0.999250  0.040325        0.9908\n",
              "16  0.002208  0.999300  0.040327        0.9908\n",
              "17  0.001891  0.999317  0.043107        0.9910\n",
              "18  0.001763  0.999517  0.050454        0.9909\n",
              "19  0.001516  0.999483  0.055994        0.9904"
            ]
          },
          "metadata": {
            "tags": []
          },
          "execution_count": 9
        }
      ]
    },
    {
      "cell_type": "code",
      "metadata": {
        "colab": {
          "base_uri": "https://localhost:8080/",
          "height": 324
        },
        "id": "4Ugo2siIQyxb",
        "outputId": "fb15e2fc-9ae7-4b11-edd6-141efd396a6b"
      },
      "source": [
        "pd.DataFrame(history5.history).plot(figsize=(8, 5))\n",
        "plt.grid(True)\n",
        "plt.gca().set_ylim(0, 1)\n",
        "plt.show()"
      ],
      "execution_count": 10,
      "outputs": [
        {
          "output_type": "display_data",
          "data": {
            "image/png": "[encoded data removed]",
            "text/plain": [
              "<Figure size 576x360 with 1 Axes>"
            ]
          },
          "metadata": {
            "tags": [],
            "needs_background": "light"
          }
        }
      ]
    },
    {
      "cell_type": "code",
      "metadata": {
        "colab": {
          "base_uri": "https://localhost:8080/"
        },
        "id": "OWwEFl0vQ0sE",
        "outputId": "ae9ed41b-263e-425d-d1bc-988363b8b740"
      },
      "source": [
        "score5 = model5.evaluate(x_test, y_test)"
      ],
      "execution_count": 11,
      "outputs": [
        {
          "output_type": "stream",
          "text": [
            "313/313 [==============================] - 1s 2ms/step - loss: 0.0560 - accuracy: 0.9904\n"
          ],
          "name": "stdout"
        }
      ]
    },
    {
      "cell_type": "code",
      "metadata": {
        "colab": {
          "base_uri": "https://localhost:8080/"
        },
        "id": "GItOLd3iQ26K",
        "outputId": "65a19746-801e-4e11-c31e-a04560ee25da"
      },
      "source": [
        "print('Test Loss:', score5[0])\n",
        "print('Test accuracy:', score5[1])"
      ],
      "execution_count": 12,
      "outputs": [
        {
          "output_type": "stream",
          "text": [
            "Test Loss: 0.05599365383386612\n",
            "Test accuracy: 0.9904000163078308\n"
          ],
          "name": "stdout"
        }
      ]
    },
    {
      "cell_type": "code",
      "metadata": {
        "colab": {
          "base_uri": "https://localhost:8080/"
        },
        "id": "Yo0K6ZY1fBm3",
        "outputId": "a1407278-727d-40ec-f971-81a6cbe20175"
      },
      "source": [
        "accuracy5 = 100*score5[1]\n",
        "print('Test accuracy: %.4f%%' % accuracy5)"
      ],
      "execution_count": 13,
      "outputs": [
        {
          "output_type": "stream",
          "text": [
            "Test accuracy: 99.0400%\n"
          ],
          "name": "stdout"
        }
      ]
    },
    {
      "cell_type": "markdown",
      "metadata": {
        "id": "GnttvE16VCBl"
      },
      "source": [
        "# Comparison chart"
      ]
    },
    {
      "cell_type": "markdown",
      "metadata": {
        "id": "XPjSUBEHhqao"
      },
      "source": [
        "![image.png](data:image/png;base64,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)"
      ]
    }
  ]
}