{
  "nbformat": 4,
  "nbformat_minor": 0,
  "metadata": {
    "colab": {
      "name": "CNN architectures .ipynb",
      "provenance": [],
      "collapsed_sections": [],
      "authorship_tag": "ABX9TyOwVDMAojFvB/WNE0ijK5Fo",
      "include_colab_link": true
    },
    "kernelspec": {
      "name": "python3",
      "display_name": "Python 3"
    },
    "language_info": {
      "name": "python"
    },
    "accelerator": "GPU"
  },
  "cells": [
    {
      "cell_type": "markdown",
      "metadata": {
        "id": "view-in-github",
        "colab_type": "text"
      },
      "source": [
        "<a href=\"https://colab.research.google.com/github/sarikamohan08/MNIST/blob/main/CNN_architectures_.ipynb\" target=\"_parent\"><img src=\"https://colab.research.google.com/assets/colab-badge.svg\" alt=\"Open In Colab\"/></a>"
      ]
    },
    {
      "cell_type": "markdown",
      "metadata": {
        "id": "VkYSfV_4vdJQ"
      },
      "source": [
        "importing libraries"
      ]
    },
    {
      "cell_type": "code",
      "metadata": {
        "id": "asQTvzkf9_3h"
      },
      "source": [
        "import tensorflow as tf\n",
        "import numpy as np\n",
        "import pandas as pd\n",
        "import matplotlib.pyplot as plt\n",
        "import seaborn as sns\n"
      ],
      "execution_count": 86,
      "outputs": []
    },
    {
      "cell_type": "code",
      "metadata": {
        "id": "TCPbAT6_-Pz8"
      },
      "source": [
        "from tensorflow.keras import Model\n",
        "from tensorflow.keras.models import Sequential\n",
        "from tensorflow.keras.losses import categorical_crossentropy\n",
        "from tensorflow.keras.layers import Dense, Flatten, Conv2D, MaxPooling2D,Dropout\n",
        "\n",
        "from tensorflow.keras import datasets\n",
        "from tensorflow.keras.utils import to_categorical"
      ],
      "execution_count": 87,
      "outputs": []
    },
    {
      "cell_type": "markdown",
      "metadata": {
        "id": "nXnzH86GvtVP"
      },
      "source": [
        "dataset"
      ]
    },
    {
      "cell_type": "code",
      "metadata": {
        "id": "WMiIyb45-TJV"
      },
      "source": [
        "(x_train, y_train), (x_test, y_test) = datasets.mnist.load_data()"
      ],
      "execution_count": 88,
      "outputs": []
    },
    {
      "cell_type": "markdown",
      "metadata": {
        "id": "MpkWTtqdv3VD"
      },
      "source": [
        "Peforming reshaping operation"
      ]
    },
    {
      "cell_type": "code",
      "metadata": {
        "id": "9ePVjrkn-WkM"
      },
      "source": [
        "x_train = x_train.reshape(x_train.shape[0], 28, 28, 1)\n",
        "x_test = x_test.reshape(x_test.shape[0], 28, 28, 1)"
      ],
      "execution_count": 90,
      "outputs": []
    },
    {
      "cell_type": "markdown",
      "metadata": {
        "id": "798r6-Vzv6Ls"
      },
      "source": [
        "Normalization"
      ]
    },
    {
      "cell_type": "code",
      "metadata": {
        "id": "a-SLxB4V-Y3Z"
      },
      "source": [
        "x_train = x_train / 255\n",
        "x_test = x_test / 255"
      ],
      "execution_count": 91,
      "outputs": []
    },
    {
      "cell_type": "markdown",
      "metadata": {
        "id": "jbDPtpgjv9nY"
      },
      "source": [
        " One Hot Encoding"
      ]
    },
    {
      "cell_type": "code",
      "metadata": {
        "id": "4g2H2EAX-aXt"
      },
      "source": [
        "y_train = tf.keras.utils.to_categorical(y_train, 10)\n",
        "y_test = tf.keras.utils.to_categorical(y_test, 10)"
      ],
      "execution_count": 92,
      "outputs": []
    },
    {
      "cell_type": "markdown",
      "metadata": {
        "id": "DDOcp7MN_Km2"
      },
      "source": [
        "# Model 1"
      ]
    },
    {
      "cell_type": "code",
      "metadata": {
        "id": "NlPKmcfX-ctz"
      },
      "source": [
        "model1 = Sequential()\n",
        "model1.add(Conv2D(16, kernel_size=(3,3),padding=\"same\", activation='relu', input_shape=(28,28,1)))\n",
        "model1.add(MaxPooling2D(pool_size=(2, 2)))\n",
        "model1.add(Conv2D(32, kernel_size=(3,3),padding=\"same\", activation='relu'))\n",
        "model1.add(MaxPooling2D(pool_size=(2, 2)))\n",
        "model1.add(Conv2D(64, kernel_size=(3,3), padding=\"same\",activation='relu'))\n",
        "model1.add(MaxPooling2D(pool_size=(2, 2)))\n",
        "model1.add(Dropout(0.3))\n",
        "model1.add(Flatten())\n",
        "model1.add(Dense(256, activation='relu'))\n",
        "model1.add(Dropout(0.4))\n",
        "model1.add(Dense(128, activation='relu'))\n",
        "model1.add(Dense(64, activation='relu'))\n",
        "model1.add(Dense(10, activation='softmax'))"
      ],
      "execution_count": 146,
      "outputs": []
    },
    {
      "cell_type": "code",
      "metadata": {
        "colab": {
          "base_uri": "https://localhost:8080/"
        },
        "id": "DwhKkf1D-eoP",
        "outputId": "84a48a05-b63a-455f-b1c1-583afeaab21c"
      },
      "source": [
        "model1.summary()"
      ],
      "execution_count": 147,
      "outputs": [
        {
          "output_type": "stream",
          "text": [
            "Model: \"sequential_22\"\n",
            "_________________________________________________________________\n",
            "Layer (type)                 Output Shape              Param #   \n",
            "=================================================================\n",
            "conv2d_66 (Conv2D)           (None, 28, 28, 16)        160       \n",
            "_________________________________________________________________\n",
            "max_pooling2d_66 (MaxPooling (None, 14, 14, 16)        0         \n",
            "_________________________________________________________________\n",
            "conv2d_67 (Conv2D)           (None, 14, 14, 32)        4640      \n",
            "_________________________________________________________________\n",
            "max_pooling2d_67 (MaxPooling (None, 7, 7, 32)          0         \n",
            "_________________________________________________________________\n",
            "conv2d_68 (Conv2D)           (None, 7, 7, 64)          18496     \n",
            "_________________________________________________________________\n",
            "max_pooling2d_68 (MaxPooling (None, 3, 3, 64)          0         \n",
            "_________________________________________________________________\n",
            "dropout_19 (Dropout)         (None, 3, 3, 64)          0         \n",
            "_________________________________________________________________\n",
            "flatten_20 (Flatten)         (None, 576)               0         \n",
            "_________________________________________________________________\n",
            "dense_77 (Dense)             (None, 256)               147712    \n",
            "_________________________________________________________________\n",
            "dropout_20 (Dropout)         (None, 256)               0         \n",
            "_________________________________________________________________\n",
            "dense_78 (Dense)             (None, 128)               32896     \n",
            "_________________________________________________________________\n",
            "dense_79 (Dense)             (None, 64)                8256      \n",
            "_________________________________________________________________\n",
            "dense_80 (Dense)             (None, 10)                650       \n",
            "=================================================================\n",
            "Total params: 212,810\n",
            "Trainable params: 212,810\n",
            "Non-trainable params: 0\n",
            "_________________________________________________________________\n"
          ],
          "name": "stdout"
        }
      ]
    },
    {
      "cell_type": "code",
      "metadata": {
        "colab": {
          "base_uri": "https://localhost:8080/"
        },
        "id": "HXXUK5R4-hAg",
        "outputId": "8a2991e1-e202-490d-d06a-a9deca4052c6"
      },
      "source": [
        "model1.compile(loss=tf.keras.metrics.categorical_crossentropy, optimizer=tf.keras.optimizers.Adam(), metrics=['accuracy'])\n",
        "history=model1.fit(x_train, y_train, batch_size=128, epochs=20, verbose=1, validation_data=(x_test, y_test))"
      ],
      "execution_count": 148,
      "outputs": [
        {
          "output_type": "stream",
          "text": [
            "Epoch 1/20\n",
            "469/469 [==============================] - 3s 6ms/step - loss: 0.3540 - accuracy: 0.8835 - val_loss: 0.0627 - val_accuracy: 0.9799\n",
            "Epoch 2/20\n",
            "469/469 [==============================] - 2s 5ms/step - loss: 0.0919 - accuracy: 0.9715 - val_loss: 0.0364 - val_accuracy: 0.9885\n",
            "Epoch 3/20\n",
            "469/469 [==============================] - 2s 5ms/step - loss: 0.0678 - accuracy: 0.9790 - val_loss: 0.0304 - val_accuracy: 0.9900\n",
            "Epoch 4/20\n",
            "469/469 [==============================] - 2s 5ms/step - loss: 0.0537 - accuracy: 0.9835 - val_loss: 0.0264 - val_accuracy: 0.9908\n",
            "Epoch 5/20\n",
            "469/469 [==============================] - 2s 5ms/step - loss: 0.0486 - accuracy: 0.9851 - val_loss: 0.0216 - val_accuracy: 0.9925\n",
            "Epoch 6/20\n",
            "469/469 [==============================] - 2s 5ms/step - loss: 0.0444 - accuracy: 0.9866 - val_loss: 0.0229 - val_accuracy: 0.9926\n",
            "Epoch 7/20\n",
            "469/469 [==============================] - 2s 5ms/step - loss: 0.0365 - accuracy: 0.9888 - val_loss: 0.0214 - val_accuracy: 0.9926\n",
            "Epoch 8/20\n",
            "469/469 [==============================] - 2s 5ms/step - loss: 0.0353 - accuracy: 0.9891 - val_loss: 0.0225 - val_accuracy: 0.9925\n",
            "Epoch 9/20\n",
            "469/469 [==============================] - 2s 5ms/step - loss: 0.0320 - accuracy: 0.9899 - val_loss: 0.0219 - val_accuracy: 0.9927\n",
            "Epoch 10/20\n",
            "469/469 [==============================] - 2s 5ms/step - loss: 0.0320 - accuracy: 0.9902 - val_loss: 0.0284 - val_accuracy: 0.9907\n",
            "Epoch 11/20\n",
            "469/469 [==============================] - 2s 5ms/step - loss: 0.0284 - accuracy: 0.9909 - val_loss: 0.0264 - val_accuracy: 0.9928\n",
            "Epoch 12/20\n",
            "469/469 [==============================] - 2s 5ms/step - loss: 0.0274 - accuracy: 0.9913 - val_loss: 0.0216 - val_accuracy: 0.9929\n",
            "Epoch 13/20\n",
            "469/469 [==============================] - 2s 5ms/step - loss: 0.0260 - accuracy: 0.9919 - val_loss: 0.0246 - val_accuracy: 0.9928\n",
            "Epoch 14/20\n",
            "469/469 [==============================] - 2s 5ms/step - loss: 0.0259 - accuracy: 0.9922 - val_loss: 0.0235 - val_accuracy: 0.9930\n",
            "Epoch 15/20\n",
            "469/469 [==============================] - 2s 5ms/step - loss: 0.0238 - accuracy: 0.9928 - val_loss: 0.0233 - val_accuracy: 0.9926\n",
            "Epoch 16/20\n",
            "469/469 [==============================] - 2s 5ms/step - loss: 0.0218 - accuracy: 0.9930 - val_loss: 0.0254 - val_accuracy: 0.9930\n",
            "Epoch 17/20\n",
            "469/469 [==============================] - 2s 5ms/step - loss: 0.0205 - accuracy: 0.9936 - val_loss: 0.0242 - val_accuracy: 0.9928\n",
            "Epoch 18/20\n",
            "469/469 [==============================] - 2s 5ms/step - loss: 0.0198 - accuracy: 0.9937 - val_loss: 0.0232 - val_accuracy: 0.9925\n",
            "Epoch 19/20\n",
            "469/469 [==============================] - 2s 5ms/step - loss: 0.0187 - accuracy: 0.9945 - val_loss: 0.0242 - val_accuracy: 0.9933\n",
            "Epoch 20/20\n",
            "469/469 [==============================] - 2s 5ms/step - loss: 0.0176 - accuracy: 0.9948 - val_loss: 0.0230 - val_accuracy: 0.9937\n"
          ],
          "name": "stdout"
        }
      ]
    },
    {
      "cell_type": "code",
      "metadata": {
        "colab": {
          "base_uri": "https://localhost:8080/"
        },
        "id": "2RvXa0PqMERQ",
        "outputId": "b82e4202-247b-45e4-f98a-78fa46aba616"
      },
      "source": [
        "history.params"
      ],
      "execution_count": 149,
      "outputs": [
        {
          "output_type": "execute_result",
          "data": {
            "text/plain": [
              "{'epochs': 20, 'steps': 469, 'verbose': 1}"
            ]
          },
          "metadata": {
            "tags": []
          },
          "execution_count": 149
        }
      ]
    },
    {
      "cell_type": "code",
      "metadata": {
        "colab": {
          "base_uri": "https://localhost:8080/",
          "height": 663
        },
        "id": "KtU8uBe4MGlO",
        "outputId": "84dbd73d-df08-474e-cb31-4d47dcb5d7ca"
      },
      "source": [
        "pd.DataFrame(history.history)"
      ],
      "execution_count": 150,
      "outputs": [
        {
          "output_type": "execute_result",
          "data": {
            "text/html": [
              "<div>\n",
              "<style scoped>\n",
              "    .dataframe tbody tr th:only-of-type {\n",
              "        vertical-align: middle;\n",
              "    }\n",
              "\n",
              "    .dataframe tbody tr th {\n",
              "        vertical-align: top;\n",
              "    }\n",
              "\n",
              "    .dataframe thead th {\n",
              "        text-align: right;\n",
              "    }\n",
              "</style>\n",
              "<table border=\"1\" class=\"dataframe\">\n",
              "  <thead>\n",
              "    <tr style=\"text-align: right;\">\n",
              "      <th></th>\n",
              "      <th>loss</th>\n",
              "      <th>accuracy</th>\n",
              "      <th>val_loss</th>\n",
              "      <th>val_accuracy</th>\n",
              "    </tr>\n",
              "  </thead>\n",
              "  <tbody>\n",
              "    <tr>\n",
              "      <th>0</th>\n",
              "      <td>0.353985</td>\n",
              "      <td>0.883500</td>\n",
              "      <td>0.062731</td>\n",
              "      <td>0.9799</td>\n",
              "    </tr>\n",
              "    <tr>\n",
              "      <th>1</th>\n",
              "      <td>0.091882</td>\n",
              "      <td>0.971550</td>\n",
              "      <td>0.036411</td>\n",
              "      <td>0.9885</td>\n",
              "    </tr>\n",
              "    <tr>\n",
              "      <th>2</th>\n",
              "      <td>0.067763</td>\n",
              "      <td>0.978950</td>\n",
              "      <td>0.030396</td>\n",
              "      <td>0.9900</td>\n",
              "    </tr>\n",
              "    <tr>\n",
              "      <th>3</th>\n",
              "      <td>0.053745</td>\n",
              "      <td>0.983533</td>\n",
              "      <td>0.026438</td>\n",
              "      <td>0.9908</td>\n",
              "    </tr>\n",
              "    <tr>\n",
              "      <th>4</th>\n",
              "      <td>0.048645</td>\n",
              "      <td>0.985067</td>\n",
              "      <td>0.021590</td>\n",
              "      <td>0.9925</td>\n",
              "    </tr>\n",
              "    <tr>\n",
              "      <th>5</th>\n",
              "      <td>0.044441</td>\n",
              "      <td>0.986617</td>\n",
              "      <td>0.022858</td>\n",
              "      <td>0.9926</td>\n",
              "    </tr>\n",
              "    <tr>\n",
              "      <th>6</th>\n",
              "      <td>0.036457</td>\n",
              "      <td>0.988767</td>\n",
              "      <td>0.021390</td>\n",
              "      <td>0.9926</td>\n",
              "    </tr>\n",
              "    <tr>\n",
              "      <th>7</th>\n",
              "      <td>0.035294</td>\n",
              "      <td>0.989083</td>\n",
              "      <td>0.022519</td>\n",
              "      <td>0.9925</td>\n",
              "    </tr>\n",
              "    <tr>\n",
              "      <th>8</th>\n",
              "      <td>0.031984</td>\n",
              "      <td>0.989867</td>\n",
              "      <td>0.021899</td>\n",
              "      <td>0.9927</td>\n",
              "    </tr>\n",
              "    <tr>\n",
              "      <th>9</th>\n",
              "      <td>0.032013</td>\n",
              "      <td>0.990250</td>\n",
              "      <td>0.028382</td>\n",
              "      <td>0.9907</td>\n",
              "    </tr>\n",
              "    <tr>\n",
              "      <th>10</th>\n",
              "      <td>0.028353</td>\n",
              "      <td>0.990883</td>\n",
              "      <td>0.026398</td>\n",
              "      <td>0.9928</td>\n",
              "    </tr>\n",
              "    <tr>\n",
              "      <th>11</th>\n",
              "      <td>0.027383</td>\n",
              "      <td>0.991350</td>\n",
              "      <td>0.021594</td>\n",
              "      <td>0.9929</td>\n",
              "    </tr>\n",
              "    <tr>\n",
              "      <th>12</th>\n",
              "      <td>0.025982</td>\n",
              "      <td>0.991900</td>\n",
              "      <td>0.024650</td>\n",
              "      <td>0.9928</td>\n",
              "    </tr>\n",
              "    <tr>\n",
              "      <th>13</th>\n",
              "      <td>0.025935</td>\n",
              "      <td>0.992167</td>\n",
              "      <td>0.023539</td>\n",
              "      <td>0.9930</td>\n",
              "    </tr>\n",
              "    <tr>\n",
              "      <th>14</th>\n",
              "      <td>0.023763</td>\n",
              "      <td>0.992800</td>\n",
              "      <td>0.023338</td>\n",
              "      <td>0.9926</td>\n",
              "    </tr>\n",
              "    <tr>\n",
              "      <th>15</th>\n",
              "      <td>0.021761</td>\n",
              "      <td>0.993050</td>\n",
              "      <td>0.025415</td>\n",
              "      <td>0.9930</td>\n",
              "    </tr>\n",
              "    <tr>\n",
              "      <th>16</th>\n",
              "      <td>0.020503</td>\n",
              "      <td>0.993567</td>\n",
              "      <td>0.024204</td>\n",
              "      <td>0.9928</td>\n",
              "    </tr>\n",
              "    <tr>\n",
              "      <th>17</th>\n",
              "      <td>0.019787</td>\n",
              "      <td>0.993683</td>\n",
              "      <td>0.023213</td>\n",
              "      <td>0.9925</td>\n",
              "    </tr>\n",
              "    <tr>\n",
              "      <th>18</th>\n",
              "      <td>0.018666</td>\n",
              "      <td>0.994517</td>\n",
              "      <td>0.024233</td>\n",
              "      <td>0.9933</td>\n",
              "    </tr>\n",
              "    <tr>\n",
              "      <th>19</th>\n",
              "      <td>0.017638</td>\n",
              "      <td>0.994750</td>\n",
              "      <td>0.023042</td>\n",
              "      <td>0.9937</td>\n",
              "    </tr>\n",
              "  </tbody>\n",
              "</table>\n",
              "</div>"
            ],
            "text/plain": [
              "        loss  accuracy  val_loss  val_accuracy\n",
              "0   0.353985  0.883500  0.062731        0.9799\n",
              "1   0.091882  0.971550  0.036411        0.9885\n",
              "2   0.067763  0.978950  0.030396        0.9900\n",
              "3   0.053745  0.983533  0.026438        0.9908\n",
              "4   0.048645  0.985067  0.021590        0.9925\n",
              "5   0.044441  0.986617  0.022858        0.9926\n",
              "6   0.036457  0.988767  0.021390        0.9926\n",
              "7   0.035294  0.989083  0.022519        0.9925\n",
              "8   0.031984  0.989867  0.021899        0.9927\n",
              "9   0.032013  0.990250  0.028382        0.9907\n",
              "10  0.028353  0.990883  0.026398        0.9928\n",
              "11  0.027383  0.991350  0.021594        0.9929\n",
              "12  0.025982  0.991900  0.024650        0.9928\n",
              "13  0.025935  0.992167  0.023539        0.9930\n",
              "14  0.023763  0.992800  0.023338        0.9926\n",
              "15  0.021761  0.993050  0.025415        0.9930\n",
              "16  0.020503  0.993567  0.024204        0.9928\n",
              "17  0.019787  0.993683  0.023213        0.9925\n",
              "18  0.018666  0.994517  0.024233        0.9933\n",
              "19  0.017638  0.994750  0.023042        0.9937"
            ]
          },
          "metadata": {
            "tags": []
          },
          "execution_count": 150
        }
      ]
    },
    {
      "cell_type": "code",
      "metadata": {
        "colab": {
          "base_uri": "https://localhost:8080/",
          "height": 324
        },
        "id": "tyrmoGsjMJsQ",
        "outputId": "73e98048-a756-49b4-d7e2-9a862880ca20"
      },
      "source": [
        "pd.DataFrame(history.history).plot(figsize=(8, 5))\n",
        "plt.grid(True)\n",
        "plt.gca().set_ylim(0, 1)\n",
        "plt.show()"
      ],
      "execution_count": 151,
      "outputs": [
        {
          "output_type": "display_data",
          "data": {
            "image/png": "[encoded data removed]",
            "text/plain": [
              "<Figure size 576x360 with 1 Axes>"
            ]
          },
          "metadata": {
            "tags": [],
            "needs_background": "light"
          }
        }
      ]
    },
    {
      "cell_type": "code",
      "metadata": {
        "colab": {
          "base_uri": "https://localhost:8080/"
        },
        "id": "h9Pvxw5u-izq",
        "outputId": "ae9d0d05-8f03-4af8-c8df-c6be0bc0e7fd"
      },
      "source": [
        "score = model1.evaluate(x_test, y_test)"
      ],
      "execution_count": 152,
      "outputs": [
        {
          "output_type": "stream",
          "text": [
            "313/313 [==============================] - 1s 3ms/step - loss: 0.0230 - accuracy: 0.9937\n"
          ],
          "name": "stdout"
        }
      ]
    },
    {
      "cell_type": "code",
      "metadata": {
        "colab": {
          "base_uri": "https://localhost:8080/"
        },
        "id": "w0HzSN8H-ke5",
        "outputId": "7e4d6c12-30c7-4706-8c8a-ac9a20d5b04e"
      },
      "source": [
        "print('Test Loss:', score[0])\n",
        "print('Test accuracy:', score[1])"
      ],
      "execution_count": 154,
      "outputs": [
        {
          "output_type": "stream",
          "text": [
            "Test Loss: 0.023042108863592148\n",
            "Test accuracy: 0.9937000274658203\n"
          ],
          "name": "stdout"
        }
      ]
    },
    {
      "cell_type": "code",
      "metadata": {
        "colab": {
          "base_uri": "https://localhost:8080/"
        },
        "id": "WY-cyB4mhCuv",
        "outputId": "88d4082a-c036-4bac-fdb8-bdb8b5fd764a"
      },
      "source": [
        "accuracy1 = 100*score[1]\n",
        "print('Test accuracy: %.4f%%' % accuracy1)"
      ],
      "execution_count": 165,
      "outputs": [
        {
          "output_type": "stream",
          "text": [
            "Test accuracy: 99.1800%\n"
          ],
          "name": "stdout"
        }
      ]
    },
    {
      "cell_type": "markdown",
      "metadata": {
        "id": "y6nKbrTY_O12"
      },
      "source": [
        "# Model 2"
      ]
    },
    {
      "cell_type": "code",
      "metadata": {
        "id": "LeLZ1Wte_Rs1"
      },
      "source": [
        "model2 = Sequential()\n",
        "model2.add(Conv2D(16, kernel_size=(3,3),padding=\"same\", activation='tanh', input_shape=(28,28,1)))\n",
        "model2.add(MaxPooling2D(pool_size=(2, 2)))\n",
        "model2.add(Conv2D(32, kernel_size=(3,3),padding=\"same\", activation='tanh'))\n",
        "model2.add(MaxPooling2D(pool_size=(2, 2)))\n",
        "model2.add(Dropout(0.3))\n",
        "model2.add(Flatten())\n",
        "model2.add(Dense(128, activation='tanh'))\n",
        "model2.add(Dropout(0.4))\n",
        "model2.add(Dense(64, activation='tanh'))\n",
        "model2.add(Dense(10, activation='softmax'))"
      ],
      "execution_count": 155,
      "outputs": []
    },
    {
      "cell_type": "code",
      "metadata": {
        "colab": {
          "base_uri": "https://localhost:8080/"
        },
        "id": "xFV_eLxcLmoK",
        "outputId": "f3673c73-7d87-41b7-fe03-3f41c46365f3"
      },
      "source": [
        "model2.summary()"
      ],
      "execution_count": 156,
      "outputs": [
        {
          "output_type": "stream",
          "text": [
            "Model: \"sequential_23\"\n",
            "_________________________________________________________________\n",
            "Layer (type)                 Output Shape              Param #   \n",
            "=================================================================\n",
            "conv2d_69 (Conv2D)           (None, 28, 28, 16)        160       \n",
            "_________________________________________________________________\n",
            "max_pooling2d_69 (MaxPooling (None, 14, 14, 16)        0         \n",
            "_________________________________________________________________\n",
            "conv2d_70 (Conv2D)           (None, 14, 14, 32)        4640      \n",
            "_________________________________________________________________\n",
            "max_pooling2d_70 (MaxPooling (None, 7, 7, 32)          0         \n",
            "_________________________________________________________________\n",
            "dropout_21 (Dropout)         (None, 7, 7, 32)          0         \n",
            "_________________________________________________________________\n",
            "flatten_21 (Flatten)         (None, 1568)              0         \n",
            "_________________________________________________________________\n",
            "dense_81 (Dense)             (None, 128)               200832    \n",
            "_________________________________________________________________\n",
            "dropout_22 (Dropout)         (None, 128)               0         \n",
            "_________________________________________________________________\n",
            "dense_82 (Dense)             (None, 64)                8256      \n",
            "_________________________________________________________________\n",
            "dense_83 (Dense)             (None, 10)                650       \n",
            "=================================================================\n",
            "Total params: 214,538\n",
            "Trainable params: 214,538\n",
            "Non-trainable params: 0\n",
            "_________________________________________________________________\n"
          ],
          "name": "stdout"
        }
      ]
    },
    {
      "cell_type": "code",
      "metadata": {
        "colab": {
          "base_uri": "https://localhost:8080/"
        },
        "id": "V7nTRl1FLpJS",
        "outputId": "a9aac381-313a-4f96-c3a7-98d9d83d0a22"
      },
      "source": [
        "model2.compile(loss=tf.keras.metrics.categorical_crossentropy, optimizer=tf.keras.optimizers.Adam(), metrics=['accuracy'])\n",
        "history2=model2.fit(x_train, y_train, batch_size=128, epochs=20, verbose=1, validation_data=(x_test, y_test))"
      ],
      "execution_count": 157,
      "outputs": [
        {
          "output_type": "stream",
          "text": [
            "Epoch 1/20\n",
            "469/469 [==============================] - 3s 5ms/step - loss: 0.2725 - accuracy: 0.9201 - val_loss: 0.0703 - val_accuracy: 0.9770\n",
            "Epoch 2/20\n",
            "469/469 [==============================] - 2s 5ms/step - loss: 0.1003 - accuracy: 0.9696 - val_loss: 0.0495 - val_accuracy: 0.9838\n",
            "Epoch 3/20\n",
            "469/469 [==============================] - 2s 5ms/step - loss: 0.0799 - accuracy: 0.9755 - val_loss: 0.0425 - val_accuracy: 0.9851\n",
            "Epoch 4/20\n",
            "469/469 [==============================] - 2s 5ms/step - loss: 0.0683 - accuracy: 0.9790 - val_loss: 0.0427 - val_accuracy: 0.9869\n",
            "Epoch 5/20\n",
            "469/469 [==============================] - 2s 4ms/step - loss: 0.0609 - accuracy: 0.9814 - val_loss: 0.0380 - val_accuracy: 0.9880\n",
            "Epoch 6/20\n",
            "469/469 [==============================] - 2s 4ms/step - loss: 0.0568 - accuracy: 0.9828 - val_loss: 0.0383 - val_accuracy: 0.9886\n",
            "Epoch 7/20\n",
            "469/469 [==============================] - 2s 5ms/step - loss: 0.0505 - accuracy: 0.9844 - val_loss: 0.0371 - val_accuracy: 0.9887\n",
            "Epoch 8/20\n",
            "469/469 [==============================] - 2s 5ms/step - loss: 0.0482 - accuracy: 0.9848 - val_loss: 0.0305 - val_accuracy: 0.9898\n",
            "Epoch 9/20\n",
            "469/469 [==============================] - 2s 5ms/step - loss: 0.0460 - accuracy: 0.9853 - val_loss: 0.0318 - val_accuracy: 0.9904\n",
            "Epoch 10/20\n",
            "469/469 [==============================] - 2s 5ms/step - loss: 0.0438 - accuracy: 0.9866 - val_loss: 0.0303 - val_accuracy: 0.9905\n",
            "Epoch 11/20\n",
            "469/469 [==============================] - 2s 4ms/step - loss: 0.0414 - accuracy: 0.9865 - val_loss: 0.0330 - val_accuracy: 0.9896\n",
            "Epoch 12/20\n",
            "469/469 [==============================] - 2s 5ms/step - loss: 0.0392 - accuracy: 0.9873 - val_loss: 0.0322 - val_accuracy: 0.9894\n",
            "Epoch 13/20\n",
            "469/469 [==============================] - 2s 4ms/step - loss: 0.0375 - accuracy: 0.9882 - val_loss: 0.0289 - val_accuracy: 0.9912\n",
            "Epoch 14/20\n",
            "469/469 [==============================] - 2s 4ms/step - loss: 0.0364 - accuracy: 0.9882 - val_loss: 0.0319 - val_accuracy: 0.9903\n",
            "Epoch 15/20\n",
            "469/469 [==============================] - 2s 4ms/step - loss: 0.0362 - accuracy: 0.9886 - val_loss: 0.0317 - val_accuracy: 0.9905\n",
            "Epoch 16/20\n",
            "469/469 [==============================] - 2s 4ms/step - loss: 0.0332 - accuracy: 0.9893 - val_loss: 0.0310 - val_accuracy: 0.9904\n",
            "Epoch 17/20\n",
            "469/469 [==============================] - 2s 4ms/step - loss: 0.0337 - accuracy: 0.9895 - val_loss: 0.0310 - val_accuracy: 0.9899\n",
            "Epoch 18/20\n",
            "469/469 [==============================] - 2s 4ms/step - loss: 0.0311 - accuracy: 0.9897 - val_loss: 0.0286 - val_accuracy: 0.9924\n",
            "Epoch 19/20\n",
            "469/469 [==============================] - 2s 4ms/step - loss: 0.0303 - accuracy: 0.9898 - val_loss: 0.0305 - val_accuracy: 0.9910\n",
            "Epoch 20/20\n",
            "469/469 [==============================] - 2s 4ms/step - loss: 0.0306 - accuracy: 0.9902 - val_loss: 0.0304 - val_accuracy: 0.9918\n"
          ],
          "name": "stdout"
        }
      ]
    },
    {
      "cell_type": "code",
      "metadata": {
        "colab": {
          "base_uri": "https://localhost:8080/",
          "height": 663
        },
        "id": "D3HydAzYNRn7",
        "outputId": "793d8353-8565-435c-fefe-cbe0523aac1a"
      },
      "source": [
        "pd.DataFrame(history2.history)"
      ],
      "execution_count": 158,
      "outputs": [
        {
          "output_type": "execute_result",
          "data": {
            "text/html": [
              "<div>\n",
              "<style scoped>\n",
              "    .dataframe tbody tr th:only-of-type {\n",
              "        vertical-align: middle;\n",
              "    }\n",
              "\n",
              "    .dataframe tbody tr th {\n",
              "        vertical-align: top;\n",
              "    }\n",
              "\n",
              "    .dataframe thead th {\n",
              "        text-align: right;\n",
              "    }\n",
              "</style>\n",
              "<table border=\"1\" class=\"dataframe\">\n",
              "  <thead>\n",
              "    <tr style=\"text-align: right;\">\n",
              "      <th></th>\n",
              "      <th>loss</th>\n",
              "      <th>accuracy</th>\n",
              "      <th>val_loss</th>\n",
              "      <th>val_accuracy</th>\n",
              "    </tr>\n",
              "  </thead>\n",
              "  <tbody>\n",
              "    <tr>\n",
              "      <th>0</th>\n",
              "      <td>0.272524</td>\n",
              "      <td>0.920117</td>\n",
              "      <td>0.070308</td>\n",
              "      <td>0.9770</td>\n",
              "    </tr>\n",
              "    <tr>\n",
              "      <th>1</th>\n",
              "      <td>0.100323</td>\n",
              "      <td>0.969617</td>\n",
              "      <td>0.049483</td>\n",
              "      <td>0.9838</td>\n",
              "    </tr>\n",
              "    <tr>\n",
              "      <th>2</th>\n",
              "      <td>0.079939</td>\n",
              "      <td>0.975500</td>\n",
              "      <td>0.042489</td>\n",
              "      <td>0.9851</td>\n",
              "    </tr>\n",
              "    <tr>\n",
              "      <th>3</th>\n",
              "      <td>0.068288</td>\n",
              "      <td>0.979017</td>\n",
              "      <td>0.042731</td>\n",
              "      <td>0.9869</td>\n",
              "    </tr>\n",
              "    <tr>\n",
              "      <th>4</th>\n",
              "      <td>0.060874</td>\n",
              "      <td>0.981433</td>\n",
              "      <td>0.038004</td>\n",
              "      <td>0.9880</td>\n",
              "    </tr>\n",
              "    <tr>\n",
              "      <th>5</th>\n",
              "      <td>0.056833</td>\n",
              "      <td>0.982767</td>\n",
              "      <td>0.038347</td>\n",
              "      <td>0.9886</td>\n",
              "    </tr>\n",
              "    <tr>\n",
              "      <th>6</th>\n",
              "      <td>0.050534</td>\n",
              "      <td>0.984450</td>\n",
              "      <td>0.037150</td>\n",
              "      <td>0.9887</td>\n",
              "    </tr>\n",
              "    <tr>\n",
              "      <th>7</th>\n",
              "      <td>0.048178</td>\n",
              "      <td>0.984817</td>\n",
              "      <td>0.030483</td>\n",
              "      <td>0.9898</td>\n",
              "    </tr>\n",
              "    <tr>\n",
              "      <th>8</th>\n",
              "      <td>0.045971</td>\n",
              "      <td>0.985300</td>\n",
              "      <td>0.031811</td>\n",
              "      <td>0.9904</td>\n",
              "    </tr>\n",
              "    <tr>\n",
              "      <th>9</th>\n",
              "      <td>0.043776</td>\n",
              "      <td>0.986650</td>\n",
              "      <td>0.030334</td>\n",
              "      <td>0.9905</td>\n",
              "    </tr>\n",
              "    <tr>\n",
              "      <th>10</th>\n",
              "      <td>0.041389</td>\n",
              "      <td>0.986483</td>\n",
              "      <td>0.033048</td>\n",
              "      <td>0.9896</td>\n",
              "    </tr>\n",
              "    <tr>\n",
              "      <th>11</th>\n",
              "      <td>0.039179</td>\n",
              "      <td>0.987300</td>\n",
              "      <td>0.032161</td>\n",
              "      <td>0.9894</td>\n",
              "    </tr>\n",
              "    <tr>\n",
              "      <th>12</th>\n",
              "      <td>0.037506</td>\n",
              "      <td>0.988233</td>\n",
              "      <td>0.028940</td>\n",
              "      <td>0.9912</td>\n",
              "    </tr>\n",
              "    <tr>\n",
              "      <th>13</th>\n",
              "      <td>0.036378</td>\n",
              "      <td>0.988233</td>\n",
              "      <td>0.031916</td>\n",
              "      <td>0.9903</td>\n",
              "    </tr>\n",
              "    <tr>\n",
              "      <th>14</th>\n",
              "      <td>0.036173</td>\n",
              "      <td>0.988567</td>\n",
              "      <td>0.031716</td>\n",
              "      <td>0.9905</td>\n",
              "    </tr>\n",
              "    <tr>\n",
              "      <th>15</th>\n",
              "      <td>0.033209</td>\n",
              "      <td>0.989333</td>\n",
              "      <td>0.031018</td>\n",
              "      <td>0.9904</td>\n",
              "    </tr>\n",
              "    <tr>\n",
              "      <th>16</th>\n",
              "      <td>0.033667</td>\n",
              "      <td>0.989533</td>\n",
              "      <td>0.031028</td>\n",
              "      <td>0.9899</td>\n",
              "    </tr>\n",
              "    <tr>\n",
              "      <th>17</th>\n",
              "      <td>0.031146</td>\n",
              "      <td>0.989717</td>\n",
              "      <td>0.028614</td>\n",
              "      <td>0.9924</td>\n",
              "    </tr>\n",
              "    <tr>\n",
              "      <th>18</th>\n",
              "      <td>0.030309</td>\n",
              "      <td>0.989750</td>\n",
              "      <td>0.030509</td>\n",
              "      <td>0.9910</td>\n",
              "    </tr>\n",
              "    <tr>\n",
              "      <th>19</th>\n",
              "      <td>0.030576</td>\n",
              "      <td>0.990183</td>\n",
              "      <td>0.030442</td>\n",
              "      <td>0.9918</td>\n",
              "    </tr>\n",
              "  </tbody>\n",
              "</table>\n",
              "</div>"
            ],
            "text/plain": [
              "        loss  accuracy  val_loss  val_accuracy\n",
              "0   0.272524  0.920117  0.070308        0.9770\n",
              "1   0.100323  0.969617  0.049483        0.9838\n",
              "2   0.079939  0.975500  0.042489        0.9851\n",
              "3   0.068288  0.979017  0.042731        0.9869\n",
              "4   0.060874  0.981433  0.038004        0.9880\n",
              "5   0.056833  0.982767  0.038347        0.9886\n",
              "6   0.050534  0.984450  0.037150        0.9887\n",
              "7   0.048178  0.984817  0.030483        0.9898\n",
              "8   0.045971  0.985300  0.031811        0.9904\n",
              "9   0.043776  0.986650  0.030334        0.9905\n",
              "10  0.041389  0.986483  0.033048        0.9896\n",
              "11  0.039179  0.987300  0.032161        0.9894\n",
              "12  0.037506  0.988233  0.028940        0.9912\n",
              "13  0.036378  0.988233  0.031916        0.9903\n",
              "14  0.036173  0.988567  0.031716        0.9905\n",
              "15  0.033209  0.989333  0.031018        0.9904\n",
              "16  0.033667  0.989533  0.031028        0.9899\n",
              "17  0.031146  0.989717  0.028614        0.9924\n",
              "18  0.030309  0.989750  0.030509        0.9910\n",
              "19  0.030576  0.990183  0.030442        0.9918"
            ]
          },
          "metadata": {
            "tags": []
          },
          "execution_count": 158
        }
      ]
    },
    {
      "cell_type": "code",
      "metadata": {
        "colab": {
          "base_uri": "https://localhost:8080/",
          "height": 324
        },
        "id": "9BH4JqWfNZdO",
        "outputId": "acb91e2c-6445-4926-e952-8baf685f2e6d"
      },
      "source": [
        "pd.DataFrame(history2.history).plot(figsize=(8, 5))\n",
        "plt.grid(True)\n",
        "plt.gca().set_ylim(0, 1)\n",
        "plt.show()"
      ],
      "execution_count": 159,
      "outputs": [
        {
          "output_type": "display_data",
          "data": {
            "image/png": "[encoded data removed]",
            "text/plain": [
              "<Figure size 576x360 with 1 Axes>"
            ]
          },
          "metadata": {
            "tags": [],
            "needs_background": "light"
          }
        }
      ]
    },
    {
      "cell_type": "code",
      "metadata": {
        "colab": {
          "base_uri": "https://localhost:8080/"
        },
        "id": "C3one4JzLrKp",
        "outputId": "c6b40205-bbe8-4bda-fec8-bec63f406cf7"
      },
      "source": [
        "score = model2.evaluate(x_test, y_test)"
      ],
      "execution_count": 160,
      "outputs": [
        {
          "output_type": "stream",
          "text": [
            "313/313 [==============================] - 1s 2ms/step - loss: 0.0304 - accuracy: 0.9918\n"
          ],
          "name": "stdout"
        }
      ]
    },
    {
      "cell_type": "code",
      "metadata": {
        "colab": {
          "base_uri": "https://localhost:8080/"
        },
        "id": "TqI4GfA8Lspi",
        "outputId": "3fcc3494-bf51-4349-d73b-6c3367eebad8"
      },
      "source": [
        "print('Test Loss:', score[0])\n",
        "print('Test accuracy:', score[1])"
      ],
      "execution_count": 161,
      "outputs": [
        {
          "output_type": "stream",
          "text": [
            "Test Loss: 0.030441882088780403\n",
            "Test accuracy: 0.9918000102043152\n"
          ],
          "name": "stdout"
        }
      ]
    },
    {
      "cell_type": "code",
      "metadata": {
        "colab": {
          "base_uri": "https://localhost:8080/"
        },
        "id": "caJrqAp5hFnc",
        "outputId": "744bc2d1-c9f1-4085-8bd5-9c945889fa56"
      },
      "source": [
        "accuracy2= 100*score[1]\n",
        "print('Test accuracy: %.4f%%' % accuracy2)"
      ],
      "execution_count": 162,
      "outputs": [
        {
          "output_type": "stream",
          "text": [
            "Test accuracy: 99.1800%\n"
          ],
          "name": "stdout"
        }
      ]
    },
    {
      "cell_type": "markdown",
      "metadata": {
        "id": "T860ZWALN9no"
      },
      "source": [
        "# Model 3"
      ]
    },
    {
      "cell_type": "code",
      "metadata": {
        "id": "rDxWtkDaOAQA"
      },
      "source": [
        "model3 = Sequential()\n",
        "model3.add(Conv2D(16, kernel_size=(3,3),padding=\"valid\", activation='relu', input_shape=(28,28,1)))\n",
        "model3.add(MaxPooling2D(pool_size=(2, 2)))\n",
        "model3.add(Conv2D(32, kernel_size=(3,3),padding=\"valid\", activation='relu'))\n",
        "model3.add(MaxPooling2D(pool_size=(2, 2)))\n",
        "model3.add(Flatten())\n",
        "model3.add(Dense(128, activation='relu'))\n",
        "model3.add(Dropout(0.4))\n",
        "model3.add(Dense(64, activation='relu'))\n",
        "model3.add(Dense(10, activation='softmax'))"
      ],
      "execution_count": 298,
      "outputs": []
    },
    {
      "cell_type": "code",
      "metadata": {
        "colab": {
          "base_uri": "https://localhost:8080/"
        },
        "id": "ng1Mj4hbOFTJ",
        "outputId": "2bce3c20-ddd5-48d5-9b38-523bf726d707"
      },
      "source": [
        "model3.summary()"
      ],
      "execution_count": 299,
      "outputs": [
        {
          "output_type": "stream",
          "text": [
            "Model: \"sequential_42\"\n",
            "_________________________________________________________________\n",
            "Layer (type)                 Output Shape              Param #   \n",
            "=================================================================\n",
            "conv2d_129 (Conv2D)          (None, 26, 26, 16)        160       \n",
            "_________________________________________________________________\n",
            "max_pooling2d_129 (MaxPoolin (None, 13, 13, 16)        0         \n",
            "_________________________________________________________________\n",
            "conv2d_130 (Conv2D)          (None, 11, 11, 32)        4640      \n",
            "_________________________________________________________________\n",
            "max_pooling2d_130 (MaxPoolin (None, 5, 5, 32)          0         \n",
            "_________________________________________________________________\n",
            "flatten_39 (Flatten)         (None, 800)               0         \n",
            "_________________________________________________________________\n",
            "dense_133 (Dense)            (None, 128)               102528    \n",
            "_________________________________________________________________\n",
            "dropout_47 (Dropout)         (None, 128)               0         \n",
            "_________________________________________________________________\n",
            "dense_134 (Dense)            (None, 64)                8256      \n",
            "_________________________________________________________________\n",
            "dense_135 (Dense)            (None, 10)                650       \n",
            "=================================================================\n",
            "Total params: 116,234\n",
            "Trainable params: 116,234\n",
            "Non-trainable params: 0\n",
            "_________________________________________________________________\n"
          ],
          "name": "stdout"
        }
      ]
    },
    {
      "cell_type": "code",
      "metadata": {
        "colab": {
          "base_uri": "https://localhost:8080/"
        },
        "id": "Sm_0Kz8rOJlI",
        "outputId": "7da96e69-e621-4004-c276-5885f0973f47"
      },
      "source": [
        "model3.compile(loss=tf.keras.metrics.categorical_crossentropy, optimizer=tf.keras.optimizers.Adam(), metrics=['accuracy'])\n",
        "history3=model3.fit(x_train, y_train, batch_size=128, epochs=20, verbose=1, validation_data=(x_test, y_test))"
      ],
      "execution_count": 300,
      "outputs": [
        {
          "output_type": "stream",
          "text": [
            "Epoch 1/20\n",
            "469/469 [==============================] - 3s 5ms/step - loss: 0.3500 - accuracy: 0.8930 - val_loss: 0.0679 - val_accuracy: 0.9794\n",
            "Epoch 2/20\n",
            "469/469 [==============================] - 2s 4ms/step - loss: 0.0956 - accuracy: 0.9710 - val_loss: 0.0457 - val_accuracy: 0.9846\n",
            "Epoch 3/20\n",
            "469/469 [==============================] - 2s 4ms/step - loss: 0.0678 - accuracy: 0.9798 - val_loss: 0.0383 - val_accuracy: 0.9869\n",
            "Epoch 4/20\n",
            "469/469 [==============================] - 2s 4ms/step - loss: 0.0552 - accuracy: 0.9837 - val_loss: 0.0344 - val_accuracy: 0.9885\n",
            "Epoch 5/20\n",
            "469/469 [==============================] - 2s 4ms/step - loss: 0.0479 - accuracy: 0.9856 - val_loss: 0.0301 - val_accuracy: 0.9892\n",
            "Epoch 6/20\n",
            "469/469 [==============================] - 2s 4ms/step - loss: 0.0423 - accuracy: 0.9869 - val_loss: 0.0317 - val_accuracy: 0.9883\n",
            "Epoch 7/20\n",
            "469/469 [==============================] - 2s 4ms/step - loss: 0.0371 - accuracy: 0.9887 - val_loss: 0.0256 - val_accuracy: 0.9907\n",
            "Epoch 8/20\n",
            "469/469 [==============================] - 2s 4ms/step - loss: 0.0328 - accuracy: 0.9894 - val_loss: 0.0272 - val_accuracy: 0.9909\n",
            "Epoch 9/20\n",
            "469/469 [==============================] - 2s 4ms/step - loss: 0.0288 - accuracy: 0.9908 - val_loss: 0.0228 - val_accuracy: 0.9929\n",
            "Epoch 10/20\n",
            "469/469 [==============================] - 2s 4ms/step - loss: 0.0287 - accuracy: 0.9907 - val_loss: 0.0282 - val_accuracy: 0.9913\n",
            "Epoch 11/20\n",
            "469/469 [==============================] - 2s 4ms/step - loss: 0.0258 - accuracy: 0.9915 - val_loss: 0.0250 - val_accuracy: 0.9925\n",
            "Epoch 12/20\n",
            "469/469 [==============================] - 2s 4ms/step - loss: 0.0238 - accuracy: 0.9919 - val_loss: 0.0259 - val_accuracy: 0.9923\n",
            "Epoch 13/20\n",
            "469/469 [==============================] - 2s 4ms/step - loss: 0.0209 - accuracy: 0.9928 - val_loss: 0.0292 - val_accuracy: 0.9923\n",
            "Epoch 14/20\n",
            "469/469 [==============================] - 2s 4ms/step - loss: 0.0214 - accuracy: 0.9930 - val_loss: 0.0277 - val_accuracy: 0.9926\n",
            "Epoch 15/20\n",
            "469/469 [==============================] - 2s 4ms/step - loss: 0.0171 - accuracy: 0.9944 - val_loss: 0.0300 - val_accuracy: 0.9910\n",
            "Epoch 16/20\n",
            "469/469 [==============================] - 2s 4ms/step - loss: 0.0188 - accuracy: 0.9941 - val_loss: 0.0260 - val_accuracy: 0.9929\n",
            "Epoch 17/20\n",
            "469/469 [==============================] - 2s 4ms/step - loss: 0.0157 - accuracy: 0.9947 - val_loss: 0.0316 - val_accuracy: 0.9911\n",
            "Epoch 18/20\n",
            "469/469 [==============================] - 2s 4ms/step - loss: 0.0165 - accuracy: 0.9948 - val_loss: 0.0306 - val_accuracy: 0.9909\n",
            "Epoch 19/20\n",
            "469/469 [==============================] - 2s 4ms/step - loss: 0.0140 - accuracy: 0.9953 - val_loss: 0.0271 - val_accuracy: 0.9930\n",
            "Epoch 20/20\n",
            "469/469 [==============================] - 2s 4ms/step - loss: 0.0144 - accuracy: 0.9949 - val_loss: 0.0345 - val_accuracy: 0.9914\n"
          ],
          "name": "stdout"
        }
      ]
    },
    {
      "cell_type": "code",
      "metadata": {
        "colab": {
          "base_uri": "https://localhost:8080/",
          "height": 663
        },
        "id": "ThvWUdPWOKVZ",
        "outputId": "a2de3b5a-3905-44b0-c5dd-5a21cdd5d77b"
      },
      "source": [
        "pd.DataFrame(history3.history)"
      ],
      "execution_count": 301,
      "outputs": [
        {
          "output_type": "execute_result",
          "data": {
            "text/html": [
              "<div>\n",
              "<style scoped>\n",
              "    .dataframe tbody tr th:only-of-type {\n",
              "        vertical-align: middle;\n",
              "    }\n",
              "\n",
              "    .dataframe tbody tr th {\n",
              "        vertical-align: top;\n",
              "    }\n",
              "\n",
              "    .dataframe thead th {\n",
              "        text-align: right;\n",
              "    }\n",
              "</style>\n",
              "<table border=\"1\" class=\"dataframe\">\n",
              "  <thead>\n",
              "    <tr style=\"text-align: right;\">\n",
              "      <th></th>\n",
              "      <th>loss</th>\n",
              "      <th>accuracy</th>\n",
              "      <th>val_loss</th>\n",
              "      <th>val_accuracy</th>\n",
              "    </tr>\n",
              "  </thead>\n",
              "  <tbody>\n",
              "    <tr>\n",
              "      <th>0</th>\n",
              "      <td>0.350014</td>\n",
              "      <td>0.893033</td>\n",
              "      <td>0.067865</td>\n",
              "      <td>0.9794</td>\n",
              "    </tr>\n",
              "    <tr>\n",
              "      <th>1</th>\n",
              "      <td>0.095635</td>\n",
              "      <td>0.971033</td>\n",
              "      <td>0.045678</td>\n",
              "      <td>0.9846</td>\n",
              "    </tr>\n",
              "    <tr>\n",
              "      <th>2</th>\n",
              "      <td>0.067752</td>\n",
              "      <td>0.979833</td>\n",
              "      <td>0.038278</td>\n",
              "      <td>0.9869</td>\n",
              "    </tr>\n",
              "    <tr>\n",
              "      <th>3</th>\n",
              "      <td>0.055159</td>\n",
              "      <td>0.983700</td>\n",
              "      <td>0.034397</td>\n",
              "      <td>0.9885</td>\n",
              "    </tr>\n",
              "    <tr>\n",
              "      <th>4</th>\n",
              "      <td>0.047906</td>\n",
              "      <td>0.985567</td>\n",
              "      <td>0.030096</td>\n",
              "      <td>0.9892</td>\n",
              "    </tr>\n",
              "    <tr>\n",
              "      <th>5</th>\n",
              "      <td>0.042342</td>\n",
              "      <td>0.986917</td>\n",
              "      <td>0.031746</td>\n",
              "      <td>0.9883</td>\n",
              "    </tr>\n",
              "    <tr>\n",
              "      <th>6</th>\n",
              "      <td>0.037080</td>\n",
              "      <td>0.988650</td>\n",
              "      <td>0.025594</td>\n",
              "      <td>0.9907</td>\n",
              "    </tr>\n",
              "    <tr>\n",
              "      <th>7</th>\n",
              "      <td>0.032765</td>\n",
              "      <td>0.989400</td>\n",
              "      <td>0.027206</td>\n",
              "      <td>0.9909</td>\n",
              "    </tr>\n",
              "    <tr>\n",
              "      <th>8</th>\n",
              "      <td>0.028849</td>\n",
              "      <td>0.990800</td>\n",
              "      <td>0.022799</td>\n",
              "      <td>0.9929</td>\n",
              "    </tr>\n",
              "    <tr>\n",
              "      <th>9</th>\n",
              "      <td>0.028710</td>\n",
              "      <td>0.990717</td>\n",
              "      <td>0.028205</td>\n",
              "      <td>0.9913</td>\n",
              "    </tr>\n",
              "    <tr>\n",
              "      <th>10</th>\n",
              "      <td>0.025794</td>\n",
              "      <td>0.991517</td>\n",
              "      <td>0.025035</td>\n",
              "      <td>0.9925</td>\n",
              "    </tr>\n",
              "    <tr>\n",
              "      <th>11</th>\n",
              "      <td>0.023770</td>\n",
              "      <td>0.991900</td>\n",
              "      <td>0.025905</td>\n",
              "      <td>0.9923</td>\n",
              "    </tr>\n",
              "    <tr>\n",
              "      <th>12</th>\n",
              "      <td>0.020914</td>\n",
              "      <td>0.992783</td>\n",
              "      <td>0.029182</td>\n",
              "      <td>0.9923</td>\n",
              "    </tr>\n",
              "    <tr>\n",
              "      <th>13</th>\n",
              "      <td>0.021408</td>\n",
              "      <td>0.993000</td>\n",
              "      <td>0.027698</td>\n",
              "      <td>0.9926</td>\n",
              "    </tr>\n",
              "    <tr>\n",
              "      <th>14</th>\n",
              "      <td>0.017083</td>\n",
              "      <td>0.994383</td>\n",
              "      <td>0.029956</td>\n",
              "      <td>0.9910</td>\n",
              "    </tr>\n",
              "    <tr>\n",
              "      <th>15</th>\n",
              "      <td>0.018786</td>\n",
              "      <td>0.994050</td>\n",
              "      <td>0.026018</td>\n",
              "      <td>0.9929</td>\n",
              "    </tr>\n",
              "    <tr>\n",
              "      <th>16</th>\n",
              "      <td>0.015682</td>\n",
              "      <td>0.994683</td>\n",
              "      <td>0.031599</td>\n",
              "      <td>0.9911</td>\n",
              "    </tr>\n",
              "    <tr>\n",
              "      <th>17</th>\n",
              "      <td>0.016459</td>\n",
              "      <td>0.994767</td>\n",
              "      <td>0.030574</td>\n",
              "      <td>0.9909</td>\n",
              "    </tr>\n",
              "    <tr>\n",
              "      <th>18</th>\n",
              "      <td>0.013992</td>\n",
              "      <td>0.995267</td>\n",
              "      <td>0.027053</td>\n",
              "      <td>0.9930</td>\n",
              "    </tr>\n",
              "    <tr>\n",
              "      <th>19</th>\n",
              "      <td>0.014365</td>\n",
              "      <td>0.994933</td>\n",
              "      <td>0.034509</td>\n",
              "      <td>0.9914</td>\n",
              "    </tr>\n",
              "  </tbody>\n",
              "</table>\n",
              "</div>"
            ],
            "text/plain": [
              "        loss  accuracy  val_loss  val_accuracy\n",
              "0   0.350014  0.893033  0.067865        0.9794\n",
              "1   0.095635  0.971033  0.045678        0.9846\n",
              "2   0.067752  0.979833  0.038278        0.9869\n",
              "3   0.055159  0.983700  0.034397        0.9885\n",
              "4   0.047906  0.985567  0.030096        0.9892\n",
              "5   0.042342  0.986917  0.031746        0.9883\n",
              "6   0.037080  0.988650  0.025594        0.9907\n",
              "7   0.032765  0.989400  0.027206        0.9909\n",
              "8   0.028849  0.990800  0.022799        0.9929\n",
              "9   0.028710  0.990717  0.028205        0.9913\n",
              "10  0.025794  0.991517  0.025035        0.9925\n",
              "11  0.023770  0.991900  0.025905        0.9923\n",
              "12  0.020914  0.992783  0.029182        0.9923\n",
              "13  0.021408  0.993000  0.027698        0.9926\n",
              "14  0.017083  0.994383  0.029956        0.9910\n",
              "15  0.018786  0.994050  0.026018        0.9929\n",
              "16  0.015682  0.994683  0.031599        0.9911\n",
              "17  0.016459  0.994767  0.030574        0.9909\n",
              "18  0.013992  0.995267  0.027053        0.9930\n",
              "19  0.014365  0.994933  0.034509        0.9914"
            ]
          },
          "metadata": {
            "tags": []
          },
          "execution_count": 301
        }
      ]
    },
    {
      "cell_type": "code",
      "metadata": {
        "colab": {
          "base_uri": "https://localhost:8080/",
          "height": 324
        },
        "id": "T9DkwEhwOOPd",
        "outputId": "86216a05-5444-4a2e-99b9-516039df9163"
      },
      "source": [
        "pd.DataFrame(history3.history).plot(figsize=(8, 5))\n",
        "plt.grid(True)\n",
        "plt.gca().set_ylim(0, 1)\n",
        "plt.show()"
      ],
      "execution_count": 302,
      "outputs": [
        {
          "output_type": "display_data",
          "data": {
            "image/png": "[encoded data removed]",
            "text/plain": [
              "<Figure size 576x360 with 1 Axes>"
            ]
          },
          "metadata": {
            "tags": [],
            "needs_background": "light"
          }
        }
      ]
    },
    {
      "cell_type": "code",
      "metadata": {
        "colab": {
          "base_uri": "https://localhost:8080/"
        },
        "id": "rgQOWGygOQHS",
        "outputId": "930de72f-bfc4-4ec9-b656-6c4f8a421d8c"
      },
      "source": [
        "score = model3.evaluate(x_test, y_test)"
      ],
      "execution_count": 303,
      "outputs": [
        {
          "output_type": "stream",
          "text": [
            "313/313 [==============================] - 1s 3ms/step - loss: 0.0345 - accuracy: 0.9914\n"
          ],
          "name": "stdout"
        }
      ]
    },
    {
      "cell_type": "code",
      "metadata": {
        "colab": {
          "base_uri": "https://localhost:8080/"
        },
        "id": "8wO4mNbMOR4g",
        "outputId": "34df5955-46b2-4805-81f4-c0e06c2d6f32"
      },
      "source": [
        "print('Test Loss:', score[0])\n",
        "print('Test accuracy:', score[1])"
      ],
      "execution_count": 304,
      "outputs": [
        {
          "output_type": "stream",
          "text": [
            "Test Loss: 0.03450864180922508\n",
            "Test accuracy: 0.9914000034332275\n"
          ],
          "name": "stdout"
        }
      ]
    },
    {
      "cell_type": "code",
      "metadata": {
        "colab": {
          "base_uri": "https://localhost:8080/"
        },
        "id": "5qZiAnPvgjFX",
        "outputId": "ffd1d1dd-a0ae-4ad4-d293-048394ca64b0"
      },
      "source": [
        "accuracy3 = 100*score[1]\n",
        "print('Test accuracy: %.4f%%' % accuracy3)"
      ],
      "execution_count": 305,
      "outputs": [
        {
          "output_type": "stream",
          "text": [
            "Test accuracy: 99.1400%\n"
          ],
          "name": "stdout"
        }
      ]
    },
    {
      "cell_type": "markdown",
      "metadata": {
        "id": "KoC72fQPPHfe"
      },
      "source": [
        "# Model 4"
      ]
    },
    {
      "cell_type": "code",
      "metadata": {
        "id": "JZ0LgPAoPLdp"
      },
      "source": [
        "model4 = Sequential()\n",
        "model4.add(Conv2D(16, kernel_size=(3,3),padding=\"same\", activation='relu', input_shape=(28,28,1)))\n",
        "model4.add(MaxPooling2D(pool_size=(2, 2)))\n",
        "model4.add(Conv2D(32, kernel_size=(3,3),padding=\"same\", activation='relu'))\n",
        "model4.add(MaxPooling2D(pool_size=(2, 2)))\n",
        "model4.add(Conv2D(64, kernel_size=(3,3), padding=\"same\",activation='relu'))\n",
        "model4.add(MaxPooling2D(pool_size=(2, 2)))\n",
        "model4.add(Conv2D(128, kernel_size=(3,3), padding=\"same\",activation='relu'))\n",
        "model4.add(MaxPooling2D(pool_size=(2, 2)))\n",
        "model4.add(Dropout(0.3))\n",
        "model4.add(Flatten())\n",
        "model4.add(Dense(256, activation='relu'))\n",
        "model4.add(Dropout(0.4))\n",
        "model4.add(Dense(64, activation='relu'))\n",
        "model4.add(Dense(10, activation='softmax'))"
      ],
      "execution_count": 306,
      "outputs": []
    },
    {
      "cell_type": "code",
      "metadata": {
        "colab": {
          "base_uri": "https://localhost:8080/"
        },
        "id": "vYquv053TVQf",
        "outputId": "a750b3d1-a07b-4c12-987c-3e3bae81ac93"
      },
      "source": [
        "optimizers = tf.keras.optimizers.SGD(lr=0.001, momentum=0.9)"
      ],
      "execution_count": 307,
      "outputs": [
        {
          "output_type": "stream",
          "text": [
            "/usr/local/lib/python3.7/dist-packages/tensorflow/python/keras/optimizer_v2/optimizer_v2.py:375: UserWarning: The `lr` argument is deprecated, use `learning_rate` instead.\n",
            "  \"The `lr` argument is deprecated, use `learning_rate` instead.\")\n"
          ],
          "name": "stderr"
        }
      ]
    },
    {
      "cell_type": "code",
      "metadata": {
        "colab": {
          "base_uri": "https://localhost:8080/"
        },
        "id": "6l9ILpr4PXcY",
        "outputId": "1f9c6e35-a5b7-40af-ae14-e80046848f86"
      },
      "source": [
        "model4.compile(loss=tf.keras.metrics.categorical_crossentropy, optimizer=optimizers, metrics=['accuracy'])\n",
        "history4=model4.fit(x_train, y_train, batch_size=128, epochs=20, verbose=1, validation_data=(x_test, y_test))"
      ],
      "execution_count": 308,
      "outputs": [
        {
          "output_type": "stream",
          "text": [
            "Epoch 1/20\n",
            "469/469 [==============================] - 3s 6ms/step - loss: 2.2871 - accuracy: 0.1579 - val_loss: 2.2474 - val_accuracy: 0.4186\n",
            "Epoch 2/20\n",
            "469/469 [==============================] - 3s 5ms/step - loss: 2.0062 - accuracy: 0.3688 - val_loss: 0.9045 - val_accuracy: 0.7486\n",
            "Epoch 3/20\n",
            "469/469 [==============================] - 2s 5ms/step - loss: 0.7064 - accuracy: 0.7786 - val_loss: 0.2757 - val_accuracy: 0.9184\n",
            "Epoch 4/20\n",
            "469/469 [==============================] - 3s 5ms/step - loss: 0.3745 - accuracy: 0.8867 - val_loss: 0.1789 - val_accuracy: 0.9465\n",
            "Epoch 5/20\n",
            "469/469 [==============================] - 3s 5ms/step - loss: 0.2736 - accuracy: 0.9179 - val_loss: 0.1442 - val_accuracy: 0.9574\n",
            "Epoch 6/20\n",
            "469/469 [==============================] - 2s 5ms/step - loss: 0.2216 - accuracy: 0.9346 - val_loss: 0.1175 - val_accuracy: 0.9641\n",
            "Epoch 7/20\n",
            "469/469 [==============================] - 2s 5ms/step - loss: 0.1926 - accuracy: 0.9427 - val_loss: 0.1028 - val_accuracy: 0.9677\n",
            "Epoch 8/20\n",
            "469/469 [==============================] - 3s 5ms/step - loss: 0.1720 - accuracy: 0.9485 - val_loss: 0.0921 - val_accuracy: 0.9701\n",
            "Epoch 9/20\n",
            "469/469 [==============================] - 2s 5ms/step - loss: 0.1514 - accuracy: 0.9553 - val_loss: 0.0829 - val_accuracy: 0.9727\n",
            "Epoch 10/20\n",
            "469/469 [==============================] - 2s 5ms/step - loss: 0.1382 - accuracy: 0.9596 - val_loss: 0.0771 - val_accuracy: 0.9743\n",
            "Epoch 11/20\n",
            "469/469 [==============================] - 2s 5ms/step - loss: 0.1285 - accuracy: 0.9612 - val_loss: 0.0741 - val_accuracy: 0.9751\n",
            "Epoch 12/20\n",
            "469/469 [==============================] - 2s 5ms/step - loss: 0.1193 - accuracy: 0.9650 - val_loss: 0.0712 - val_accuracy: 0.9773\n",
            "Epoch 13/20\n",
            "469/469 [==============================] - 2s 5ms/step - loss: 0.1125 - accuracy: 0.9666 - val_loss: 0.0643 - val_accuracy: 0.9785\n",
            "Epoch 14/20\n",
            "469/469 [==============================] - 3s 5ms/step - loss: 0.1081 - accuracy: 0.9679 - val_loss: 0.0620 - val_accuracy: 0.9820\n",
            "Epoch 15/20\n",
            "469/469 [==============================] - 3s 5ms/step - loss: 0.1049 - accuracy: 0.9686 - val_loss: 0.0682 - val_accuracy: 0.9794\n",
            "Epoch 16/20\n",
            "469/469 [==============================] - 2s 5ms/step - loss: 0.0987 - accuracy: 0.9703 - val_loss: 0.0570 - val_accuracy: 0.9826\n",
            "Epoch 17/20\n",
            "469/469 [==============================] - 2s 5ms/step - loss: 0.0950 - accuracy: 0.9718 - val_loss: 0.0574 - val_accuracy: 0.9828\n",
            "Epoch 18/20\n",
            "469/469 [==============================] - 2s 5ms/step - loss: 0.0904 - accuracy: 0.9732 - val_loss: 0.0540 - val_accuracy: 0.9830\n",
            "Epoch 19/20\n",
            "469/469 [==============================] - 3s 5ms/step - loss: 0.0870 - accuracy: 0.9745 - val_loss: 0.0487 - val_accuracy: 0.9851\n",
            "Epoch 20/20\n",
            "469/469 [==============================] - 2s 5ms/step - loss: 0.0843 - accuracy: 0.9751 - val_loss: 0.0550 - val_accuracy: 0.9816\n"
          ],
          "name": "stdout"
        }
      ]
    },
    {
      "cell_type": "code",
      "metadata": {
        "colab": {
          "base_uri": "https://localhost:8080/",
          "height": 663
        },
        "id": "2MOofra5Pd0T",
        "outputId": "5eed3f04-36b9-4528-9b3b-1e507c175e2f"
      },
      "source": [
        "pd.DataFrame(history4.history)"
      ],
      "execution_count": 309,
      "outputs": [
        {
          "output_type": "execute_result",
          "data": {
            "text/html": [
              "<div>\n",
              "<style scoped>\n",
              "    .dataframe tbody tr th:only-of-type {\n",
              "        vertical-align: middle;\n",
              "    }\n",
              "\n",
              "    .dataframe tbody tr th {\n",
              "        vertical-align: top;\n",
              "    }\n",
              "\n",
              "    .dataframe thead th {\n",
              "        text-align: right;\n",
              "    }\n",
              "</style>\n",
              "<table border=\"1\" class=\"dataframe\">\n",
              "  <thead>\n",
              "    <tr style=\"text-align: right;\">\n",
              "      <th></th>\n",
              "      <th>loss</th>\n",
              "      <th>accuracy</th>\n",
              "      <th>val_loss</th>\n",
              "      <th>val_accuracy</th>\n",
              "    </tr>\n",
              "  </thead>\n",
              "  <tbody>\n",
              "    <tr>\n",
              "      <th>0</th>\n",
              "      <td>2.287135</td>\n",
              "      <td>0.157933</td>\n",
              "      <td>2.247384</td>\n",
              "      <td>0.4186</td>\n",
              "    </tr>\n",
              "    <tr>\n",
              "      <th>1</th>\n",
              "      <td>2.006152</td>\n",
              "      <td>0.368850</td>\n",
              "      <td>0.904538</td>\n",
              "      <td>0.7486</td>\n",
              "    </tr>\n",
              "    <tr>\n",
              "      <th>2</th>\n",
              "      <td>0.706424</td>\n",
              "      <td>0.778583</td>\n",
              "      <td>0.275656</td>\n",
              "      <td>0.9184</td>\n",
              "    </tr>\n",
              "    <tr>\n",
              "      <th>3</th>\n",
              "      <td>0.374503</td>\n",
              "      <td>0.886750</td>\n",
              "      <td>0.178895</td>\n",
              "      <td>0.9465</td>\n",
              "    </tr>\n",
              "    <tr>\n",
              "      <th>4</th>\n",
              "      <td>0.273593</td>\n",
              "      <td>0.917900</td>\n",
              "      <td>0.144162</td>\n",
              "      <td>0.9574</td>\n",
              "    </tr>\n",
              "    <tr>\n",
              "      <th>5</th>\n",
              "      <td>0.221632</td>\n",
              "      <td>0.934600</td>\n",
              "      <td>0.117539</td>\n",
              "      <td>0.9641</td>\n",
              "    </tr>\n",
              "    <tr>\n",
              "      <th>6</th>\n",
              "      <td>0.192596</td>\n",
              "      <td>0.942700</td>\n",
              "      <td>0.102842</td>\n",
              "      <td>0.9677</td>\n",
              "    </tr>\n",
              "    <tr>\n",
              "      <th>7</th>\n",
              "      <td>0.172022</td>\n",
              "      <td>0.948500</td>\n",
              "      <td>0.092053</td>\n",
              "      <td>0.9701</td>\n",
              "    </tr>\n",
              "    <tr>\n",
              "      <th>8</th>\n",
              "      <td>0.151360</td>\n",
              "      <td>0.955267</td>\n",
              "      <td>0.082861</td>\n",
              "      <td>0.9727</td>\n",
              "    </tr>\n",
              "    <tr>\n",
              "      <th>9</th>\n",
              "      <td>0.138205</td>\n",
              "      <td>0.959550</td>\n",
              "      <td>0.077136</td>\n",
              "      <td>0.9743</td>\n",
              "    </tr>\n",
              "    <tr>\n",
              "      <th>10</th>\n",
              "      <td>0.128521</td>\n",
              "      <td>0.961167</td>\n",
              "      <td>0.074128</td>\n",
              "      <td>0.9751</td>\n",
              "    </tr>\n",
              "    <tr>\n",
              "      <th>11</th>\n",
              "      <td>0.119327</td>\n",
              "      <td>0.964967</td>\n",
              "      <td>0.071169</td>\n",
              "      <td>0.9773</td>\n",
              "    </tr>\n",
              "    <tr>\n",
              "      <th>12</th>\n",
              "      <td>0.112460</td>\n",
              "      <td>0.966567</td>\n",
              "      <td>0.064346</td>\n",
              "      <td>0.9785</td>\n",
              "    </tr>\n",
              "    <tr>\n",
              "      <th>13</th>\n",
              "      <td>0.108146</td>\n",
              "      <td>0.967917</td>\n",
              "      <td>0.062019</td>\n",
              "      <td>0.9820</td>\n",
              "    </tr>\n",
              "    <tr>\n",
              "      <th>14</th>\n",
              "      <td>0.104902</td>\n",
              "      <td>0.968633</td>\n",
              "      <td>0.068226</td>\n",
              "      <td>0.9794</td>\n",
              "    </tr>\n",
              "    <tr>\n",
              "      <th>15</th>\n",
              "      <td>0.098719</td>\n",
              "      <td>0.970300</td>\n",
              "      <td>0.057010</td>\n",
              "      <td>0.9826</td>\n",
              "    </tr>\n",
              "    <tr>\n",
              "      <th>16</th>\n",
              "      <td>0.094965</td>\n",
              "      <td>0.971850</td>\n",
              "      <td>0.057417</td>\n",
              "      <td>0.9828</td>\n",
              "    </tr>\n",
              "    <tr>\n",
              "      <th>17</th>\n",
              "      <td>0.090421</td>\n",
              "      <td>0.973200</td>\n",
              "      <td>0.053955</td>\n",
              "      <td>0.9830</td>\n",
              "    </tr>\n",
              "    <tr>\n",
              "      <th>18</th>\n",
              "      <td>0.087035</td>\n",
              "      <td>0.974483</td>\n",
              "      <td>0.048678</td>\n",
              "      <td>0.9851</td>\n",
              "    </tr>\n",
              "    <tr>\n",
              "      <th>19</th>\n",
              "      <td>0.084277</td>\n",
              "      <td>0.975100</td>\n",
              "      <td>0.055021</td>\n",
              "      <td>0.9816</td>\n",
              "    </tr>\n",
              "  </tbody>\n",
              "</table>\n",
              "</div>"
            ],
            "text/plain": [
              "        loss  accuracy  val_loss  val_accuracy\n",
              "0   2.287135  0.157933  2.247384        0.4186\n",
              "1   2.006152  0.368850  0.904538        0.7486\n",
              "2   0.706424  0.778583  0.275656        0.9184\n",
              "3   0.374503  0.886750  0.178895        0.9465\n",
              "4   0.273593  0.917900  0.144162        0.9574\n",
              "5   0.221632  0.934600  0.117539        0.9641\n",
              "6   0.192596  0.942700  0.102842        0.9677\n",
              "7   0.172022  0.948500  0.092053        0.9701\n",
              "8   0.151360  0.955267  0.082861        0.9727\n",
              "9   0.138205  0.959550  0.077136        0.9743\n",
              "10  0.128521  0.961167  0.074128        0.9751\n",
              "11  0.119327  0.964967  0.071169        0.9773\n",
              "12  0.112460  0.966567  0.064346        0.9785\n",
              "13  0.108146  0.967917  0.062019        0.9820\n",
              "14  0.104902  0.968633  0.068226        0.9794\n",
              "15  0.098719  0.970300  0.057010        0.9826\n",
              "16  0.094965  0.971850  0.057417        0.9828\n",
              "17  0.090421  0.973200  0.053955        0.9830\n",
              "18  0.087035  0.974483  0.048678        0.9851\n",
              "19  0.084277  0.975100  0.055021        0.9816"
            ]
          },
          "metadata": {
            "tags": []
          },
          "execution_count": 309
        }
      ]
    },
    {
      "cell_type": "code",
      "metadata": {
        "colab": {
          "base_uri": "https://localhost:8080/",
          "height": 324
        },
        "id": "og_VJE76PPyX",
        "outputId": "54d2d116-47f6-430f-f258-cf015aaa34f2"
      },
      "source": [
        "pd.DataFrame(history4.history).plot(figsize=(8, 5))\n",
        "plt.grid(True)\n",
        "plt.gca().set_ylim(0, 1)\n",
        "plt.show()"
      ],
      "execution_count": 310,
      "outputs": [
        {
          "output_type": "display_data",
          "data": {
            "image/png": "[encoded data removed]",
            "text/plain": [
              "<Figure size 576x360 with 1 Axes>"
            ]
          },
          "metadata": {
            "tags": [],
            "needs_background": "light"
          }
        }
      ]
    },
    {
      "cell_type": "code",
      "metadata": {
        "colab": {
          "base_uri": "https://localhost:8080/"
        },
        "id": "XYcXplRsPgT2",
        "outputId": "12743c8c-f565-427a-d063-f6e31c332a4e"
      },
      "source": [
        "score = model4.evaluate(x_test, y_test)"
      ],
      "execution_count": 311,
      "outputs": [
        {
          "output_type": "stream",
          "text": [
            "313/313 [==============================] - 1s 2ms/step - loss: 0.0550 - accuracy: 0.9816\n"
          ],
          "name": "stdout"
        }
      ]
    },
    {
      "cell_type": "code",
      "metadata": {
        "colab": {
          "base_uri": "https://localhost:8080/"
        },
        "id": "g658Zi5IPiNA",
        "outputId": "800dcb2c-6d7e-4da6-bc9c-5de995130183"
      },
      "source": [
        "print('Test Loss:', score[0])\n",
        "print('Test accuracy:', score[1])"
      ],
      "execution_count": 191,
      "outputs": [
        {
          "output_type": "stream",
          "text": [
            "Test Loss: 2.3025221824645996\n",
            "Test accuracy: 0.11559999734163284\n"
          ],
          "name": "stdout"
        }
      ]
    },
    {
      "cell_type": "code",
      "metadata": {
        "colab": {
          "base_uri": "https://localhost:8080/"
        },
        "id": "wlAp29NDhKE-",
        "outputId": "1411fa93-a1c7-4994-cb9e-cab51f5d0f6a"
      },
      "source": [
        "accuracy4 = 100*score[1]\n",
        "print('Test accuracy: %.4f%%' % accuracy4)"
      ],
      "execution_count": 312,
      "outputs": [
        {
          "output_type": "stream",
          "text": [
            "Test accuracy: 98.1600%\n"
          ],
          "name": "stdout"
        }
      ]
    },
    {
      "cell_type": "markdown",
      "metadata": {
        "id": "WYmfT34iQnse"
      },
      "source": [
        "# Model 5"
      ]
    },
    {
      "cell_type": "code",
      "metadata": {
        "id": "psrVhbrKQqfs"
      },
      "source": [
        "model5 = Sequential()\n",
        "model5.add(Conv2D(32, kernel_size=(3,3),padding=\"same\", activation='relu',input_shape=(28,28,1)))\n",
        "model5.add(MaxPooling2D(pool_size=(2, 2)))\n",
        "model5.add(Conv2D(64, kernel_size=(3,3), padding=\"same\",activation='relu'))\n",
        "model5.add(MaxPooling2D(pool_size=(2, 2)))\n",
        "model5.add(Flatten())\n",
        "model5.add(Dense(64, activation='relu'))\n",
        "model5.add(Dense(10, activation='softmax'))"
      ],
      "execution_count": 290,
      "outputs": []
    },
    {
      "cell_type": "code",
      "metadata": {
        "colab": {
          "base_uri": "https://localhost:8080/"
        },
        "id": "HCD10HJlQvXr",
        "outputId": "4c25073e-9f5b-4833-e72f-a5d990e61c2d"
      },
      "source": [
        "model5.compile(loss=tf.keras.metrics.categorical_crossentropy, optimizer='rmsprop', metrics=['accuracy'])\n",
        "history5=model5.fit(x_train, y_train, batch_size=64, epochs=20, verbose=1, validation_data=(x_test, y_test))"
      ],
      "execution_count": 297,
      "outputs": [
        {
          "output_type": "stream",
          "text": [
            "Epoch 1/20\n",
            "938/938 [==============================] - 5s 5ms/step - loss: 0.1525 - accuracy: 0.9519 - val_loss: 0.0543 - val_accuracy: 0.9833\n",
            "Epoch 2/20\n",
            "938/938 [==============================] - 4s 4ms/step - loss: 0.0442 - accuracy: 0.9861 - val_loss: 0.0281 - val_accuracy: 0.9906\n",
            "Epoch 3/20\n",
            "938/938 [==============================] - 4s 5ms/step - loss: 0.0307 - accuracy: 0.9908 - val_loss: 0.0381 - val_accuracy: 0.9887\n",
            "Epoch 4/20\n",
            "938/938 [==============================] - 4s 4ms/step - loss: 0.0221 - accuracy: 0.9933 - val_loss: 0.0282 - val_accuracy: 0.9914\n",
            "Epoch 5/20\n",
            "938/938 [==============================] - 4s 4ms/step - loss: 0.0174 - accuracy: 0.9947 - val_loss: 0.0322 - val_accuracy: 0.9902\n",
            "Epoch 6/20\n",
            "938/938 [==============================] - 4s 4ms/step - loss: 0.0141 - accuracy: 0.9960 - val_loss: 0.0385 - val_accuracy: 0.9899\n",
            "Epoch 7/20\n",
            "938/938 [==============================] - 4s 4ms/step - loss: 0.0111 - accuracy: 0.9969 - val_loss: 0.0270 - val_accuracy: 0.9922\n",
            "Epoch 8/20\n",
            "938/938 [==============================] - 4s 4ms/step - loss: 0.0086 - accuracy: 0.9974 - val_loss: 0.0287 - val_accuracy: 0.9920\n",
            "Epoch 9/20\n",
            "938/938 [==============================] - 4s 4ms/step - loss: 0.0074 - accuracy: 0.9978 - val_loss: 0.0280 - val_accuracy: 0.9926\n",
            "Epoch 10/20\n",
            "938/938 [==============================] - 4s 4ms/step - loss: 0.0065 - accuracy: 0.9982 - val_loss: 0.0335 - val_accuracy: 0.9918\n",
            "Epoch 11/20\n",
            "938/938 [==============================] - 4s 4ms/step - loss: 0.0050 - accuracy: 0.9988 - val_loss: 0.0362 - val_accuracy: 0.9930\n",
            "Epoch 12/20\n",
            "938/938 [==============================] - 4s 4ms/step - loss: 0.0040 - accuracy: 0.9988 - val_loss: 0.0460 - val_accuracy: 0.9912\n",
            "Epoch 13/20\n",
            "938/938 [==============================] - 4s 4ms/step - loss: 0.0039 - accuracy: 0.9989 - val_loss: 0.0403 - val_accuracy: 0.9907\n",
            "Epoch 14/20\n",
            "938/938 [==============================] - 4s 4ms/step - loss: 0.0034 - accuracy: 0.9990 - val_loss: 0.0416 - val_accuracy: 0.9905\n",
            "Epoch 15/20\n",
            "938/938 [==============================] - 4s 4ms/step - loss: 0.0031 - accuracy: 0.9991 - val_loss: 0.0487 - val_accuracy: 0.9922\n",
            "Epoch 16/20\n",
            "938/938 [==============================] - 4s 4ms/step - loss: 0.0025 - accuracy: 0.9992 - val_loss: 0.0544 - val_accuracy: 0.9910\n",
            "Epoch 17/20\n",
            "938/938 [==============================] - 4s 5ms/step - loss: 0.0022 - accuracy: 0.9993 - val_loss: 0.0471 - val_accuracy: 0.9924\n",
            "Epoch 18/20\n",
            "938/938 [==============================] - 4s 4ms/step - loss: 0.0019 - accuracy: 0.9994 - val_loss: 0.0513 - val_accuracy: 0.9923\n",
            "Epoch 19/20\n",
            "938/938 [==============================] - 4s 5ms/step - loss: 0.0021 - accuracy: 0.9995 - val_loss: 0.0667 - val_accuracy: 0.9913\n",
            "Epoch 20/20\n",
            "938/938 [==============================] - 4s 4ms/step - loss: 0.0017 - accuracy: 0.9994 - val_loss: 0.0636 - val_accuracy: 0.9918\n"
          ],
          "name": "stdout"
        }
      ]
    },
    {
      "cell_type": "code",
      "metadata": {
        "colab": {
          "base_uri": "https://localhost:8080/",
          "height": 663
        },
        "id": "Nk9GokVsQwGM",
        "outputId": "264766a9-6d04-4912-a280-f27dd825542d"
      },
      "source": [
        "pd.DataFrame(history5.history)"
      ],
      "execution_count": 292,
      "outputs": [
        {
          "output_type": "execute_result",
          "data": {
            "text/html": [
              "<div>\n",
              "<style scoped>\n",
              "    .dataframe tbody tr th:only-of-type {\n",
              "        vertical-align: middle;\n",
              "    }\n",
              "\n",
              "    .dataframe tbody tr th {\n",
              "        vertical-align: top;\n",
              "    }\n",
              "\n",
              "    .dataframe thead th {\n",
              "        text-align: right;\n",
              "    }\n",
              "</style>\n",
              "<table border=\"1\" class=\"dataframe\">\n",
              "  <thead>\n",
              "    <tr style=\"text-align: right;\">\n",
              "      <th></th>\n",
              "      <th>loss</th>\n",
              "      <th>accuracy</th>\n",
              "      <th>val_loss</th>\n",
              "      <th>val_accuracy</th>\n",
              "    </tr>\n",
              "  </thead>\n",
              "  <tbody>\n",
              "    <tr>\n",
              "      <th>0</th>\n",
              "      <td>0.017182</td>\n",
              "      <td>0.994450</td>\n",
              "      <td>0.034077</td>\n",
              "      <td>0.9915</td>\n",
              "    </tr>\n",
              "    <tr>\n",
              "      <th>1</th>\n",
              "      <td>0.018429</td>\n",
              "      <td>0.993983</td>\n",
              "      <td>0.036050</td>\n",
              "      <td>0.9912</td>\n",
              "    </tr>\n",
              "    <tr>\n",
              "      <th>2</th>\n",
              "      <td>0.017110</td>\n",
              "      <td>0.994517</td>\n",
              "      <td>0.036946</td>\n",
              "      <td>0.9917</td>\n",
              "    </tr>\n",
              "    <tr>\n",
              "      <th>3</th>\n",
              "      <td>0.018571</td>\n",
              "      <td>0.994267</td>\n",
              "      <td>0.034420</td>\n",
              "      <td>0.9917</td>\n",
              "    </tr>\n",
              "    <tr>\n",
              "      <th>4</th>\n",
              "      <td>0.016661</td>\n",
              "      <td>0.994733</td>\n",
              "      <td>0.032073</td>\n",
              "      <td>0.9913</td>\n",
              "    </tr>\n",
              "    <tr>\n",
              "      <th>5</th>\n",
              "      <td>0.018301</td>\n",
              "      <td>0.993917</td>\n",
              "      <td>0.033651</td>\n",
              "      <td>0.9922</td>\n",
              "    </tr>\n",
              "    <tr>\n",
              "      <th>6</th>\n",
              "      <td>0.019838</td>\n",
              "      <td>0.993683</td>\n",
              "      <td>0.032276</td>\n",
              "      <td>0.9922</td>\n",
              "    </tr>\n",
              "    <tr>\n",
              "      <th>7</th>\n",
              "      <td>0.019283</td>\n",
              "      <td>0.993733</td>\n",
              "      <td>0.031752</td>\n",
              "      <td>0.9915</td>\n",
              "    </tr>\n",
              "    <tr>\n",
              "      <th>8</th>\n",
              "      <td>0.019757</td>\n",
              "      <td>0.993717</td>\n",
              "      <td>0.032935</td>\n",
              "      <td>0.9919</td>\n",
              "    </tr>\n",
              "    <tr>\n",
              "      <th>9</th>\n",
              "      <td>0.019675</td>\n",
              "      <td>0.993550</td>\n",
              "      <td>0.035128</td>\n",
              "      <td>0.9913</td>\n",
              "    </tr>\n",
              "    <tr>\n",
              "      <th>10</th>\n",
              "      <td>0.017193</td>\n",
              "      <td>0.994267</td>\n",
              "      <td>0.032926</td>\n",
              "      <td>0.9903</td>\n",
              "    </tr>\n",
              "    <tr>\n",
              "      <th>11</th>\n",
              "      <td>0.017249</td>\n",
              "      <td>0.994583</td>\n",
              "      <td>0.035031</td>\n",
              "      <td>0.9910</td>\n",
              "    </tr>\n",
              "    <tr>\n",
              "      <th>12</th>\n",
              "      <td>0.017490</td>\n",
              "      <td>0.994150</td>\n",
              "      <td>0.032305</td>\n",
              "      <td>0.9921</td>\n",
              "    </tr>\n",
              "    <tr>\n",
              "      <th>13</th>\n",
              "      <td>0.017539</td>\n",
              "      <td>0.994583</td>\n",
              "      <td>0.032802</td>\n",
              "      <td>0.9911</td>\n",
              "    </tr>\n",
              "    <tr>\n",
              "      <th>14</th>\n",
              "      <td>0.018067</td>\n",
              "      <td>0.994317</td>\n",
              "      <td>0.033172</td>\n",
              "      <td>0.9914</td>\n",
              "    </tr>\n",
              "    <tr>\n",
              "      <th>15</th>\n",
              "      <td>0.018002</td>\n",
              "      <td>0.994000</td>\n",
              "      <td>0.033012</td>\n",
              "      <td>0.9922</td>\n",
              "    </tr>\n",
              "    <tr>\n",
              "      <th>16</th>\n",
              "      <td>0.017196</td>\n",
              "      <td>0.994350</td>\n",
              "      <td>0.035590</td>\n",
              "      <td>0.9908</td>\n",
              "    </tr>\n",
              "    <tr>\n",
              "      <th>17</th>\n",
              "      <td>0.020160</td>\n",
              "      <td>0.993667</td>\n",
              "      <td>0.034169</td>\n",
              "      <td>0.9912</td>\n",
              "    </tr>\n",
              "    <tr>\n",
              "      <th>18</th>\n",
              "      <td>0.016964</td>\n",
              "      <td>0.994717</td>\n",
              "      <td>0.034107</td>\n",
              "      <td>0.9912</td>\n",
              "    </tr>\n",
              "    <tr>\n",
              "      <th>19</th>\n",
              "      <td>0.018449</td>\n",
              "      <td>0.993633</td>\n",
              "      <td>0.033202</td>\n",
              "      <td>0.9916</td>\n",
              "    </tr>\n",
              "  </tbody>\n",
              "</table>\n",
              "</div>"
            ],
            "text/plain": [
              "        loss  accuracy  val_loss  val_accuracy\n",
              "0   0.017182  0.994450  0.034077        0.9915\n",
              "1   0.018429  0.993983  0.036050        0.9912\n",
              "2   0.017110  0.994517  0.036946        0.9917\n",
              "3   0.018571  0.994267  0.034420        0.9917\n",
              "4   0.016661  0.994733  0.032073        0.9913\n",
              "5   0.018301  0.993917  0.033651        0.9922\n",
              "6   0.019838  0.993683  0.032276        0.9922\n",
              "7   0.019283  0.993733  0.031752        0.9915\n",
              "8   0.019757  0.993717  0.032935        0.9919\n",
              "9   0.019675  0.993550  0.035128        0.9913\n",
              "10  0.017193  0.994267  0.032926        0.9903\n",
              "11  0.017249  0.994583  0.035031        0.9910\n",
              "12  0.017490  0.994150  0.032305        0.9921\n",
              "13  0.017539  0.994583  0.032802        0.9911\n",
              "14  0.018067  0.994317  0.033172        0.9914\n",
              "15  0.018002  0.994000  0.033012        0.9922\n",
              "16  0.017196  0.994350  0.035590        0.9908\n",
              "17  0.020160  0.993667  0.034169        0.9912\n",
              "18  0.016964  0.994717  0.034107        0.9912\n",
              "19  0.018449  0.993633  0.033202        0.9916"
            ]
          },
          "metadata": {
            "tags": []
          },
          "execution_count": 292
        }
      ]
    },
    {
      "cell_type": "code",
      "metadata": {
        "colab": {
          "base_uri": "https://localhost:8080/",
          "height": 324
        },
        "id": "4Ugo2siIQyxb",
        "outputId": "5a2beb6c-0dd7-46c6-b5e4-223a35ae1dc2"
      },
      "source": [
        "pd.DataFrame(history5.history).plot(figsize=(8, 5))\n",
        "plt.grid(True)\n",
        "plt.gca().set_ylim(0, 1)\n",
        "plt.show()"
      ],
      "execution_count": 313,
      "outputs": [
        {
          "output_type": "display_data",
          "data": {
            "image/png": "[encoded data removed]",
            "text/plain": [
              "<Figure size 576x360 with 1 Axes>"
            ]
          },
          "metadata": {
            "tags": [],
            "needs_background": "light"
          }
        }
      ]
    },
    {
      "cell_type": "code",
      "metadata": {
        "colab": {
          "base_uri": "https://localhost:8080/"
        },
        "id": "OWwEFl0vQ0sE",
        "outputId": "cdd618d8-eaf9-4cd2-ddb2-1542d890fea3"
      },
      "source": [
        "score5 = model5.evaluate(x_test, y_test)"
      ],
      "execution_count": 314,
      "outputs": [
        {
          "output_type": "stream",
          "text": [
            "313/313 [==============================] - 1s 2ms/step - loss: 0.0636 - accuracy: 0.9918\n"
          ],
          "name": "stdout"
        }
      ]
    },
    {
      "cell_type": "code",
      "metadata": {
        "colab": {
          "base_uri": "https://localhost:8080/"
        },
        "id": "GItOLd3iQ26K",
        "outputId": "14b26b76-04aa-4cf0-ad96-43be1f0d0859"
      },
      "source": [
        "print('Test Loss:', score5[0])\n",
        "print('Test accuracy:', score5[1])"
      ],
      "execution_count": 315,
      "outputs": [
        {
          "output_type": "stream",
          "text": [
            "Test Loss: 0.06360600888729095\n",
            "Test accuracy: 0.9918000102043152\n"
          ],
          "name": "stdout"
        }
      ]
    },
    {
      "cell_type": "code",
      "metadata": {
        "colab": {
          "base_uri": "https://localhost:8080/"
        },
        "id": "Yo0K6ZY1fBm3",
        "outputId": "216cd397-702c-4586-a40c-baa48cec38cd"
      },
      "source": [
        "accuracy5 = 100*score5[1]\n",
        "print('Test accuracy: %.4f%%' % accuracy5)"
      ],
      "execution_count": 316,
      "outputs": [
        {
          "output_type": "stream",
          "text": [
            "Test accuracy: 99.1800%\n"
          ],
          "name": "stdout"
        }
      ]
    },
    {
      "cell_type": "markdown",
      "metadata": {
        "id": "GnttvE16VCBl"
      },
      "source": [
        "# Comparison chart"
      ]
    },
    {
      "cell_type": "markdown",
      "metadata": {
        "id": "qb5jQMOHwQJT"
      },
      "source": [
        "![image.png](data:image/png;base64,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)"
      ]
    }
  ]
}