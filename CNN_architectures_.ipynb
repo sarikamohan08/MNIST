{
  "nbformat": 4,
  "nbformat_minor": 0,
  "metadata": {
    "colab": {
      "name": "CNN architectures .ipynb",
      "provenance": [],
      "collapsed_sections": [],
      "authorship_tag": "ABX9TyMtIKarN3BsBY8a9+4XUUi4",
      "include_colab_link": true
    },
    "kernelspec": {
      "name": "python3",
      "display_name": "Python 3"
    },
    "language_info": {
      "name": "python"
    },
    "accelerator": "GPU"
  },
  "cells": [
    {
      "cell_type": "markdown",
      "metadata": {
        "id": "view-in-github",
        "colab_type": "text"
      },
      "source": [
        "<a href=\"https://colab.research.google.com/github/sarikamohan08/MNIST/blob/main/CNN_architectures_.ipynb\" target=\"_parent\"><img src=\"https://colab.research.google.com/assets/colab-badge.svg\" alt=\"Open In Colab\"/></a>"
      ]
    },
    {
      "cell_type": "markdown",
      "metadata": {
        "id": "VkYSfV_4vdJQ"
      },
      "source": [
        "importing libraries"
      ]
    },
    {
      "cell_type": "code",
      "metadata": {
        "id": "asQTvzkf9_3h"
      },
      "source": [
        "import tensorflow as tf\n",
        "import numpy as np\n",
        "import pandas as pd\n",
        "import matplotlib.pyplot as plt\n",
        "import seaborn as sns\n"
      ],
      "execution_count": null,
      "outputs": []
    },
    {
      "cell_type": "code",
      "metadata": {
        "id": "TCPbAT6_-Pz8"
      },
      "source": [
        "from tensorflow.keras import Model\n",
        "from tensorflow.keras.models import Sequential\n",
        "from tensorflow.keras.losses import categorical_crossentropy\n",
        "from tensorflow.keras.layers import Dense, Flatten, Conv2D, MaxPooling2D,Dropout\n",
        "\n",
        "from tensorflow.keras import datasets\n",
        "from tensorflow.keras.utils import to_categorical"
      ],
      "execution_count": null,
      "outputs": []
    },
    {
      "cell_type": "markdown",
      "metadata": {
        "id": "nXnzH86GvtVP"
      },
      "source": [
        "dataset"
      ]
    },
    {
      "cell_type": "code",
      "metadata": {
        "id": "WMiIyb45-TJV",
        "colab": {
          "base_uri": "https://localhost:8080/"
        },
        "outputId": "328f5892-99b7-48e0-b608-27e8214ae988"
      },
      "source": [
        "(x_train, y_train), (x_test, y_test) = datasets.mnist.load_data()"
      ],
      "execution_count": null,
      "outputs": [
        {
          "output_type": "stream",
          "text": [
            "Downloading data from https://storage.googleapis.com/tensorflow/tf-keras-datasets/mnist.npz\n",
            "11493376/11490434 [==============================] - 0s 0us/step\n"
          ],
          "name": "stdout"
        }
      ]
    },
    {
      "cell_type": "markdown",
      "metadata": {
        "id": "MpkWTtqdv3VD"
      },
      "source": [
        "Peforming reshaping operation"
      ]
    },
    {
      "cell_type": "code",
      "metadata": {
        "id": "9ePVjrkn-WkM"
      },
      "source": [
        "x_train = x_train.reshape(x_train.shape[0], 28, 28, 1)\n",
        "x_test = x_test.reshape(x_test.shape[0], 28, 28, 1)"
      ],
      "execution_count": null,
      "outputs": []
    },
    {
      "cell_type": "markdown",
      "metadata": {
        "id": "798r6-Vzv6Ls"
      },
      "source": [
        "Normalization"
      ]
    },
    {
      "cell_type": "code",
      "metadata": {
        "id": "a-SLxB4V-Y3Z"
      },
      "source": [
        "x_train = x_train / 255\n",
        "x_test = x_test / 255"
      ],
      "execution_count": null,
      "outputs": []
    },
    {
      "cell_type": "markdown",
      "metadata": {
        "id": "jbDPtpgjv9nY"
      },
      "source": [
        " One Hot Encoding"
      ]
    },
    {
      "cell_type": "code",
      "metadata": {
        "id": "4g2H2EAX-aXt"
      },
      "source": [
        "y_train = tf.keras.utils.to_categorical(y_train, 10)\n",
        "y_test = tf.keras.utils.to_categorical(y_test, 10)"
      ],
      "execution_count": null,
      "outputs": []
    },
    {
      "cell_type": "markdown",
      "metadata": {
        "id": "DDOcp7MN_Km2"
      },
      "source": [
        "# Model 1"
      ]
    },
    {
      "cell_type": "code",
      "metadata": {
        "id": "NlPKmcfX-ctz"
      },
      "source": [
        "model1 = Sequential()\n",
        "model1.add(Conv2D(16, kernel_size=(3,3),padding=\"same\", activation='relu', input_shape=(28,28,1)))\n",
        "model1.add(MaxPooling2D(pool_size=(2, 2)))\n",
        "model1.add(Conv2D(32, kernel_size=(3,3),padding=\"same\", activation='relu'))\n",
        "model1.add(MaxPooling2D(pool_size=(2, 2)))\n",
        "model1.add(Conv2D(64, kernel_size=(3,3), padding=\"same\",activation='relu'))\n",
        "model1.add(MaxPooling2D(pool_size=(2, 2)))\n",
        "model1.add(Dropout(0.3))\n",
        "model1.add(Flatten())\n",
        "model1.add(Dense(256, activation='relu'))\n",
        "model1.add(Dropout(0.4))\n",
        "model1.add(Dense(128, activation='relu'))\n",
        "model1.add(Dense(64, activation='relu'))\n",
        "model1.add(Dense(10, activation='softmax'))"
      ],
      "execution_count": null,
      "outputs": []
    },
    {
      "cell_type": "code",
      "metadata": {
        "colab": {
          "base_uri": "https://localhost:8080/"
        },
        "id": "DwhKkf1D-eoP",
        "outputId": "84a48a05-b63a-455f-b1c1-583afeaab21c"
      },
      "source": [
        "model1.summary()"
      ],
      "execution_count": null,
      "outputs": [
        {
          "output_type": "stream",
          "text": [
            "Model: \"sequential_22\"\n",
            "_________________________________________________________________\n",
            "Layer (type)                 Output Shape              Param #   \n",
            "=================================================================\n",
            "conv2d_66 (Conv2D)           (None, 28, 28, 16)        160       \n",
            "_________________________________________________________________\n",
            "max_pooling2d_66 (MaxPooling (None, 14, 14, 16)        0         \n",
            "_________________________________________________________________\n",
            "conv2d_67 (Conv2D)           (None, 14, 14, 32)        4640      \n",
            "_________________________________________________________________\n",
            "max_pooling2d_67 (MaxPooling (None, 7, 7, 32)          0         \n",
            "_________________________________________________________________\n",
            "conv2d_68 (Conv2D)           (None, 7, 7, 64)          18496     \n",
            "_________________________________________________________________\n",
            "max_pooling2d_68 (MaxPooling (None, 3, 3, 64)          0         \n",
            "_________________________________________________________________\n",
            "dropout_19 (Dropout)         (None, 3, 3, 64)          0         \n",
            "_________________________________________________________________\n",
            "flatten_20 (Flatten)         (None, 576)               0         \n",
            "_________________________________________________________________\n",
            "dense_77 (Dense)             (None, 256)               147712    \n",
            "_________________________________________________________________\n",
            "dropout_20 (Dropout)         (None, 256)               0         \n",
            "_________________________________________________________________\n",
            "dense_78 (Dense)             (None, 128)               32896     \n",
            "_________________________________________________________________\n",
            "dense_79 (Dense)             (None, 64)                8256      \n",
            "_________________________________________________________________\n",
            "dense_80 (Dense)             (None, 10)                650       \n",
            "=================================================================\n",
            "Total params: 212,810\n",
            "Trainable params: 212,810\n",
            "Non-trainable params: 0\n",
            "_________________________________________________________________\n"
          ],
          "name": "stdout"
        }
      ]
    },
    {
      "cell_type": "code",
      "metadata": {
        "colab": {
          "base_uri": "https://localhost:8080/"
        },
        "id": "HXXUK5R4-hAg",
        "outputId": "8a2991e1-e202-490d-d06a-a9deca4052c6"
      },
      "source": [
        "model1.compile(loss=tf.keras.metrics.categorical_crossentropy, optimizer=tf.keras.optimizers.Adam(), metrics=['accuracy'])\n",
        "history=model1.fit(x_train, y_train, batch_size=128, epochs=20, verbose=1, validation_data=(x_test, y_test))"
      ],
      "execution_count": null,
      "outputs": [
        {
          "output_type": "stream",
          "text": [
            "Epoch 1/20\n",
            "469/469 [==============================] - 3s 6ms/step - loss: 0.3540 - accuracy: 0.8835 - val_loss: 0.0627 - val_accuracy: 0.9799\n",
            "Epoch 2/20\n",
            "469/469 [==============================] - 2s 5ms/step - loss: 0.0919 - accuracy: 0.9715 - val_loss: 0.0364 - val_accuracy: 0.9885\n",
            "Epoch 3/20\n",
            "469/469 [==============================] - 2s 5ms/step - loss: 0.0678 - accuracy: 0.9790 - val_loss: 0.0304 - val_accuracy: 0.9900\n",
            "Epoch 4/20\n",
            "469/469 [==============================] - 2s 5ms/step - loss: 0.0537 - accuracy: 0.9835 - val_loss: 0.0264 - val_accuracy: 0.9908\n",
            "Epoch 5/20\n",
            "469/469 [==============================] - 2s 5ms/step - loss: 0.0486 - accuracy: 0.9851 - val_loss: 0.0216 - val_accuracy: 0.9925\n",
            "Epoch 6/20\n",
            "469/469 [==============================] - 2s 5ms/step - loss: 0.0444 - accuracy: 0.9866 - val_loss: 0.0229 - val_accuracy: 0.9926\n",
            "Epoch 7/20\n",
            "469/469 [==============================] - 2s 5ms/step - loss: 0.0365 - accuracy: 0.9888 - val_loss: 0.0214 - val_accuracy: 0.9926\n",
            "Epoch 8/20\n",
            "469/469 [==============================] - 2s 5ms/step - loss: 0.0353 - accuracy: 0.9891 - val_loss: 0.0225 - val_accuracy: 0.9925\n",
            "Epoch 9/20\n",
            "469/469 [==============================] - 2s 5ms/step - loss: 0.0320 - accuracy: 0.9899 - val_loss: 0.0219 - val_accuracy: 0.9927\n",
            "Epoch 10/20\n",
            "469/469 [==============================] - 2s 5ms/step - loss: 0.0320 - accuracy: 0.9902 - val_loss: 0.0284 - val_accuracy: 0.9907\n",
            "Epoch 11/20\n",
            "469/469 [==============================] - 2s 5ms/step - loss: 0.0284 - accuracy: 0.9909 - val_loss: 0.0264 - val_accuracy: 0.9928\n",
            "Epoch 12/20\n",
            "469/469 [==============================] - 2s 5ms/step - loss: 0.0274 - accuracy: 0.9913 - val_loss: 0.0216 - val_accuracy: 0.9929\n",
            "Epoch 13/20\n",
            "469/469 [==============================] - 2s 5ms/step - loss: 0.0260 - accuracy: 0.9919 - val_loss: 0.0246 - val_accuracy: 0.9928\n",
            "Epoch 14/20\n",
            "469/469 [==============================] - 2s 5ms/step - loss: 0.0259 - accuracy: 0.9922 - val_loss: 0.0235 - val_accuracy: 0.9930\n",
            "Epoch 15/20\n",
            "469/469 [==============================] - 2s 5ms/step - loss: 0.0238 - accuracy: 0.9928 - val_loss: 0.0233 - val_accuracy: 0.9926\n",
            "Epoch 16/20\n",
            "469/469 [==============================] - 2s 5ms/step - loss: 0.0218 - accuracy: 0.9930 - val_loss: 0.0254 - val_accuracy: 0.9930\n",
            "Epoch 17/20\n",
            "469/469 [==============================] - 2s 5ms/step - loss: 0.0205 - accuracy: 0.9936 - val_loss: 0.0242 - val_accuracy: 0.9928\n",
            "Epoch 18/20\n",
            "469/469 [==============================] - 2s 5ms/step - loss: 0.0198 - accuracy: 0.9937 - val_loss: 0.0232 - val_accuracy: 0.9925\n",
            "Epoch 19/20\n",
            "469/469 [==============================] - 2s 5ms/step - loss: 0.0187 - accuracy: 0.9945 - val_loss: 0.0242 - val_accuracy: 0.9933\n",
            "Epoch 20/20\n",
            "469/469 [==============================] - 2s 5ms/step - loss: 0.0176 - accuracy: 0.9948 - val_loss: 0.0230 - val_accuracy: 0.9937\n"
          ],
          "name": "stdout"
        }
      ]
    },
    {
      "cell_type": "code",
      "metadata": {
        "colab": {
          "base_uri": "https://localhost:8080/"
        },
        "id": "2RvXa0PqMERQ",
        "outputId": "b82e4202-247b-45e4-f98a-78fa46aba616"
      },
      "source": [
        "history.params"
      ],
      "execution_count": null,
      "outputs": [
        {
          "output_type": "execute_result",
          "data": {
            "text/plain": [
              "{'epochs': 20, 'steps': 469, 'verbose': 1}"
            ]
          },
          "metadata": {
            "tags": []
          },
          "execution_count": 149
        }
      ]
    },
    {
      "cell_type": "code",
      "metadata": {
        "colab": {
          "base_uri": "https://localhost:8080/",
          "height": 663
        },
        "id": "KtU8uBe4MGlO",
        "outputId": "84dbd73d-df08-474e-cb31-4d47dcb5d7ca"
      },
      "source": [
        "pd.DataFrame(history.history)"
      ],
      "execution_count": null,
      "outputs": [
        {
          "output_type": "execute_result",
          "data": {
            "text/html": [
              "<div>\n",
              "<style scoped>\n",
              "    .dataframe tbody tr th:only-of-type {\n",
              "        vertical-align: middle;\n",
              "    }\n",
              "\n",
              "    .dataframe tbody tr th {\n",
              "        vertical-align: top;\n",
              "    }\n",
              "\n",
              "    .dataframe thead th {\n",
              "        text-align: right;\n",
              "    }\n",
              "</style>\n",
              "<table border=\"1\" class=\"dataframe\">\n",
              "  <thead>\n",
              "    <tr style=\"text-align: right;\">\n",
              "      <th></th>\n",
              "      <th>loss</th>\n",
              "      <th>accuracy</th>\n",
              "      <th>val_loss</th>\n",
              "      <th>val_accuracy</th>\n",
              "    </tr>\n",
              "  </thead>\n",
              "  <tbody>\n",
              "    <tr>\n",
              "      <th>0</th>\n",
              "      <td>0.353985</td>\n",
              "      <td>0.883500</td>\n",
              "      <td>0.062731</td>\n",
              "      <td>0.9799</td>\n",
              "    </tr>\n",
              "    <tr>\n",
              "      <th>1</th>\n",
              "      <td>0.091882</td>\n",
              "      <td>0.971550</td>\n",
              "      <td>0.036411</td>\n",
              "      <td>0.9885</td>\n",
              "    </tr>\n",
              "    <tr>\n",
              "      <th>2</th>\n",
              "      <td>0.067763</td>\n",
              "      <td>0.978950</td>\n",
              "      <td>0.030396</td>\n",
              "      <td>0.9900</td>\n",
              "    </tr>\n",
              "    <tr>\n",
              "      <th>3</th>\n",
              "      <td>0.053745</td>\n",
              "      <td>0.983533</td>\n",
              "      <td>0.026438</td>\n",
              "      <td>0.9908</td>\n",
              "    </tr>\n",
              "    <tr>\n",
              "      <th>4</th>\n",
              "      <td>0.048645</td>\n",
              "      <td>0.985067</td>\n",
              "      <td>0.021590</td>\n",
              "      <td>0.9925</td>\n",
              "    </tr>\n",
              "    <tr>\n",
              "      <th>5</th>\n",
              "      <td>0.044441</td>\n",
              "      <td>0.986617</td>\n",
              "      <td>0.022858</td>\n",
              "      <td>0.9926</td>\n",
              "    </tr>\n",
              "    <tr>\n",
              "      <th>6</th>\n",
              "      <td>0.036457</td>\n",
              "      <td>0.988767</td>\n",
              "      <td>0.021390</td>\n",
              "      <td>0.9926</td>\n",
              "    </tr>\n",
              "    <tr>\n",
              "      <th>7</th>\n",
              "      <td>0.035294</td>\n",
              "      <td>0.989083</td>\n",
              "      <td>0.022519</td>\n",
              "      <td>0.9925</td>\n",
              "    </tr>\n",
              "    <tr>\n",
              "      <th>8</th>\n",
              "      <td>0.031984</td>\n",
              "      <td>0.989867</td>\n",
              "      <td>0.021899</td>\n",
              "      <td>0.9927</td>\n",
              "    </tr>\n",
              "    <tr>\n",
              "      <th>9</th>\n",
              "      <td>0.032013</td>\n",
              "      <td>0.990250</td>\n",
              "      <td>0.028382</td>\n",
              "      <td>0.9907</td>\n",
              "    </tr>\n",
              "    <tr>\n",
              "      <th>10</th>\n",
              "      <td>0.028353</td>\n",
              "      <td>0.990883</td>\n",
              "      <td>0.026398</td>\n",
              "      <td>0.9928</td>\n",
              "    </tr>\n",
              "    <tr>\n",
              "      <th>11</th>\n",
              "      <td>0.027383</td>\n",
              "      <td>0.991350</td>\n",
              "      <td>0.021594</td>\n",
              "      <td>0.9929</td>\n",
              "    </tr>\n",
              "    <tr>\n",
              "      <th>12</th>\n",
              "      <td>0.025982</td>\n",
              "      <td>0.991900</td>\n",
              "      <td>0.024650</td>\n",
              "      <td>0.9928</td>\n",
              "    </tr>\n",
              "    <tr>\n",
              "      <th>13</th>\n",
              "      <td>0.025935</td>\n",
              "      <td>0.992167</td>\n",
              "      <td>0.023539</td>\n",
              "      <td>0.9930</td>\n",
              "    </tr>\n",
              "    <tr>\n",
              "      <th>14</th>\n",
              "      <td>0.023763</td>\n",
              "      <td>0.992800</td>\n",
              "      <td>0.023338</td>\n",
              "      <td>0.9926</td>\n",
              "    </tr>\n",
              "    <tr>\n",
              "      <th>15</th>\n",
              "      <td>0.021761</td>\n",
              "      <td>0.993050</td>\n",
              "      <td>0.025415</td>\n",
              "      <td>0.9930</td>\n",
              "    </tr>\n",
              "    <tr>\n",
              "      <th>16</th>\n",
              "      <td>0.020503</td>\n",
              "      <td>0.993567</td>\n",
              "      <td>0.024204</td>\n",
              "      <td>0.9928</td>\n",
              "    </tr>\n",
              "    <tr>\n",
              "      <th>17</th>\n",
              "      <td>0.019787</td>\n",
              "      <td>0.993683</td>\n",
              "      <td>0.023213</td>\n",
              "      <td>0.9925</td>\n",
              "    </tr>\n",
              "    <tr>\n",
              "      <th>18</th>\n",
              "      <td>0.018666</td>\n",
              "      <td>0.994517</td>\n",
              "      <td>0.024233</td>\n",
              "      <td>0.9933</td>\n",
              "    </tr>\n",
              "    <tr>\n",
              "      <th>19</th>\n",
              "      <td>0.017638</td>\n",
              "      <td>0.994750</td>\n",
              "      <td>0.023042</td>\n",
              "      <td>0.9937</td>\n",
              "    </tr>\n",
              "  </tbody>\n",
              "</table>\n",
              "</div>"
            ],
            "text/plain": [
              "        loss  accuracy  val_loss  val_accuracy\n",
              "0   0.353985  0.883500  0.062731        0.9799\n",
              "1   0.091882  0.971550  0.036411        0.9885\n",
              "2   0.067763  0.978950  0.030396        0.9900\n",
              "3   0.053745  0.983533  0.026438        0.9908\n",
              "4   0.048645  0.985067  0.021590        0.9925\n",
              "5   0.044441  0.986617  0.022858        0.9926\n",
              "6   0.036457  0.988767  0.021390        0.9926\n",
              "7   0.035294  0.989083  0.022519        0.9925\n",
              "8   0.031984  0.989867  0.021899        0.9927\n",
              "9   0.032013  0.990250  0.028382        0.9907\n",
              "10  0.028353  0.990883  0.026398        0.9928\n",
              "11  0.027383  0.991350  0.021594        0.9929\n",
              "12  0.025982  0.991900  0.024650        0.9928\n",
              "13  0.025935  0.992167  0.023539        0.9930\n",
              "14  0.023763  0.992800  0.023338        0.9926\n",
              "15  0.021761  0.993050  0.025415        0.9930\n",
              "16  0.020503  0.993567  0.024204        0.9928\n",
              "17  0.019787  0.993683  0.023213        0.9925\n",
              "18  0.018666  0.994517  0.024233        0.9933\n",
              "19  0.017638  0.994750  0.023042        0.9937"
            ]
          },
          "metadata": {
            "tags": []
          },
          "execution_count": 150
        }
      ]
    },
    {
      "cell_type": "code",
      "metadata": {
        "colab": {
          "base_uri": "https://localhost:8080/",
          "height": 324
        },
        "id": "tyrmoGsjMJsQ",
        "outputId": "73e98048-a756-49b4-d7e2-9a862880ca20"
      },
      "source": [
        "pd.DataFrame(history.history).plot(figsize=(8, 5))\n",
        "plt.grid(True)\n",
        "plt.gca().set_ylim(0, 1)\n",
        "plt.show()"
      ],
      "execution_count": null,
      "outputs": [
        {
          "output_type": "display_data",
          "data": {
            "image/png": "[encoded data removed]",
            "text/plain": [
              "<Figure size 576x360 with 1 Axes>"
            ]
          },
          "metadata": {
            "tags": [],
            "needs_background": "light"
          }
        }
      ]
    },
    {
      "cell_type": "code",
      "metadata": {
        "colab": {
          "base_uri": "https://localhost:8080/"
        },
        "id": "h9Pvxw5u-izq",
        "outputId": "ae9d0d05-8f03-4af8-c8df-c6be0bc0e7fd"
      },
      "source": [
        "score = model1.evaluate(x_test, y_test)"
      ],
      "execution_count": null,
      "outputs": [
        {
          "output_type": "stream",
          "text": [
            "313/313 [==============================] - 1s 3ms/step - loss: 0.0230 - accuracy: 0.9937\n"
          ],
          "name": "stdout"
        }
      ]
    },
    {
      "cell_type": "code",
      "metadata": {
        "colab": {
          "base_uri": "https://localhost:8080/"
        },
        "id": "w0HzSN8H-ke5",
        "outputId": "7e4d6c12-30c7-4706-8c8a-ac9a20d5b04e"
      },
      "source": [
        "print('Test Loss:', score[0])\n",
        "print('Test accuracy:', score[1])"
      ],
      "execution_count": null,
      "outputs": [
        {
          "output_type": "stream",
          "text": [
            "Test Loss: 0.023042108863592148\n",
            "Test accuracy: 0.9937000274658203\n"
          ],
          "name": "stdout"
        }
      ]
    },
    {
      "cell_type": "code",
      "metadata": {
        "colab": {
          "base_uri": "https://localhost:8080/"
        },
        "id": "WY-cyB4mhCuv",
        "outputId": "88d4082a-c036-4bac-fdb8-bdb8b5fd764a"
      },
      "source": [
        "accuracy1 = 100*score[1]\n",
        "print('Test accuracy: %.4f%%' % accuracy1)"
      ],
      "execution_count": null,
      "outputs": [
        {
          "output_type": "stream",
          "text": [
            "Test accuracy: 99.1800%\n"
          ],
          "name": "stdout"
        }
      ]
    },
    {
      "cell_type": "markdown",
      "metadata": {
        "id": "y6nKbrTY_O12"
      },
      "source": [
        "# Model 2"
      ]
    },
    {
      "cell_type": "code",
      "metadata": {
        "id": "LeLZ1Wte_Rs1"
      },
      "source": [
        "model2 = Sequential()\n",
        "model2.add(Conv2D(16, kernel_size=(3,3),padding=\"same\", activation='tanh', input_shape=(28,28,1)))\n",
        "model2.add(MaxPooling2D(pool_size=(2, 2)))\n",
        "model2.add(Conv2D(32, kernel_size=(3,3),padding=\"same\", activation='tanh'))\n",
        "model2.add(MaxPooling2D(pool_size=(2, 2)))\n",
        "model2.add(Dropout(0.3))\n",
        "model2.add(Flatten())\n",
        "model2.add(Dense(128, activation='tanh'))\n",
        "model2.add(Dropout(0.4))\n",
        "model2.add(Dense(64, activation='tanh'))\n",
        "model2.add(Dense(10, activation='softmax'))"
      ],
      "execution_count": null,
      "outputs": []
    },
    {
      "cell_type": "code",
      "metadata": {
        "colab": {
          "base_uri": "https://localhost:8080/"
        },
        "id": "xFV_eLxcLmoK",
        "outputId": "f3673c73-7d87-41b7-fe03-3f41c46365f3"
      },
      "source": [
        "model2.summary()"
      ],
      "execution_count": null,
      "outputs": [
        {
          "output_type": "stream",
          "text": [
            "Model: \"sequential_23\"\n",
            "_________________________________________________________________\n",
            "Layer (type)                 Output Shape              Param #   \n",
            "=================================================================\n",
            "conv2d_69 (Conv2D)           (None, 28, 28, 16)        160       \n",
            "_________________________________________________________________\n",
            "max_pooling2d_69 (MaxPooling (None, 14, 14, 16)        0         \n",
            "_________________________________________________________________\n",
            "conv2d_70 (Conv2D)           (None, 14, 14, 32)        4640      \n",
            "_________________________________________________________________\n",
            "max_pooling2d_70 (MaxPooling (None, 7, 7, 32)          0         \n",
            "_________________________________________________________________\n",
            "dropout_21 (Dropout)         (None, 7, 7, 32)          0         \n",
            "_________________________________________________________________\n",
            "flatten_21 (Flatten)         (None, 1568)              0         \n",
            "_________________________________________________________________\n",
            "dense_81 (Dense)             (None, 128)               200832    \n",
            "_________________________________________________________________\n",
            "dropout_22 (Dropout)         (None, 128)               0         \n",
            "_________________________________________________________________\n",
            "dense_82 (Dense)             (None, 64)                8256      \n",
            "_________________________________________________________________\n",
            "dense_83 (Dense)             (None, 10)                650       \n",
            "=================================================================\n",
            "Total params: 214,538\n",
            "Trainable params: 214,538\n",
            "Non-trainable params: 0\n",
            "_________________________________________________________________\n"
          ],
          "name": "stdout"
        }
      ]
    },
    {
      "cell_type": "code",
      "metadata": {
        "colab": {
          "base_uri": "https://localhost:8080/"
        },
        "id": "V7nTRl1FLpJS",
        "outputId": "a9aac381-313a-4f96-c3a7-98d9d83d0a22"
      },
      "source": [
        "model2.compile(loss=tf.keras.metrics.categorical_crossentropy, optimizer=tf.keras.optimizers.Adam(), metrics=['accuracy'])\n",
        "history2=model2.fit(x_train, y_train, batch_size=128, epochs=20, verbose=1, validation_data=(x_test, y_test))"
      ],
      "execution_count": null,
      "outputs": [
        {
          "output_type": "stream",
          "text": [
            "Epoch 1/20\n",
            "469/469 [==============================] - 3s 5ms/step - loss: 0.2725 - accuracy: 0.9201 - val_loss: 0.0703 - val_accuracy: 0.9770\n",
            "Epoch 2/20\n",
            "469/469 [==============================] - 2s 5ms/step - loss: 0.1003 - accuracy: 0.9696 - val_loss: 0.0495 - val_accuracy: 0.9838\n",
            "Epoch 3/20\n",
            "469/469 [==============================] - 2s 5ms/step - loss: 0.0799 - accuracy: 0.9755 - val_loss: 0.0425 - val_accuracy: 0.9851\n",
            "Epoch 4/20\n",
            "469/469 [==============================] - 2s 5ms/step - loss: 0.0683 - accuracy: 0.9790 - val_loss: 0.0427 - val_accuracy: 0.9869\n",
            "Epoch 5/20\n",
            "469/469 [==============================] - 2s 4ms/step - loss: 0.0609 - accuracy: 0.9814 - val_loss: 0.0380 - val_accuracy: 0.9880\n",
            "Epoch 6/20\n",
            "469/469 [==============================] - 2s 4ms/step - loss: 0.0568 - accuracy: 0.9828 - val_loss: 0.0383 - val_accuracy: 0.9886\n",
            "Epoch 7/20\n",
            "469/469 [==============================] - 2s 5ms/step - loss: 0.0505 - accuracy: 0.9844 - val_loss: 0.0371 - val_accuracy: 0.9887\n",
            "Epoch 8/20\n",
            "469/469 [==============================] - 2s 5ms/step - loss: 0.0482 - accuracy: 0.9848 - val_loss: 0.0305 - val_accuracy: 0.9898\n",
            "Epoch 9/20\n",
            "469/469 [==============================] - 2s 5ms/step - loss: 0.0460 - accuracy: 0.9853 - val_loss: 0.0318 - val_accuracy: 0.9904\n",
            "Epoch 10/20\n",
            "469/469 [==============================] - 2s 5ms/step - loss: 0.0438 - accuracy: 0.9866 - val_loss: 0.0303 - val_accuracy: 0.9905\n",
            "Epoch 11/20\n",
            "469/469 [==============================] - 2s 4ms/step - loss: 0.0414 - accuracy: 0.9865 - val_loss: 0.0330 - val_accuracy: 0.9896\n",
            "Epoch 12/20\n",
            "469/469 [==============================] - 2s 5ms/step - loss: 0.0392 - accuracy: 0.9873 - val_loss: 0.0322 - val_accuracy: 0.9894\n",
            "Epoch 13/20\n",
            "469/469 [==============================] - 2s 4ms/step - loss: 0.0375 - accuracy: 0.9882 - val_loss: 0.0289 - val_accuracy: 0.9912\n",
            "Epoch 14/20\n",
            "469/469 [==============================] - 2s 4ms/step - loss: 0.0364 - accuracy: 0.9882 - val_loss: 0.0319 - val_accuracy: 0.9903\n",
            "Epoch 15/20\n",
            "469/469 [==============================] - 2s 4ms/step - loss: 0.0362 - accuracy: 0.9886 - val_loss: 0.0317 - val_accuracy: 0.9905\n",
            "Epoch 16/20\n",
            "469/469 [==============================] - 2s 4ms/step - loss: 0.0332 - accuracy: 0.9893 - val_loss: 0.0310 - val_accuracy: 0.9904\n",
            "Epoch 17/20\n",
            "469/469 [==============================] - 2s 4ms/step - loss: 0.0337 - accuracy: 0.9895 - val_loss: 0.0310 - val_accuracy: 0.9899\n",
            "Epoch 18/20\n",
            "469/469 [==============================] - 2s 4ms/step - loss: 0.0311 - accuracy: 0.9897 - val_loss: 0.0286 - val_accuracy: 0.9924\n",
            "Epoch 19/20\n",
            "469/469 [==============================] - 2s 4ms/step - loss: 0.0303 - accuracy: 0.9898 - val_loss: 0.0305 - val_accuracy: 0.9910\n",
            "Epoch 20/20\n",
            "469/469 [==============================] - 2s 4ms/step - loss: 0.0306 - accuracy: 0.9902 - val_loss: 0.0304 - val_accuracy: 0.9918\n"
          ],
          "name": "stdout"
        }
      ]
    },
    {
      "cell_type": "code",
      "metadata": {
        "colab": {
          "base_uri": "https://localhost:8080/",
          "height": 663
        },
        "id": "D3HydAzYNRn7",
        "outputId": "793d8353-8565-435c-fefe-cbe0523aac1a"
      },
      "source": [
        "pd.DataFrame(history2.history)"
      ],
      "execution_count": null,
      "outputs": [
        {
          "output_type": "execute_result",
          "data": {
            "text/html": [
              "<div>\n",
              "<style scoped>\n",
              "    .dataframe tbody tr th:only-of-type {\n",
              "        vertical-align: middle;\n",
              "    }\n",
              "\n",
              "    .dataframe tbody tr th {\n",
              "        vertical-align: top;\n",
              "    }\n",
              "\n",
              "    .dataframe thead th {\n",
              "        text-align: right;\n",
              "    }\n",
              "</style>\n",
              "<table border=\"1\" class=\"dataframe\">\n",
              "  <thead>\n",
              "    <tr style=\"text-align: right;\">\n",
              "      <th></th>\n",
              "      <th>loss</th>\n",
              "      <th>accuracy</th>\n",
              "      <th>val_loss</th>\n",
              "      <th>val_accuracy</th>\n",
              "    </tr>\n",
              "  </thead>\n",
              "  <tbody>\n",
              "    <tr>\n",
              "      <th>0</th>\n",
              "      <td>0.272524</td>\n",
              "      <td>0.920117</td>\n",
              "      <td>0.070308</td>\n",
              "      <td>0.9770</td>\n",
              "    </tr>\n",
              "    <tr>\n",
              "      <th>1</th>\n",
              "      <td>0.100323</td>\n",
              "      <td>0.969617</td>\n",
              "      <td>0.049483</td>\n",
              "      <td>0.9838</td>\n",
              "    </tr>\n",
              "    <tr>\n",
              "      <th>2</th>\n",
              "      <td>0.079939</td>\n",
              "      <td>0.975500</td>\n",
              "      <td>0.042489</td>\n",
              "      <td>0.9851</td>\n",
              "    </tr>\n",
              "    <tr>\n",
              "      <th>3</th>\n",
              "      <td>0.068288</td>\n",
              "      <td>0.979017</td>\n",
              "      <td>0.042731</td>\n",
              "      <td>0.9869</td>\n",
              "    </tr>\n",
              "    <tr>\n",
              "      <th>4</th>\n",
              "      <td>0.060874</td>\n",
              "      <td>0.981433</td>\n",
              "      <td>0.038004</td>\n",
              "      <td>0.9880</td>\n",
              "    </tr>\n",
              "    <tr>\n",
              "      <th>5</th>\n",
              "      <td>0.056833</td>\n",
              "      <td>0.982767</td>\n",
              "      <td>0.038347</td>\n",
              "      <td>0.9886</td>\n",
              "    </tr>\n",
              "    <tr>\n",
              "      <th>6</th>\n",
              "      <td>0.050534</td>\n",
              "      <td>0.984450</td>\n",
              "      <td>0.037150</td>\n",
              "      <td>0.9887</td>\n",
              "    </tr>\n",
              "    <tr>\n",
              "      <th>7</th>\n",
              "      <td>0.048178</td>\n",
              "      <td>0.984817</td>\n",
              "      <td>0.030483</td>\n",
              "      <td>0.9898</td>\n",
              "    </tr>\n",
              "    <tr>\n",
              "      <th>8</th>\n",
              "      <td>0.045971</td>\n",
              "      <td>0.985300</td>\n",
              "      <td>0.031811</td>\n",
              "      <td>0.9904</td>\n",
              "    </tr>\n",
              "    <tr>\n",
              "      <th>9</th>\n",
              "      <td>0.043776</td>\n",
              "      <td>0.986650</td>\n",
              "      <td>0.030334</td>\n",
              "      <td>0.9905</td>\n",
              "    </tr>\n",
              "    <tr>\n",
              "      <th>10</th>\n",
              "      <td>0.041389</td>\n",
              "      <td>0.986483</td>\n",
              "      <td>0.033048</td>\n",
              "      <td>0.9896</td>\n",
              "    </tr>\n",
              "    <tr>\n",
              "      <th>11</th>\n",
              "      <td>0.039179</td>\n",
              "      <td>0.987300</td>\n",
              "      <td>0.032161</td>\n",
              "      <td>0.9894</td>\n",
              "    </tr>\n",
              "    <tr>\n",
              "      <th>12</th>\n",
              "      <td>0.037506</td>\n",
              "      <td>0.988233</td>\n",
              "      <td>0.028940</td>\n",
              "      <td>0.9912</td>\n",
              "    </tr>\n",
              "    <tr>\n",
              "      <th>13</th>\n",
              "      <td>0.036378</td>\n",
              "      <td>0.988233</td>\n",
              "      <td>0.031916</td>\n",
              "      <td>0.9903</td>\n",
              "    </tr>\n",
              "    <tr>\n",
              "      <th>14</th>\n",
              "      <td>0.036173</td>\n",
              "      <td>0.988567</td>\n",
              "      <td>0.031716</td>\n",
              "      <td>0.9905</td>\n",
              "    </tr>\n",
              "    <tr>\n",
              "      <th>15</th>\n",
              "      <td>0.033209</td>\n",
              "      <td>0.989333</td>\n",
              "      <td>0.031018</td>\n",
              "      <td>0.9904</td>\n",
              "    </tr>\n",
              "    <tr>\n",
              "      <th>16</th>\n",
              "      <td>0.033667</td>\n",
              "      <td>0.989533</td>\n",
              "      <td>0.031028</td>\n",
              "      <td>0.9899</td>\n",
              "    </tr>\n",
              "    <tr>\n",
              "      <th>17</th>\n",
              "      <td>0.031146</td>\n",
              "      <td>0.989717</td>\n",
              "      <td>0.028614</td>\n",
              "      <td>0.9924</td>\n",
              "    </tr>\n",
              "    <tr>\n",
              "      <th>18</th>\n",
              "      <td>0.030309</td>\n",
              "      <td>0.989750</td>\n",
              "      <td>0.030509</td>\n",
              "      <td>0.9910</td>\n",
              "    </tr>\n",
              "    <tr>\n",
              "      <th>19</th>\n",
              "      <td>0.030576</td>\n",
              "      <td>0.990183</td>\n",
              "      <td>0.030442</td>\n",
              "      <td>0.9918</td>\n",
              "    </tr>\n",
              "  </tbody>\n",
              "</table>\n",
              "</div>"
            ],
            "text/plain": [
              "        loss  accuracy  val_loss  val_accuracy\n",
              "0   0.272524  0.920117  0.070308        0.9770\n",
              "1   0.100323  0.969617  0.049483        0.9838\n",
              "2   0.079939  0.975500  0.042489        0.9851\n",
              "3   0.068288  0.979017  0.042731        0.9869\n",
              "4   0.060874  0.981433  0.038004        0.9880\n",
              "5   0.056833  0.982767  0.038347        0.9886\n",
              "6   0.050534  0.984450  0.037150        0.9887\n",
              "7   0.048178  0.984817  0.030483        0.9898\n",
              "8   0.045971  0.985300  0.031811        0.9904\n",
              "9   0.043776  0.986650  0.030334        0.9905\n",
              "10  0.041389  0.986483  0.033048        0.9896\n",
              "11  0.039179  0.987300  0.032161        0.9894\n",
              "12  0.037506  0.988233  0.028940        0.9912\n",
              "13  0.036378  0.988233  0.031916        0.9903\n",
              "14  0.036173  0.988567  0.031716        0.9905\n",
              "15  0.033209  0.989333  0.031018        0.9904\n",
              "16  0.033667  0.989533  0.031028        0.9899\n",
              "17  0.031146  0.989717  0.028614        0.9924\n",
              "18  0.030309  0.989750  0.030509        0.9910\n",
              "19  0.030576  0.990183  0.030442        0.9918"
            ]
          },
          "metadata": {
            "tags": []
          },
          "execution_count": 158
        }
      ]
    },
    {
      "cell_type": "code",
      "metadata": {
        "colab": {
          "base_uri": "https://localhost:8080/",
          "height": 324
        },
        "id": "9BH4JqWfNZdO",
        "outputId": "acb91e2c-6445-4926-e952-8baf685f2e6d"
      },
      "source": [
        "pd.DataFrame(history2.history).plot(figsize=(8, 5))\n",
        "plt.grid(True)\n",
        "plt.gca().set_ylim(0, 1)\n",
        "plt.show()"
      ],
      "execution_count": null,
      "outputs": [
        {
          "output_type": "display_data",
          "data": {
            "image/png": "[encoded data removed]",
            "text/plain": [
              "<Figure size 576x360 with 1 Axes>"
            ]
          },
          "metadata": {
            "tags": [],
            "needs_background": "light"
          }
        }
      ]
    },
    {
      "cell_type": "code",
      "metadata": {
        "colab": {
          "base_uri": "https://localhost:8080/"
        },
        "id": "C3one4JzLrKp",
        "outputId": "c6b40205-bbe8-4bda-fec8-bec63f406cf7"
      },
      "source": [
        "score = model2.evaluate(x_test, y_test)"
      ],
      "execution_count": null,
      "outputs": [
        {
          "output_type": "stream",
          "text": [
            "313/313 [==============================] - 1s 2ms/step - loss: 0.0304 - accuracy: 0.9918\n"
          ],
          "name": "stdout"
        }
      ]
    },
    {
      "cell_type": "code",
      "metadata": {
        "colab": {
          "base_uri": "https://localhost:8080/"
        },
        "id": "TqI4GfA8Lspi",
        "outputId": "3fcc3494-bf51-4349-d73b-6c3367eebad8"
      },
      "source": [
        "print('Test Loss:', score[0])\n",
        "print('Test accuracy:', score[1])"
      ],
      "execution_count": null,
      "outputs": [
        {
          "output_type": "stream",
          "text": [
            "Test Loss: 0.030441882088780403\n",
            "Test accuracy: 0.9918000102043152\n"
          ],
          "name": "stdout"
        }
      ]
    },
    {
      "cell_type": "code",
      "metadata": {
        "colab": {
          "base_uri": "https://localhost:8080/"
        },
        "id": "caJrqAp5hFnc",
        "outputId": "744bc2d1-c9f1-4085-8bd5-9c945889fa56"
      },
      "source": [
        "accuracy2= 100*score[1]\n",
        "print('Test accuracy: %.4f%%' % accuracy2)"
      ],
      "execution_count": null,
      "outputs": [
        {
          "output_type": "stream",
          "text": [
            "Test accuracy: 99.1800%\n"
          ],
          "name": "stdout"
        }
      ]
    },
    {
      "cell_type": "markdown",
      "metadata": {
        "id": "T860ZWALN9no"
      },
      "source": [
        "# Model 3"
      ]
    },
    {
      "cell_type": "code",
      "metadata": {
        "id": "rDxWtkDaOAQA"
      },
      "source": [
        "model3 = Sequential()\n",
        "model3.add(Conv2D(16, kernel_size=(3,3),padding=\"valid\", activation='relu', input_shape=(28,28,1)))\n",
        "model3.add(MaxPooling2D(pool_size=(2, 2)))\n",
        "model3.add(Conv2D(32, kernel_size=(3,3),padding=\"valid\", activation='relu'))\n",
        "model3.add(MaxPooling2D(pool_size=(2, 2)))\n",
        "model3.add(Flatten())\n",
        "model3.add(Dense(128, activation='relu'))\n",
        "model3.add(Dropout(0.4))\n",
        "model3.add(Dense(64, activation='relu'))\n",
        "model3.add(Dense(10, activation='softmax'))"
      ],
      "execution_count": null,
      "outputs": []
    },
    {
      "cell_type": "code",
      "metadata": {
        "colab": {
          "base_uri": "https://localhost:8080/"
        },
        "id": "ng1Mj4hbOFTJ",
        "outputId": "2bce3c20-ddd5-48d5-9b38-523bf726d707"
      },
      "source": [
        "model3.summary()"
      ],
      "execution_count": null,
      "outputs": [
        {
          "output_type": "stream",
          "text": [
            "Model: \"sequential_42\"\n",
            "_________________________________________________________________\n",
            "Layer (type)                 Output Shape              Param #   \n",
            "=================================================================\n",
            "conv2d_129 (Conv2D)          (None, 26, 26, 16)        160       \n",
            "_________________________________________________________________\n",
            "max_pooling2d_129 (MaxPoolin (None, 13, 13, 16)        0         \n",
            "_________________________________________________________________\n",
            "conv2d_130 (Conv2D)          (None, 11, 11, 32)        4640      \n",
            "_________________________________________________________________\n",
            "max_pooling2d_130 (MaxPoolin (None, 5, 5, 32)          0         \n",
            "_________________________________________________________________\n",
            "flatten_39 (Flatten)         (None, 800)               0         \n",
            "_________________________________________________________________\n",
            "dense_133 (Dense)            (None, 128)               102528    \n",
            "_________________________________________________________________\n",
            "dropout_47 (Dropout)         (None, 128)               0         \n",
            "_________________________________________________________________\n",
            "dense_134 (Dense)            (None, 64)                8256      \n",
            "_________________________________________________________________\n",
            "dense_135 (Dense)            (None, 10)                650       \n",
            "=================================================================\n",
            "Total params: 116,234\n",
            "Trainable params: 116,234\n",
            "Non-trainable params: 0\n",
            "_________________________________________________________________\n"
          ],
          "name": "stdout"
        }
      ]
    },
    {
      "cell_type": "code",
      "metadata": {
        "colab": {
          "base_uri": "https://localhost:8080/"
        },
        "id": "Sm_0Kz8rOJlI",
        "outputId": "7da96e69-e621-4004-c276-5885f0973f47"
      },
      "source": [
        "model3.compile(loss=tf.keras.metrics.categorical_crossentropy, optimizer=tf.keras.optimizers.Adam(), metrics=['accuracy'])\n",
        "history3=model3.fit(x_train, y_train, batch_size=128, epochs=20, verbose=1, validation_data=(x_test, y_test))"
      ],
      "execution_count": null,
      "outputs": [
        {
          "output_type": "stream",
          "text": [
            "Epoch 1/20\n",
            "469/469 [==============================] - 3s 5ms/step - loss: 0.3500 - accuracy: 0.8930 - val_loss: 0.0679 - val_accuracy: 0.9794\n",
            "Epoch 2/20\n",
            "469/469 [==============================] - 2s 4ms/step - loss: 0.0956 - accuracy: 0.9710 - val_loss: 0.0457 - val_accuracy: 0.9846\n",
            "Epoch 3/20\n",
            "469/469 [==============================] - 2s 4ms/step - loss: 0.0678 - accuracy: 0.9798 - val_loss: 0.0383 - val_accuracy: 0.9869\n",
            "Epoch 4/20\n",
            "469/469 [==============================] - 2s 4ms/step - loss: 0.0552 - accuracy: 0.9837 - val_loss: 0.0344 - val_accuracy: 0.9885\n",
            "Epoch 5/20\n",
            "469/469 [==============================] - 2s 4ms/step - loss: 0.0479 - accuracy: 0.9856 - val_loss: 0.0301 - val_accuracy: 0.9892\n",
            "Epoch 6/20\n",
            "469/469 [==============================] - 2s 4ms/step - loss: 0.0423 - accuracy: 0.9869 - val_loss: 0.0317 - val_accuracy: 0.9883\n",
            "Epoch 7/20\n",
            "469/469 [==============================] - 2s 4ms/step - loss: 0.0371 - accuracy: 0.9887 - val_loss: 0.0256 - val_accuracy: 0.9907\n",
            "Epoch 8/20\n",
            "469/469 [==============================] - 2s 4ms/step - loss: 0.0328 - accuracy: 0.9894 - val_loss: 0.0272 - val_accuracy: 0.9909\n",
            "Epoch 9/20\n",
            "469/469 [==============================] - 2s 4ms/step - loss: 0.0288 - accuracy: 0.9908 - val_loss: 0.0228 - val_accuracy: 0.9929\n",
            "Epoch 10/20\n",
            "469/469 [==============================] - 2s 4ms/step - loss: 0.0287 - accuracy: 0.9907 - val_loss: 0.0282 - val_accuracy: 0.9913\n",
            "Epoch 11/20\n",
            "469/469 [==============================] - 2s 4ms/step - loss: 0.0258 - accuracy: 0.9915 - val_loss: 0.0250 - val_accuracy: 0.9925\n",
            "Epoch 12/20\n",
            "469/469 [==============================] - 2s 4ms/step - loss: 0.0238 - accuracy: 0.9919 - val_loss: 0.0259 - val_accuracy: 0.9923\n",
            "Epoch 13/20\n",
            "469/469 [==============================] - 2s 4ms/step - loss: 0.0209 - accuracy: 0.9928 - val_loss: 0.0292 - val_accuracy: 0.9923\n",
            "Epoch 14/20\n",
            "469/469 [==============================] - 2s 4ms/step - loss: 0.0214 - accuracy: 0.9930 - val_loss: 0.0277 - val_accuracy: 0.9926\n",
            "Epoch 15/20\n",
            "469/469 [==============================] - 2s 4ms/step - loss: 0.0171 - accuracy: 0.9944 - val_loss: 0.0300 - val_accuracy: 0.9910\n",
            "Epoch 16/20\n",
            "469/469 [==============================] - 2s 4ms/step - loss: 0.0188 - accuracy: 0.9941 - val_loss: 0.0260 - val_accuracy: 0.9929\n",
            "Epoch 17/20\n",
            "469/469 [==============================] - 2s 4ms/step - loss: 0.0157 - accuracy: 0.9947 - val_loss: 0.0316 - val_accuracy: 0.9911\n",
            "Epoch 18/20\n",
            "469/469 [==============================] - 2s 4ms/step - loss: 0.0165 - accuracy: 0.9948 - val_loss: 0.0306 - val_accuracy: 0.9909\n",
            "Epoch 19/20\n",
            "469/469 [==============================] - 2s 4ms/step - loss: 0.0140 - accuracy: 0.9953 - val_loss: 0.0271 - val_accuracy: 0.9930\n",
            "Epoch 20/20\n",
            "469/469 [==============================] - 2s 4ms/step - loss: 0.0144 - accuracy: 0.9949 - val_loss: 0.0345 - val_accuracy: 0.9914\n"
          ],
          "name": "stdout"
        }
      ]
    },
    {
      "cell_type": "code",
      "metadata": {
        "colab": {
          "base_uri": "https://localhost:8080/",
          "height": 663
        },
        "id": "ThvWUdPWOKVZ",
        "outputId": "a2de3b5a-3905-44b0-c5dd-5a21cdd5d77b"
      },
      "source": [
        "pd.DataFrame(history3.history)"
      ],
      "execution_count": null,
      "outputs": [
        {
          "output_type": "execute_result",
          "data": {
            "text/html": [
              "<div>\n",
              "<style scoped>\n",
              "    .dataframe tbody tr th:only-of-type {\n",
              "        vertical-align: middle;\n",
              "    }\n",
              "\n",
              "    .dataframe tbody tr th {\n",
              "        vertical-align: top;\n",
              "    }\n",
              "\n",
              "    .dataframe thead th {\n",
              "        text-align: right;\n",
              "    }\n",
              "</style>\n",
              "<table border=\"1\" class=\"dataframe\">\n",
              "  <thead>\n",
              "    <tr style=\"text-align: right;\">\n",
              "      <th></th>\n",
              "      <th>loss</th>\n",
              "      <th>accuracy</th>\n",
              "      <th>val_loss</th>\n",
              "      <th>val_accuracy</th>\n",
              "    </tr>\n",
              "  </thead>\n",
              "  <tbody>\n",
              "    <tr>\n",
              "      <th>0</th>\n",
              "      <td>0.350014</td>\n",
              "      <td>0.893033</td>\n",
              "      <td>0.067865</td>\n",
              "      <td>0.9794</td>\n",
              "    </tr>\n",
              "    <tr>\n",
              "      <th>1</th>\n",
              "      <td>0.095635</td>\n",
              "      <td>0.971033</td>\n",
              "      <td>0.045678</td>\n",
              "      <td>0.9846</td>\n",
              "    </tr>\n",
              "    <tr>\n",
              "      <th>2</th>\n",
              "      <td>0.067752</td>\n",
              "      <td>0.979833</td>\n",
              "      <td>0.038278</td>\n",
              "      <td>0.9869</td>\n",
              "    </tr>\n",
              "    <tr>\n",
              "      <th>3</th>\n",
              "      <td>0.055159</td>\n",
              "      <td>0.983700</td>\n",
              "      <td>0.034397</td>\n",
              "      <td>0.9885</td>\n",
              "    </tr>\n",
              "    <tr>\n",
              "      <th>4</th>\n",
              "      <td>0.047906</td>\n",
              "      <td>0.985567</td>\n",
              "      <td>0.030096</td>\n",
              "      <td>0.9892</td>\n",
              "    </tr>\n",
              "    <tr>\n",
              "      <th>5</th>\n",
              "      <td>0.042342</td>\n",
              "      <td>0.986917</td>\n",
              "      <td>0.031746</td>\n",
              "      <td>0.9883</td>\n",
              "    </tr>\n",
              "    <tr>\n",
              "      <th>6</th>\n",
              "      <td>0.037080</td>\n",
              "      <td>0.988650</td>\n",
              "      <td>0.025594</td>\n",
              "      <td>0.9907</td>\n",
              "    </tr>\n",
              "    <tr>\n",
              "      <th>7</th>\n",
              "      <td>0.032765</td>\n",
              "      <td>0.989400</td>\n",
              "      <td>0.027206</td>\n",
              "      <td>0.9909</td>\n",
              "    </tr>\n",
              "    <tr>\n",
              "      <th>8</th>\n",
              "      <td>0.028849</td>\n",
              "      <td>0.990800</td>\n",
              "      <td>0.022799</td>\n",
              "      <td>0.9929</td>\n",
              "    </tr>\n",
              "    <tr>\n",
              "      <th>9</th>\n",
              "      <td>0.028710</td>\n",
              "      <td>0.990717</td>\n",
              "      <td>0.028205</td>\n",
              "      <td>0.9913</td>\n",
              "    </tr>\n",
              "    <tr>\n",
              "      <th>10</th>\n",
              "      <td>0.025794</td>\n",
              "      <td>0.991517</td>\n",
              "      <td>0.025035</td>\n",
              "      <td>0.9925</td>\n",
              "    </tr>\n",
              "    <tr>\n",
              "      <th>11</th>\n",
              "      <td>0.023770</td>\n",
              "      <td>0.991900</td>\n",
              "      <td>0.025905</td>\n",
              "      <td>0.9923</td>\n",
              "    </tr>\n",
              "    <tr>\n",
              "      <th>12</th>\n",
              "      <td>0.020914</td>\n",
              "      <td>0.992783</td>\n",
              "      <td>0.029182</td>\n",
              "      <td>0.9923</td>\n",
              "    </tr>\n",
              "    <tr>\n",
              "      <th>13</th>\n",
              "      <td>0.021408</td>\n",
              "      <td>0.993000</td>\n",
              "      <td>0.027698</td>\n",
              "      <td>0.9926</td>\n",
              "    </tr>\n",
              "    <tr>\n",
              "      <th>14</th>\n",
              "      <td>0.017083</td>\n",
              "      <td>0.994383</td>\n",
              "      <td>0.029956</td>\n",
              "      <td>0.9910</td>\n",
              "    </tr>\n",
              "    <tr>\n",
              "      <th>15</th>\n",
              "      <td>0.018786</td>\n",
              "      <td>0.994050</td>\n",
              "      <td>0.026018</td>\n",
              "      <td>0.9929</td>\n",
              "    </tr>\n",
              "    <tr>\n",
              "      <th>16</th>\n",
              "      <td>0.015682</td>\n",
              "      <td>0.994683</td>\n",
              "      <td>0.031599</td>\n",
              "      <td>0.9911</td>\n",
              "    </tr>\n",
              "    <tr>\n",
              "      <th>17</th>\n",
              "      <td>0.016459</td>\n",
              "      <td>0.994767</td>\n",
              "      <td>0.030574</td>\n",
              "      <td>0.9909</td>\n",
              "    </tr>\n",
              "    <tr>\n",
              "      <th>18</th>\n",
              "      <td>0.013992</td>\n",
              "      <td>0.995267</td>\n",
              "      <td>0.027053</td>\n",
              "      <td>0.9930</td>\n",
              "    </tr>\n",
              "    <tr>\n",
              "      <th>19</th>\n",
              "      <td>0.014365</td>\n",
              "      <td>0.994933</td>\n",
              "      <td>0.034509</td>\n",
              "      <td>0.9914</td>\n",
              "    </tr>\n",
              "  </tbody>\n",
              "</table>\n",
              "</div>"
            ],
            "text/plain": [
              "        loss  accuracy  val_loss  val_accuracy\n",
              "0   0.350014  0.893033  0.067865        0.9794\n",
              "1   0.095635  0.971033  0.045678        0.9846\n",
              "2   0.067752  0.979833  0.038278        0.9869\n",
              "3   0.055159  0.983700  0.034397        0.9885\n",
              "4   0.047906  0.985567  0.030096        0.9892\n",
              "5   0.042342  0.986917  0.031746        0.9883\n",
              "6   0.037080  0.988650  0.025594        0.9907\n",
              "7   0.032765  0.989400  0.027206        0.9909\n",
              "8   0.028849  0.990800  0.022799        0.9929\n",
              "9   0.028710  0.990717  0.028205        0.9913\n",
              "10  0.025794  0.991517  0.025035        0.9925\n",
              "11  0.023770  0.991900  0.025905        0.9923\n",
              "12  0.020914  0.992783  0.029182        0.9923\n",
              "13  0.021408  0.993000  0.027698        0.9926\n",
              "14  0.017083  0.994383  0.029956        0.9910\n",
              "15  0.018786  0.994050  0.026018        0.9929\n",
              "16  0.015682  0.994683  0.031599        0.9911\n",
              "17  0.016459  0.994767  0.030574        0.9909\n",
              "18  0.013992  0.995267  0.027053        0.9930\n",
              "19  0.014365  0.994933  0.034509        0.9914"
            ]
          },
          "metadata": {
            "tags": []
          },
          "execution_count": 301
        }
      ]
    },
    {
      "cell_type": "code",
      "metadata": {
        "colab": {
          "base_uri": "https://localhost:8080/",
          "height": 324
        },
        "id": "T9DkwEhwOOPd",
        "outputId": "86216a05-5444-4a2e-99b9-516039df9163"
      },
      "source": [
        "pd.DataFrame(history3.history).plot(figsize=(8, 5))\n",
        "plt.grid(True)\n",
        "plt.gca().set_ylim(0, 1)\n",
        "plt.show()"
      ],
      "execution_count": null,
      "outputs": [
        {
          "output_type": "display_data",
          "data": {
            "image/png": "[encoded data removed]",
            "text/plain": [
              "<Figure size 576x360 with 1 Axes>"
            ]
          },
          "metadata": {
            "tags": [],
            "needs_background": "light"
          }
        }
      ]
    },
    {
      "cell_type": "code",
      "metadata": {
        "colab": {
          "base_uri": "https://localhost:8080/"
        },
        "id": "rgQOWGygOQHS",
        "outputId": "930de72f-bfc4-4ec9-b656-6c4f8a421d8c"
      },
      "source": [
        "score = model3.evaluate(x_test, y_test)"
      ],
      "execution_count": null,
      "outputs": [
        {
          "output_type": "stream",
          "text": [
            "313/313 [==============================] - 1s 3ms/step - loss: 0.0345 - accuracy: 0.9914\n"
          ],
          "name": "stdout"
        }
      ]
    },
    {
      "cell_type": "code",
      "metadata": {
        "colab": {
          "base_uri": "https://localhost:8080/"
        },
        "id": "8wO4mNbMOR4g",
        "outputId": "34df5955-46b2-4805-81f4-c0e06c2d6f32"
      },
      "source": [
        "print('Test Loss:', score[0])\n",
        "print('Test accuracy:', score[1])"
      ],
      "execution_count": null,
      "outputs": [
        {
          "output_type": "stream",
          "text": [
            "Test Loss: 0.03450864180922508\n",
            "Test accuracy: 0.9914000034332275\n"
          ],
          "name": "stdout"
        }
      ]
    },
    {
      "cell_type": "code",
      "metadata": {
        "colab": {
          "base_uri": "https://localhost:8080/"
        },
        "id": "5qZiAnPvgjFX",
        "outputId": "ffd1d1dd-a0ae-4ad4-d293-048394ca64b0"
      },
      "source": [
        "accuracy3 = 100*score[1]\n",
        "print('Test accuracy: %.4f%%' % accuracy3)"
      ],
      "execution_count": null,
      "outputs": [
        {
          "output_type": "stream",
          "text": [
            "Test accuracy: 99.1400%\n"
          ],
          "name": "stdout"
        }
      ]
    },
    {
      "cell_type": "markdown",
      "metadata": {
        "id": "KoC72fQPPHfe"
      },
      "source": [
        "# Model 4"
      ]
    },
    {
      "cell_type": "code",
      "metadata": {
        "id": "JZ0LgPAoPLdp"
      },
      "source": [
        "model4 = Sequential()\n",
        "model4.add(Conv2D(16, kernel_size=(3,3),padding=\"same\", activation='relu', input_shape=(28,28,1)))\n",
        "model4.add(MaxPooling2D(pool_size=(2, 2)))\n",
        "model4.add(Conv2D(32, kernel_size=(3,3),padding=\"same\", activation='relu'))\n",
        "model4.add(MaxPooling2D(pool_size=(2, 2)))\n",
        "model4.add(Conv2D(64, kernel_size=(3,3), padding=\"same\",activation='relu'))\n",
        "model4.add(MaxPooling2D(pool_size=(2, 2)))\n",
        "model4.add(Conv2D(128, kernel_size=(3,3), padding=\"same\",activation='relu'))\n",
        "model4.add(MaxPooling2D(pool_size=(2, 2)))\n",
        "model4.add(Dropout(0.3))\n",
        "model4.add(Flatten())\n",
        "model4.add(Dense(256, activation='relu'))\n",
        "model4.add(Dropout(0.4))\n",
        "model4.add(Dense(64, activation='relu'))\n",
        "model4.add(Dense(10, activation='softmax'))"
      ],
      "execution_count": null,
      "outputs": []
    },
    {
      "cell_type": "code",
      "metadata": {
        "colab": {
          "base_uri": "https://localhost:8080/"
        },
        "id": "vYquv053TVQf",
        "outputId": "a750b3d1-a07b-4c12-987c-3e3bae81ac93"
      },
      "source": [
        "optimizers = tf.keras.optimizers.SGD(lr=0.001, momentum=0.9)"
      ],
      "execution_count": null,
      "outputs": [
        {
          "output_type": "stream",
          "text": [
            "/usr/local/lib/python3.7/dist-packages/tensorflow/python/keras/optimizer_v2/optimizer_v2.py:375: UserWarning: The `lr` argument is deprecated, use `learning_rate` instead.\n",
            "  \"The `lr` argument is deprecated, use `learning_rate` instead.\")\n"
          ],
          "name": "stderr"
        }
      ]
    },
    {
      "cell_type": "code",
      "metadata": {
        "colab": {
          "base_uri": "https://localhost:8080/"
        },
        "id": "6l9ILpr4PXcY",
        "outputId": "1f9c6e35-a5b7-40af-ae14-e80046848f86"
      },
      "source": [
        "model4.compile(loss=tf.keras.metrics.categorical_crossentropy, optimizer=optimizers, metrics=['accuracy'])\n",
        "history4=model4.fit(x_train, y_train, batch_size=128, epochs=20, verbose=1, validation_data=(x_test, y_test))"
      ],
      "execution_count": null,
      "outputs": [
        {
          "output_type": "stream",
          "text": [
            "Epoch 1/20\n",
            "469/469 [==============================] - 3s 6ms/step - loss: 2.2871 - accuracy: 0.1579 - val_loss: 2.2474 - val_accuracy: 0.4186\n",
            "Epoch 2/20\n",
            "469/469 [==============================] - 3s 5ms/step - loss: 2.0062 - accuracy: 0.3688 - val_loss: 0.9045 - val_accuracy: 0.7486\n",
            "Epoch 3/20\n",
            "469/469 [==============================] - 2s 5ms/step - loss: 0.7064 - accuracy: 0.7786 - val_loss: 0.2757 - val_accuracy: 0.9184\n",
            "Epoch 4/20\n",
            "469/469 [==============================] - 3s 5ms/step - loss: 0.3745 - accuracy: 0.8867 - val_loss: 0.1789 - val_accuracy: 0.9465\n",
            "Epoch 5/20\n",
            "469/469 [==============================] - 3s 5ms/step - loss: 0.2736 - accuracy: 0.9179 - val_loss: 0.1442 - val_accuracy: 0.9574\n",
            "Epoch 6/20\n",
            "469/469 [==============================] - 2s 5ms/step - loss: 0.2216 - accuracy: 0.9346 - val_loss: 0.1175 - val_accuracy: 0.9641\n",
            "Epoch 7/20\n",
            "469/469 [==============================] - 2s 5ms/step - loss: 0.1926 - accuracy: 0.9427 - val_loss: 0.1028 - val_accuracy: 0.9677\n",
            "Epoch 8/20\n",
            "469/469 [==============================] - 3s 5ms/step - loss: 0.1720 - accuracy: 0.9485 - val_loss: 0.0921 - val_accuracy: 0.9701\n",
            "Epoch 9/20\n",
            "469/469 [==============================] - 2s 5ms/step - loss: 0.1514 - accuracy: 0.9553 - val_loss: 0.0829 - val_accuracy: 0.9727\n",
            "Epoch 10/20\n",
            "469/469 [==============================] - 2s 5ms/step - loss: 0.1382 - accuracy: 0.9596 - val_loss: 0.0771 - val_accuracy: 0.9743\n",
            "Epoch 11/20\n",
            "469/469 [==============================] - 2s 5ms/step - loss: 0.1285 - accuracy: 0.9612 - val_loss: 0.0741 - val_accuracy: 0.9751\n",
            "Epoch 12/20\n",
            "469/469 [==============================] - 2s 5ms/step - loss: 0.1193 - accuracy: 0.9650 - val_loss: 0.0712 - val_accuracy: 0.9773\n",
            "Epoch 13/20\n",
            "469/469 [==============================] - 2s 5ms/step - loss: 0.1125 - accuracy: 0.9666 - val_loss: 0.0643 - val_accuracy: 0.9785\n",
            "Epoch 14/20\n",
            "469/469 [==============================] - 3s 5ms/step - loss: 0.1081 - accuracy: 0.9679 - val_loss: 0.0620 - val_accuracy: 0.9820\n",
            "Epoch 15/20\n",
            "469/469 [==============================] - 3s 5ms/step - loss: 0.1049 - accuracy: 0.9686 - val_loss: 0.0682 - val_accuracy: 0.9794\n",
            "Epoch 16/20\n",
            "469/469 [==============================] - 2s 5ms/step - loss: 0.0987 - accuracy: 0.9703 - val_loss: 0.0570 - val_accuracy: 0.9826\n",
            "Epoch 17/20\n",
            "469/469 [==============================] - 2s 5ms/step - loss: 0.0950 - accuracy: 0.9718 - val_loss: 0.0574 - val_accuracy: 0.9828\n",
            "Epoch 18/20\n",
            "469/469 [==============================] - 2s 5ms/step - loss: 0.0904 - accuracy: 0.9732 - val_loss: 0.0540 - val_accuracy: 0.9830\n",
            "Epoch 19/20\n",
            "469/469 [==============================] - 3s 5ms/step - loss: 0.0870 - accuracy: 0.9745 - val_loss: 0.0487 - val_accuracy: 0.9851\n",
            "Epoch 20/20\n",
            "469/469 [==============================] - 2s 5ms/step - loss: 0.0843 - accuracy: 0.9751 - val_loss: 0.0550 - val_accuracy: 0.9816\n"
          ],
          "name": "stdout"
        }
      ]
    },
    {
      "cell_type": "code",
      "metadata": {
        "colab": {
          "base_uri": "https://localhost:8080/",
          "height": 663
        },
        "id": "2MOofra5Pd0T",
        "outputId": "5eed3f04-36b9-4528-9b3b-1e507c175e2f"
      },
      "source": [
        "pd.DataFrame(history4.history)"
      ],
      "execution_count": null,
      "outputs": [
        {
          "output_type": "execute_result",
          "data": {
            "text/html": [
              "<div>\n",
              "<style scoped>\n",
              "    .dataframe tbody tr th:only-of-type {\n",
              "        vertical-align: middle;\n",
              "    }\n",
              "\n",
              "    .dataframe tbody tr th {\n",
              "        vertical-align: top;\n",
              "    }\n",
              "\n",
              "    .dataframe thead th {\n",
              "        text-align: right;\n",
              "    }\n",
              "</style>\n",
              "<table border=\"1\" class=\"dataframe\">\n",
              "  <thead>\n",
              "    <tr style=\"text-align: right;\">\n",
              "      <th></th>\n",
              "      <th>loss</th>\n",
              "      <th>accuracy</th>\n",
              "      <th>val_loss</th>\n",
              "      <th>val_accuracy</th>\n",
              "    </tr>\n",
              "  </thead>\n",
              "  <tbody>\n",
              "    <tr>\n",
              "      <th>0</th>\n",
              "      <td>2.287135</td>\n",
              "      <td>0.157933</td>\n",
              "      <td>2.247384</td>\n",
              "      <td>0.4186</td>\n",
              "    </tr>\n",
              "    <tr>\n",
              "      <th>1</th>\n",
              "      <td>2.006152</td>\n",
              "      <td>0.368850</td>\n",
              "      <td>0.904538</td>\n",
              "      <td>0.7486</td>\n",
              "    </tr>\n",
              "    <tr>\n",
              "      <th>2</th>\n",
              "      <td>0.706424</td>\n",
              "      <td>0.778583</td>\n",
              "      <td>0.275656</td>\n",
              "      <td>0.9184</td>\n",
              "    </tr>\n",
              "    <tr>\n",
              "      <th>3</th>\n",
              "      <td>0.374503</td>\n",
              "      <td>0.886750</td>\n",
              "      <td>0.178895</td>\n",
              "      <td>0.9465</td>\n",
              "    </tr>\n",
              "    <tr>\n",
              "      <th>4</th>\n",
              "      <td>0.273593</td>\n",
              "      <td>0.917900</td>\n",
              "      <td>0.144162</td>\n",
              "      <td>0.9574</td>\n",
              "    </tr>\n",
              "    <tr>\n",
              "      <th>5</th>\n",
              "      <td>0.221632</td>\n",
              "      <td>0.934600</td>\n",
              "      <td>0.117539</td>\n",
              "      <td>0.9641</td>\n",
              "    </tr>\n",
              "    <tr>\n",
              "      <th>6</th>\n",
              "      <td>0.192596</td>\n",
              "      <td>0.942700</td>\n",
              "      <td>0.102842</td>\n",
              "      <td>0.9677</td>\n",
              "    </tr>\n",
              "    <tr>\n",
              "      <th>7</th>\n",
              "      <td>0.172022</td>\n",
              "      <td>0.948500</td>\n",
              "      <td>0.092053</td>\n",
              "      <td>0.9701</td>\n",
              "    </tr>\n",
              "    <tr>\n",
              "      <th>8</th>\n",
              "      <td>0.151360</td>\n",
              "      <td>0.955267</td>\n",
              "      <td>0.082861</td>\n",
              "      <td>0.9727</td>\n",
              "    </tr>\n",
              "    <tr>\n",
              "      <th>9</th>\n",
              "      <td>0.138205</td>\n",
              "      <td>0.959550</td>\n",
              "      <td>0.077136</td>\n",
              "      <td>0.9743</td>\n",
              "    </tr>\n",
              "    <tr>\n",
              "      <th>10</th>\n",
              "      <td>0.128521</td>\n",
              "      <td>0.961167</td>\n",
              "      <td>0.074128</td>\n",
              "      <td>0.9751</td>\n",
              "    </tr>\n",
              "    <tr>\n",
              "      <th>11</th>\n",
              "      <td>0.119327</td>\n",
              "      <td>0.964967</td>\n",
              "      <td>0.071169</td>\n",
              "      <td>0.9773</td>\n",
              "    </tr>\n",
              "    <tr>\n",
              "      <th>12</th>\n",
              "      <td>0.112460</td>\n",
              "      <td>0.966567</td>\n",
              "      <td>0.064346</td>\n",
              "      <td>0.9785</td>\n",
              "    </tr>\n",
              "    <tr>\n",
              "      <th>13</th>\n",
              "      <td>0.108146</td>\n",
              "      <td>0.967917</td>\n",
              "      <td>0.062019</td>\n",
              "      <td>0.9820</td>\n",
              "    </tr>\n",
              "    <tr>\n",
              "      <th>14</th>\n",
              "      <td>0.104902</td>\n",
              "      <td>0.968633</td>\n",
              "      <td>0.068226</td>\n",
              "      <td>0.9794</td>\n",
              "    </tr>\n",
              "    <tr>\n",
              "      <th>15</th>\n",
              "      <td>0.098719</td>\n",
              "      <td>0.970300</td>\n",
              "      <td>0.057010</td>\n",
              "      <td>0.9826</td>\n",
              "    </tr>\n",
              "    <tr>\n",
              "      <th>16</th>\n",
              "      <td>0.094965</td>\n",
              "      <td>0.971850</td>\n",
              "      <td>0.057417</td>\n",
              "      <td>0.9828</td>\n",
              "    </tr>\n",
              "    <tr>\n",
              "      <th>17</th>\n",
              "      <td>0.090421</td>\n",
              "      <td>0.973200</td>\n",
              "      <td>0.053955</td>\n",
              "      <td>0.9830</td>\n",
              "    </tr>\n",
              "    <tr>\n",
              "      <th>18</th>\n",
              "      <td>0.087035</td>\n",
              "      <td>0.974483</td>\n",
              "      <td>0.048678</td>\n",
              "      <td>0.9851</td>\n",
              "    </tr>\n",
              "    <tr>\n",
              "      <th>19</th>\n",
              "      <td>0.084277</td>\n",
              "      <td>0.975100</td>\n",
              "      <td>0.055021</td>\n",
              "      <td>0.9816</td>\n",
              "    </tr>\n",
              "  </tbody>\n",
              "</table>\n",
              "</div>"
            ],
            "text/plain": [
              "        loss  accuracy  val_loss  val_accuracy\n",
              "0   2.287135  0.157933  2.247384        0.4186\n",
              "1   2.006152  0.368850  0.904538        0.7486\n",
              "2   0.706424  0.778583  0.275656        0.9184\n",
              "3   0.374503  0.886750  0.178895        0.9465\n",
              "4   0.273593  0.917900  0.144162        0.9574\n",
              "5   0.221632  0.934600  0.117539        0.9641\n",
              "6   0.192596  0.942700  0.102842        0.9677\n",
              "7   0.172022  0.948500  0.092053        0.9701\n",
              "8   0.151360  0.955267  0.082861        0.9727\n",
              "9   0.138205  0.959550  0.077136        0.9743\n",
              "10  0.128521  0.961167  0.074128        0.9751\n",
              "11  0.119327  0.964967  0.071169        0.9773\n",
              "12  0.112460  0.966567  0.064346        0.9785\n",
              "13  0.108146  0.967917  0.062019        0.9820\n",
              "14  0.104902  0.968633  0.068226        0.9794\n",
              "15  0.098719  0.970300  0.057010        0.9826\n",
              "16  0.094965  0.971850  0.057417        0.9828\n",
              "17  0.090421  0.973200  0.053955        0.9830\n",
              "18  0.087035  0.974483  0.048678        0.9851\n",
              "19  0.084277  0.975100  0.055021        0.9816"
            ]
          },
          "metadata": {
            "tags": []
          },
          "execution_count": 309
        }
      ]
    },
    {
      "cell_type": "code",
      "metadata": {
        "colab": {
          "base_uri": "https://localhost:8080/",
          "height": 324
        },
        "id": "og_VJE76PPyX",
        "outputId": "54d2d116-47f6-430f-f258-cf015aaa34f2"
      },
      "source": [
        "pd.DataFrame(history4.history).plot(figsize=(8, 5))\n",
        "plt.grid(True)\n",
        "plt.gca().set_ylim(0, 1)\n",
        "plt.show()"
      ],
      "execution_count": null,
      "outputs": [
        {
          "output_type": "display_data",
          "data": {
            "image/png": "[encoded data removed]",
            "text/plain": [
              "<Figure size 576x360 with 1 Axes>"
            ]
          },
          "metadata": {
            "tags": [],
            "needs_background": "light"
          }
        }
      ]
    },
    {
      "cell_type": "code",
      "metadata": {
        "colab": {
          "base_uri": "https://localhost:8080/"
        },
        "id": "XYcXplRsPgT2",
        "outputId": "12743c8c-f565-427a-d063-f6e31c332a4e"
      },
      "source": [
        "score = model4.evaluate(x_test, y_test)"
      ],
      "execution_count": null,
      "outputs": [
        {
          "output_type": "stream",
          "text": [
            "313/313 [==============================] - 1s 2ms/step - loss: 0.0550 - accuracy: 0.9816\n"
          ],
          "name": "stdout"
        }
      ]
    },
    {
      "cell_type": "code",
      "metadata": {
        "colab": {
          "base_uri": "https://localhost:8080/"
        },
        "id": "g658Zi5IPiNA",
        "outputId": "800dcb2c-6d7e-4da6-bc9c-5de995130183"
      },
      "source": [
        "print('Test Loss:', score[0])\n",
        "print('Test accuracy:', score[1])"
      ],
      "execution_count": null,
      "outputs": [
        {
          "output_type": "stream",
          "text": [
            "Test Loss: 2.3025221824645996\n",
            "Test accuracy: 0.11559999734163284\n"
          ],
          "name": "stdout"
        }
      ]
    },
    {
      "cell_type": "code",
      "metadata": {
        "colab": {
          "base_uri": "https://localhost:8080/"
        },
        "id": "wlAp29NDhKE-",
        "outputId": "1411fa93-a1c7-4994-cb9e-cab51f5d0f6a"
      },
      "source": [
        "accuracy4 = 100*score[1]\n",
        "print('Test accuracy: %.4f%%' % accuracy4)"
      ],
      "execution_count": null,
      "outputs": [
        {
          "output_type": "stream",
          "text": [
            "Test accuracy: 98.1600%\n"
          ],
          "name": "stdout"
        }
      ]
    },
    {
      "cell_type": "markdown",
      "metadata": {
        "id": "WYmfT34iQnse"
      },
      "source": [
        "# Model 5"
      ]
    },
    {
      "cell_type": "code",
      "metadata": {
        "id": "psrVhbrKQqfs"
      },
      "source": [
        "model5 = Sequential()\n",
        "model5.add(Conv2D(32, kernel_size=(3,3),padding=\"same\", activation='relu',input_shape=(28,28,1)))\n",
        "model5.add(MaxPooling2D(pool_size=(2, 2)))\n",
        "model5.add(Conv2D(64, kernel_size=(3,3), padding=\"same\",activation='relu'))\n",
        "model5.add(MaxPooling2D(pool_size=(2, 2)))\n",
        "model5.add(Flatten())\n",
        "model5.add(Dense(64, activation='relu'))\n",
        "model5.add(Dense(10, activation='softmax'))"
      ],
      "execution_count": null,
      "outputs": []
    },
    {
      "cell_type": "code",
      "metadata": {
        "colab": {
          "base_uri": "https://localhost:8080/"
        },
        "id": "HCD10HJlQvXr",
        "outputId": "d93aad8e-1555-4f1f-86db-be1351bbcc64"
      },
      "source": [
        "model5.compile(loss=tf.keras.metrics.categorical_crossentropy, optimizer='rmsprop', metrics=['accuracy'])\n",
        "history5=model5.fit(x_train, y_train, batch_size=128, epochs=20, verbose=1, validation_data=(x_test, y_test))"
      ],
      "execution_count": null,
      "outputs": [
        {
          "output_type": "stream",
          "text": [
            "Epoch 1/20\n",
            "469/469 [==============================] - 34s 6ms/step - loss: 0.2190 - accuracy: 0.9313 - val_loss: 0.0519 - val_accuracy: 0.9827\n",
            "Epoch 2/20\n",
            "469/469 [==============================] - 3s 5ms/step - loss: 0.0550 - accuracy: 0.9829 - val_loss: 0.0423 - val_accuracy: 0.9868\n",
            "Epoch 3/20\n",
            "469/469 [==============================] - 3s 5ms/step - loss: 0.0380 - accuracy: 0.9883 - val_loss: 0.0349 - val_accuracy: 0.9884\n",
            "Epoch 4/20\n",
            "469/469 [==============================] - 3s 5ms/step - loss: 0.0278 - accuracy: 0.9913 - val_loss: 0.0282 - val_accuracy: 0.9897\n",
            "Epoch 5/20\n",
            "469/469 [==============================] - 3s 5ms/step - loss: 0.0218 - accuracy: 0.9933 - val_loss: 0.0262 - val_accuracy: 0.9913\n",
            "Epoch 6/20\n",
            "469/469 [==============================] - 3s 5ms/step - loss: 0.0173 - accuracy: 0.9945 - val_loss: 0.0303 - val_accuracy: 0.9909\n",
            "Epoch 7/20\n",
            "469/469 [==============================] - 3s 6ms/step - loss: 0.0127 - accuracy: 0.9961 - val_loss: 0.0291 - val_accuracy: 0.9914\n",
            "Epoch 8/20\n",
            "469/469 [==============================] - 3s 5ms/step - loss: 0.0110 - accuracy: 0.9968 - val_loss: 0.0310 - val_accuracy: 0.9905\n",
            "Epoch 9/20\n",
            "469/469 [==============================] - 3s 5ms/step - loss: 0.0081 - accuracy: 0.9974 - val_loss: 0.0329 - val_accuracy: 0.9918\n",
            "Epoch 10/20\n",
            "469/469 [==============================] - 3s 5ms/step - loss: 0.0074 - accuracy: 0.9978 - val_loss: 0.0309 - val_accuracy: 0.9907\n",
            "Epoch 11/20\n",
            "469/469 [==============================] - 2s 5ms/step - loss: 0.0057 - accuracy: 0.9983 - val_loss: 0.0343 - val_accuracy: 0.9902\n",
            "Epoch 12/20\n",
            "469/469 [==============================] - 3s 6ms/step - loss: 0.0049 - accuracy: 0.9986 - val_loss: 0.0308 - val_accuracy: 0.9929\n",
            "Epoch 13/20\n",
            "469/469 [==============================] - 3s 5ms/step - loss: 0.0040 - accuracy: 0.9989 - val_loss: 0.0354 - val_accuracy: 0.9904\n",
            "Epoch 14/20\n",
            "469/469 [==============================] - 3s 5ms/step - loss: 0.0034 - accuracy: 0.9990 - val_loss: 0.0437 - val_accuracy: 0.9901\n",
            "Epoch 15/20\n",
            "469/469 [==============================] - 3s 5ms/step - loss: 0.0028 - accuracy: 0.9992 - val_loss: 0.0459 - val_accuracy: 0.9898\n",
            "Epoch 16/20\n",
            "469/469 [==============================] - 3s 6ms/step - loss: 0.0026 - accuracy: 0.9992 - val_loss: 0.0403 - val_accuracy: 0.9908\n",
            "Epoch 17/20\n",
            "469/469 [==============================] - 3s 6ms/step - loss: 0.0022 - accuracy: 0.9993 - val_loss: 0.0403 - val_accuracy: 0.9908\n",
            "Epoch 18/20\n",
            "469/469 [==============================] - 3s 6ms/step - loss: 0.0019 - accuracy: 0.9993 - val_loss: 0.0431 - val_accuracy: 0.9910\n",
            "Epoch 19/20\n",
            "469/469 [==============================] - 3s 6ms/step - loss: 0.0018 - accuracy: 0.9995 - val_loss: 0.0505 - val_accuracy: 0.9909\n",
            "Epoch 20/20\n",
            "469/469 [==============================] - 3s 6ms/step - loss: 0.0015 - accuracy: 0.9995 - val_loss: 0.0560 - val_accuracy: 0.9904\n"
          ],
          "name": "stdout"
        }
      ]
    },
    {
      "cell_type": "code",
      "metadata": {
        "colab": {
          "base_uri": "https://localhost:8080/",
          "height": 663
        },
        "id": "Nk9GokVsQwGM",
        "outputId": "68f7b7b3-8ec6-4f03-93bc-6b3413c0af8d"
      },
      "source": [
        "pd.DataFrame(history5.history)"
      ],
      "execution_count": null,
      "outputs": [
        {
          "output_type": "execute_result",
          "data": {
            "text/html": [
              "<div>\n",
              "<style scoped>\n",
              "    .dataframe tbody tr th:only-of-type {\n",
              "        vertical-align: middle;\n",
              "    }\n",
              "\n",
              "    .dataframe tbody tr th {\n",
              "        vertical-align: top;\n",
              "    }\n",
              "\n",
              "    .dataframe thead th {\n",
              "        text-align: right;\n",
              "    }\n",
              "</style>\n",
              "<table border=\"1\" class=\"dataframe\">\n",
              "  <thead>\n",
              "    <tr style=\"text-align: right;\">\n",
              "      <th></th>\n",
              "      <th>loss</th>\n",
              "      <th>accuracy</th>\n",
              "      <th>val_loss</th>\n",
              "      <th>val_accuracy</th>\n",
              "    </tr>\n",
              "  </thead>\n",
              "  <tbody>\n",
              "    <tr>\n",
              "      <th>0</th>\n",
              "      <td>0.219050</td>\n",
              "      <td>0.931267</td>\n",
              "      <td>0.051948</td>\n",
              "      <td>0.9827</td>\n",
              "    </tr>\n",
              "    <tr>\n",
              "      <th>1</th>\n",
              "      <td>0.055045</td>\n",
              "      <td>0.982950</td>\n",
              "      <td>0.042285</td>\n",
              "      <td>0.9868</td>\n",
              "    </tr>\n",
              "    <tr>\n",
              "      <th>2</th>\n",
              "      <td>0.037989</td>\n",
              "      <td>0.988283</td>\n",
              "      <td>0.034863</td>\n",
              "      <td>0.9884</td>\n",
              "    </tr>\n",
              "    <tr>\n",
              "      <th>3</th>\n",
              "      <td>0.027798</td>\n",
              "      <td>0.991317</td>\n",
              "      <td>0.028152</td>\n",
              "      <td>0.9897</td>\n",
              "    </tr>\n",
              "    <tr>\n",
              "      <th>4</th>\n",
              "      <td>0.021761</td>\n",
              "      <td>0.993250</td>\n",
              "      <td>0.026193</td>\n",
              "      <td>0.9913</td>\n",
              "    </tr>\n",
              "    <tr>\n",
              "      <th>5</th>\n",
              "      <td>0.017350</td>\n",
              "      <td>0.994500</td>\n",
              "      <td>0.030338</td>\n",
              "      <td>0.9909</td>\n",
              "    </tr>\n",
              "    <tr>\n",
              "      <th>6</th>\n",
              "      <td>0.012662</td>\n",
              "      <td>0.996050</td>\n",
              "      <td>0.029142</td>\n",
              "      <td>0.9914</td>\n",
              "    </tr>\n",
              "    <tr>\n",
              "      <th>7</th>\n",
              "      <td>0.010977</td>\n",
              "      <td>0.996783</td>\n",
              "      <td>0.030979</td>\n",
              "      <td>0.9905</td>\n",
              "    </tr>\n",
              "    <tr>\n",
              "      <th>8</th>\n",
              "      <td>0.008125</td>\n",
              "      <td>0.997450</td>\n",
              "      <td>0.032905</td>\n",
              "      <td>0.9918</td>\n",
              "    </tr>\n",
              "    <tr>\n",
              "      <th>9</th>\n",
              "      <td>0.007443</td>\n",
              "      <td>0.997767</td>\n",
              "      <td>0.030878</td>\n",
              "      <td>0.9907</td>\n",
              "    </tr>\n",
              "    <tr>\n",
              "      <th>10</th>\n",
              "      <td>0.005685</td>\n",
              "      <td>0.998300</td>\n",
              "      <td>0.034283</td>\n",
              "      <td>0.9902</td>\n",
              "    </tr>\n",
              "    <tr>\n",
              "      <th>11</th>\n",
              "      <td>0.004881</td>\n",
              "      <td>0.998567</td>\n",
              "      <td>0.030802</td>\n",
              "      <td>0.9929</td>\n",
              "    </tr>\n",
              "    <tr>\n",
              "      <th>12</th>\n",
              "      <td>0.003989</td>\n",
              "      <td>0.998917</td>\n",
              "      <td>0.035356</td>\n",
              "      <td>0.9904</td>\n",
              "    </tr>\n",
              "    <tr>\n",
              "      <th>13</th>\n",
              "      <td>0.003390</td>\n",
              "      <td>0.998967</td>\n",
              "      <td>0.043685</td>\n",
              "      <td>0.9901</td>\n",
              "    </tr>\n",
              "    <tr>\n",
              "      <th>14</th>\n",
              "      <td>0.002826</td>\n",
              "      <td>0.999250</td>\n",
              "      <td>0.045856</td>\n",
              "      <td>0.9898</td>\n",
              "    </tr>\n",
              "    <tr>\n",
              "      <th>15</th>\n",
              "      <td>0.002571</td>\n",
              "      <td>0.999250</td>\n",
              "      <td>0.040325</td>\n",
              "      <td>0.9908</td>\n",
              "    </tr>\n",
              "    <tr>\n",
              "      <th>16</th>\n",
              "      <td>0.002208</td>\n",
              "      <td>0.999300</td>\n",
              "      <td>0.040327</td>\n",
              "      <td>0.9908</td>\n",
              "    </tr>\n",
              "    <tr>\n",
              "      <th>17</th>\n",
              "      <td>0.001891</td>\n",
              "      <td>0.999317</td>\n",
              "      <td>0.043107</td>\n",
              "      <td>0.9910</td>\n",
              "    </tr>\n",
              "    <tr>\n",
              "      <th>18</th>\n",
              "      <td>0.001763</td>\n",
              "      <td>0.999517</td>\n",
              "      <td>0.050454</td>\n",
              "      <td>0.9909</td>\n",
              "    </tr>\n",
              "    <tr>\n",
              "      <th>19</th>\n",
              "      <td>0.001516</td>\n",
              "      <td>0.999483</td>\n",
              "      <td>0.055994</td>\n",
              "      <td>0.9904</td>\n",
              "    </tr>\n",
              "  </tbody>\n",
              "</table>\n",
              "</div>"
            ],
            "text/plain": [
              "        loss  accuracy  val_loss  val_accuracy\n",
              "0   0.219050  0.931267  0.051948        0.9827\n",
              "1   0.055045  0.982950  0.042285        0.9868\n",
              "2   0.037989  0.988283  0.034863        0.9884\n",
              "3   0.027798  0.991317  0.028152        0.9897\n",
              "4   0.021761  0.993250  0.026193        0.9913\n",
              "5   0.017350  0.994500  0.030338        0.9909\n",
              "6   0.012662  0.996050  0.029142        0.9914\n",
              "7   0.010977  0.996783  0.030979        0.9905\n",
              "8   0.008125  0.997450  0.032905        0.9918\n",
              "9   0.007443  0.997767  0.030878        0.9907\n",
              "10  0.005685  0.998300  0.034283        0.9902\n",
              "11  0.004881  0.998567  0.030802        0.9929\n",
              "12  0.003989  0.998917  0.035356        0.9904\n",
              "13  0.003390  0.998967  0.043685        0.9901\n",
              "14  0.002826  0.999250  0.045856        0.9898\n",
              "15  0.002571  0.999250  0.040325        0.9908\n",
              "16  0.002208  0.999300  0.040327        0.9908\n",
              "17  0.001891  0.999317  0.043107        0.9910\n",
              "18  0.001763  0.999517  0.050454        0.9909\n",
              "19  0.001516  0.999483  0.055994        0.9904"
            ]
          },
          "metadata": {
            "tags": []
          },
          "execution_count": 9
        }
      ]
    },
    {
      "cell_type": "code",
      "metadata": {
        "colab": {
          "base_uri": "https://localhost:8080/",
          "height": 324
        },
        "id": "4Ugo2siIQyxb",
        "outputId": "fb15e2fc-9ae7-4b11-edd6-141efd396a6b"
      },
      "source": [
        "pd.DataFrame(history5.history).plot(figsize=(8, 5))\n",
        "plt.grid(True)\n",
        "plt.gca().set_ylim(0, 1)\n",
        "plt.show()"
      ],
      "execution_count": null,
      "outputs": [
        {
          "output_type": "display_data",
          "data": {
            "image/png": "[encoded data removed]",
            "text/plain": [
              "<Figure size 576x360 with 1 Axes>"
            ]
          },
          "metadata": {
            "tags": [],
            "needs_background": "light"
          }
        }
      ]
    },
    {
      "cell_type": "code",
      "metadata": {
        "colab": {
          "base_uri": "https://localhost:8080/"
        },
        "id": "OWwEFl0vQ0sE",
        "outputId": "ae9ed41b-263e-425d-d1bc-988363b8b740"
      },
      "source": [
        "score5 = model5.evaluate(x_test, y_test)"
      ],
      "execution_count": null,
      "outputs": [
        {
          "output_type": "stream",
          "text": [
            "313/313 [==============================] - 1s 2ms/step - loss: 0.0560 - accuracy: 0.9904\n"
          ],
          "name": "stdout"
        }
      ]
    },
    {
      "cell_type": "code",
      "metadata": {
        "colab": {
          "base_uri": "https://localhost:8080/"
        },
        "id": "GItOLd3iQ26K",
        "outputId": "65a19746-801e-4e11-c31e-a04560ee25da"
      },
      "source": [
        "print('Test Loss:', score5[0])\n",
        "print('Test accuracy:', score5[1])"
      ],
      "execution_count": null,
      "outputs": [
        {
          "output_type": "stream",
          "text": [
            "Test Loss: 0.05599365383386612\n",
            "Test accuracy: 0.9904000163078308\n"
          ],
          "name": "stdout"
        }
      ]
    },
    {
      "cell_type": "code",
      "metadata": {
        "colab": {
          "base_uri": "https://localhost:8080/"
        },
        "id": "Yo0K6ZY1fBm3",
        "outputId": "a1407278-727d-40ec-f971-81a6cbe20175"
      },
      "source": [
        "accuracy5 = 100*score5[1]\n",
        "print('Test accuracy: %.4f%%' % accuracy5)"
      ],
      "execution_count": null,
      "outputs": [
        {
          "output_type": "stream",
          "text": [
            "Test accuracy: 99.0400%\n"
          ],
          "name": "stdout"
        }
      ]
    },
    {
      "cell_type": "markdown",
      "metadata": {
        "id": "GnttvE16VCBl"
      },
      "source": [
        "# Comparison chart"
      ]
    },
    {
      "cell_type": "markdown",
      "metadata": {
        "id": "Bm4-zPSyhDb1"
      },
      "source": [
        "![image.png](data:image/png;base64,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)"
      ]
    }
  ]
}